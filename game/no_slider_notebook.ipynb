{
 "metadata": {
  "name": "",
  "signature": "sha256:ec52089794bcd7d5caa2eb99b4b7f77fc36a33df30eec24998671dabda431fa7"
 },
 "nbformat": 3,
 "nbformat_minor": 0,
 "worksheets": [
  {
   "cells": [
    {
     "cell_type": "code",
     "collapsed": false,
     "input": [
      "%matplotlib inline"
     ],
     "language": "python",
     "outputs": [],
     "prompt_number": 358
    },
    {
     "cell_type": "code",
     "collapsed": false,
     "input": [
      "import math\n",
      "import matplotlib as mpl\n",
      "\n",
      "import numpy as np\n",
      "import matplotlib.pyplot as plt\n",
      "from mpl_toolkits.mplot3d import Axes3D\n",
      "from scipy import stats\n",
      "\n",
      "import parser\n",
      "import networkx as nx\n",
      "import re\n",
      "import copy"
     ],
     "language": "python",
     "outputs": [],
     "prompt_number": 359
    },
    {
     "cell_type": "code",
     "collapsed": false,
     "input": [
      "import django\n",
      "django.setup()\n",
      "\n",
      "from graph.models import *"
     ],
     "language": "python",
     "outputs": [],
     "prompt_number": 360
    },
    {
     "cell_type": "code",
     "collapsed": false,
     "input": [
      "mpl.rcParams['axes.labelcolor'] = 'k'\n",
      "mpl.rcParams['xtick.color'] = 'k'\n",
      "mpl.rcParams['ytick.color'] = 'k'\n",
      "mpl.rcParams['text.usetex'] = True"
     ],
     "language": "python",
     "outputs": [],
     "prompt_number": 368
    },
    {
     "cell_type": "code",
     "collapsed": false,
     "input": [
      "def evalFunc(func, xVal):\n",
      "    x = xVal\n",
      "    return eval(func)"
     ],
     "language": "python",
     "outputs": [],
     "prompt_number": 362
    },
    {
     "cell_type": "code",
     "collapsed": false,
     "input": [
      "g = Game.objects.all()[0]\n",
      "p1 = g.player_set.all()[0]\n",
      "turn = GameTurn.objects.all()[0]\n",
      "t1 = GameTurn.objects.all()[0]\n",
      "fd = FlowDistribution.objects.get(player=p1, turn=t1)\n",
      "pa = fd.path_assignments.all()\n",
      "pfa = pa.all()[0]\n",
      "e1 = pfa.path.edges.all()[0]\n",
      "path_ids = list(Path.objects.filter(player_model=p1.player_model).values_list('id', flat=True))\n",
      "current_flows = None"
     ],
     "language": "python",
     "outputs": [],
     "prompt_number": 363
    },
    {
     "cell_type": "code",
     "collapsed": false,
     "input": [
      "def get_bar_values(game, player, turn_iteration):\n",
      "    path_ids = list(Path.objects.filter(player_model=player.player_model).values_list('id', flat=True))\n",
      "\n",
      "    turn = GameTurn.objects.get(game=game, iteration=turn_iteration)\n",
      "    next_turn = GameTurn.objects.get(game=game, iteration=turn_iteration+1)\n",
      "\n",
      "    fd = FlowDistribution.objects.get(player=player, turn=turn)\n",
      "    fd_next = FlowDistribution.objects.get(player=player, turn=next_turn)\n",
      "\n",
      "    e_costs = turn.graph_cost.edge_costs\n",
      "\n",
      "    current_flows = np.array([])\n",
      "    current_costs = np.array([])\n",
      "    next_flows = np.array([])\n",
      "    \n",
      "    for p_id in path_ids:\n",
      "        path = Path.objects.get(id=p_id)\n",
      "\n",
      "        flow = fd.path_assignments.get(path=path).flow\n",
      "        current_flows = np.append(current_flows, flow)\n",
      "\n",
      "        next_flows = np.append(next_flows, fd_next.path_assignments.get(path=path).flow)\n",
      "\n",
      "        path_cost = 0\n",
      "        for e in path.edges.all():\n",
      "            path_cost += e_costs.get(edge=e).cost\n",
      "\n",
      "        current_costs = np.append(current_costs, path_cost)\n",
      "\n",
      "    return current_flows, current_costs, next_flows"
     ],
     "language": "python",
     "outputs": [],
     "prompt_number": 364
    },
    {
     "cell_type": "code",
     "collapsed": false,
     "input": [
      "def get_user_costs():\n",
      "    game = Game.objects.all()[0]\n",
      "    players = Player.objects.all()\n",
      "\n",
      "    current_costs = dict()\n",
      "    cumulative_costs = dict()\n",
      "\n",
      "    for player in players:\n",
      "        username = player.user.username\n",
      "        paths = Path.objects.filter(player_model=player.player_model)\n",
      "        # path_assignments = player.flow_distribution.path_assignments\n",
      "        cumulative_cost = 0\n",
      "        normalization_const = player.player_model.normalization_const\n",
      "        for turn in game.turns.all().order_by('iteration'):\n",
      "            # if turn.iteration == 0:\n",
      "            #     continue\n",
      "\n",
      "            path_assignments = FlowDistribution.objects.get(turn=turn,\n",
      "                                                            player=player).path_assignments\n",
      "            # path_assignments = turn.flow_distributions.get(username=username).path_assignments\n",
      "            e_costs = turn.graph_cost.edge_costs\n",
      "            current_cost = 0\n",
      "            if player.user.username not in current_costs:\n",
      "                current_costs[player.user.username] = []\n",
      "                cumulative_costs[player.user.username] = []\n",
      "\n",
      "            for path in paths:\n",
      "                flow = path_assignments.get(path=path).flow\n",
      "                current_path_cost = 0\n",
      "                for e in path.edges.all():\n",
      "                    current_path_cost += e_costs.get(edge=e).cost\n",
      "                current_cost += (current_path_cost) * flow\n",
      "\n",
      "            cumulative_cost += current_cost\n",
      "            current_costs[player.user.username].append(current_cost/normalization_const)\n",
      "            cumulative_costs[player.user.username].append(cumulative_cost/normalization_const)\n",
      "\n",
      "    response = dict()\n",
      "    response['started'] = game.started\n",
      "    response['current_costs'] = current_costs\n",
      "    response['cumulative_costs'] =  cumulative_costs\n",
      "    return cumulative_costs, current_costs"
     ],
     "language": "python",
     "outputs": [],
     "prompt_number": 365
    },
    {
     "cell_type": "code",
     "collapsed": false,
     "input": [
      "players_cumulative_costs, players_current_costs = get_user_costs()"
     ],
     "language": "python",
     "outputs": [],
     "prompt_number": 366
    },
    {
     "cell_type": "code",
     "collapsed": false,
     "input": [
      "for k in players_current_costs.keys():\n",
      "    plt.plot(range(len(players_current_costs[k])), players_current_costs[k])\n",
      "\n",
      "plt.xlabel('Game iteration')\n",
      "plt.ylabel('Players turn cost')\n",
      "plt.title('Players turn cost no slider version')\n",
      "plt.savefig('../paper/images/no_slider_players_costs.png')"
     ],
     "language": "python",
     "outputs": [
      {
       "output_type": "display_data",
       "png": "[encoded data removed]",
       "text": [
        "<matplotlib.figure.Figure at 0x10eaaf390>"
       ]
      }
     ],
     "prompt_number": 367
    },
    {
     "cell_type": "code",
     "collapsed": false,
     "input": [
      "epsilon = 0.00000001\n",
      "\n",
      "gradients = []\n",
      "\n",
      "player_etas = []\n",
      "\n",
      "for p in Player.objects.all():\n",
      "    etas = []\n",
      "    for turn, next_turn in zip(GameTurn.objects.all(), GameTurn.objects.all()[1:]):\n",
      "        if next_turn.graph_cost is None:\n",
      "            continue\n",
      "\n",
      "        current_flows, current_costs, next_flows = get_bar_values(g, p, turn.iteration)\n",
      "\n",
      "        eta = 0.0\n",
      "\n",
      "        max_iteration = 300\n",
      "        gradient = 1.0\n",
      "        i = 1\n",
      "        while abs(gradient) > 1E-4 and abs(eta) < 2:\n",
      "            normalization = np.sum(current_flows*np.exp(-eta*current_costs))\n",
      "\n",
      "            if normalization < 1E-15:\n",
      "                print 'NORMALIZATION IS ZERO'\n",
      "                # print normalization\n",
      "                # print current_costs\n",
      "                print current_flows\n",
      "\n",
      "            x_i_sum = np.sum(current_costs*((current_flows*np.exp(-eta*current_costs))/normalization))\n",
      "\n",
      "            x_i_bar_sum = np.dot(next_flows, current_costs)\n",
      "\n",
      "            gradient = x_i_bar_sum - x_i_sum\n",
      "\n",
      "            eta = eta - gradient/(10)\n",
      "            i += 1\n",
      "\n",
      "        etas.append(eta)\n",
      "        gradients.append(gradient)\n",
      "        print turn.iteration\n",
      "    player_etas.append(etas)\n",
      "\n",
      "gradients = np.array(gradients)\n",
      "# etas = np.array(etas)"
     ],
     "language": "python",
     "outputs": [
      {
       "output_type": "stream",
       "stream": "stdout",
       "text": [
        "0\n",
        "1"
       ]
      },
      {
       "output_type": "stream",
       "stream": "stdout",
       "text": [
        "\n",
        "2"
       ]
      },
      {
       "output_type": "stream",
       "stream": "stdout",
       "text": [
        "\n",
        "3"
       ]
      },
      {
       "output_type": "stream",
       "stream": "stdout",
       "text": [
        "\n",
        "4"
       ]
      },
      {
       "output_type": "stream",
       "stream": "stdout",
       "text": [
        "\n",
        "5"
       ]
      },
      {
       "output_type": "stream",
       "stream": "stdout",
       "text": [
        "\n",
        "6"
       ]
      },
      {
       "output_type": "stream",
       "stream": "stdout",
       "text": [
        "\n",
        "7"
       ]
      },
      {
       "output_type": "stream",
       "stream": "stdout",
       "text": [
        "\n",
        "8"
       ]
      },
      {
       "output_type": "stream",
       "stream": "stdout",
       "text": [
        "\n",
        "9"
       ]
      },
      {
       "output_type": "stream",
       "stream": "stdout",
       "text": [
        "\n",
        "10"
       ]
      },
      {
       "output_type": "stream",
       "stream": "stdout",
       "text": [
        "\n",
        "11"
       ]
      },
      {
       "output_type": "stream",
       "stream": "stdout",
       "text": [
        "\n",
        "12"
       ]
      },
      {
       "output_type": "stream",
       "stream": "stdout",
       "text": [
        "\n",
        "13"
       ]
      },
      {
       "output_type": "stream",
       "stream": "stdout",
       "text": [
        "\n",
        "14"
       ]
      },
      {
       "output_type": "stream",
       "stream": "stdout",
       "text": [
        "\n",
        "15"
       ]
      },
      {
       "output_type": "stream",
       "stream": "stdout",
       "text": [
        "\n",
        "16"
       ]
      },
      {
       "output_type": "stream",
       "stream": "stdout",
       "text": [
        "\n",
        "17"
       ]
      },
      {
       "output_type": "stream",
       "stream": "stdout",
       "text": [
        "\n",
        "18"
       ]
      },
      {
       "output_type": "stream",
       "stream": "stdout",
       "text": [
        "\n",
        "19"
       ]
      },
      {
       "output_type": "stream",
       "stream": "stdout",
       "text": [
        "\n",
        "20"
       ]
      },
      {
       "output_type": "stream",
       "stream": "stdout",
       "text": [
        "\n",
        "21"
       ]
      },
      {
       "output_type": "stream",
       "stream": "stdout",
       "text": [
        "\n",
        "22"
       ]
      },
      {
       "output_type": "stream",
       "stream": "stdout",
       "text": [
        "\n",
        "23"
       ]
      },
      {
       "output_type": "stream",
       "stream": "stdout",
       "text": [
        "\n",
        "24"
       ]
      },
      {
       "output_type": "stream",
       "stream": "stdout",
       "text": [
        "\n",
        "25"
       ]
      },
      {
       "output_type": "stream",
       "stream": "stdout",
       "text": [
        "\n",
        "26"
       ]
      },
      {
       "output_type": "stream",
       "stream": "stdout",
       "text": [
        "\n",
        "27"
       ]
      },
      {
       "output_type": "stream",
       "stream": "stdout",
       "text": [
        "\n",
        "28"
       ]
      },
      {
       "output_type": "stream",
       "stream": "stdout",
       "text": [
        "\n",
        "29"
       ]
      },
      {
       "output_type": "stream",
       "stream": "stdout",
       "text": [
        "\n",
        "0"
       ]
      },
      {
       "output_type": "stream",
       "stream": "stdout",
       "text": [
        "\n",
        "1"
       ]
      },
      {
       "output_type": "stream",
       "stream": "stdout",
       "text": [
        "\n",
        "2"
       ]
      },
      {
       "output_type": "stream",
       "stream": "stdout",
       "text": [
        "\n",
        "3"
       ]
      },
      {
       "output_type": "stream",
       "stream": "stdout",
       "text": [
        "\n",
        "4"
       ]
      },
      {
       "output_type": "stream",
       "stream": "stdout",
       "text": [
        "\n",
        "5"
       ]
      },
      {
       "output_type": "stream",
       "stream": "stdout",
       "text": [
        "\n",
        "6"
       ]
      },
      {
       "output_type": "stream",
       "stream": "stdout",
       "text": [
        "\n",
        "7\n",
        "8"
       ]
      },
      {
       "output_type": "stream",
       "stream": "stdout",
       "text": [
        "\n",
        "9"
       ]
      },
      {
       "output_type": "stream",
       "stream": "stdout",
       "text": [
        "\n",
        "10"
       ]
      },
      {
       "output_type": "stream",
       "stream": "stdout",
       "text": [
        "\n",
        "11"
       ]
      },
      {
       "output_type": "stream",
       "stream": "stdout",
       "text": [
        "\n",
        "12"
       ]
      },
      {
       "output_type": "stream",
       "stream": "stdout",
       "text": [
        "\n",
        "13"
       ]
      },
      {
       "output_type": "stream",
       "stream": "stdout",
       "text": [
        "\n",
        "14"
       ]
      },
      {
       "output_type": "stream",
       "stream": "stdout",
       "text": [
        "\n",
        "15"
       ]
      },
      {
       "output_type": "stream",
       "stream": "stdout",
       "text": [
        "\n",
        "16"
       ]
      },
      {
       "output_type": "stream",
       "stream": "stdout",
       "text": [
        "\n",
        "17"
       ]
      },
      {
       "output_type": "stream",
       "stream": "stdout",
       "text": [
        "\n",
        "18"
       ]
      },
      {
       "output_type": "stream",
       "stream": "stdout",
       "text": [
        "\n",
        "19"
       ]
      },
      {
       "output_type": "stream",
       "stream": "stdout",
       "text": [
        "\n",
        "20"
       ]
      },
      {
       "output_type": "stream",
       "stream": "stdout",
       "text": [
        "\n",
        "21"
       ]
      },
      {
       "output_type": "stream",
       "stream": "stdout",
       "text": [
        "\n",
        "22"
       ]
      },
      {
       "output_type": "stream",
       "stream": "stdout",
       "text": [
        "\n",
        "23"
       ]
      },
      {
       "output_type": "stream",
       "stream": "stdout",
       "text": [
        "\n",
        "24"
       ]
      },
      {
       "output_type": "stream",
       "stream": "stdout",
       "text": [
        "\n",
        "25\n",
        "26"
       ]
      },
      {
       "output_type": "stream",
       "stream": "stdout",
       "text": [
        "\n",
        "27"
       ]
      },
      {
       "output_type": "stream",
       "stream": "stdout",
       "text": [
        "\n",
        "28"
       ]
      },
      {
       "output_type": "stream",
       "stream": "stdout",
       "text": [
        "\n",
        "29"
       ]
      },
      {
       "output_type": "stream",
       "stream": "stdout",
       "text": [
        "\n",
        "0"
       ]
      },
      {
       "output_type": "stream",
       "stream": "stdout",
       "text": [
        "\n",
        "1"
       ]
      },
      {
       "output_type": "stream",
       "stream": "stdout",
       "text": [
        "\n",
        "2"
       ]
      },
      {
       "output_type": "stream",
       "stream": "stdout",
       "text": [
        "\n",
        "3"
       ]
      },
      {
       "output_type": "stream",
       "stream": "stdout",
       "text": [
        "\n",
        "4"
       ]
      },
      {
       "output_type": "stream",
       "stream": "stdout",
       "text": [
        "\n",
        "5"
       ]
      },
      {
       "output_type": "stream",
       "stream": "stdout",
       "text": [
        "\n",
        "6"
       ]
      },
      {
       "output_type": "stream",
       "stream": "stdout",
       "text": [
        "\n",
        "7"
       ]
      },
      {
       "output_type": "stream",
       "stream": "stdout",
       "text": [
        "\n",
        "8"
       ]
      },
      {
       "output_type": "stream",
       "stream": "stdout",
       "text": [
        "\n",
        "9"
       ]
      },
      {
       "output_type": "stream",
       "stream": "stdout",
       "text": [
        "\n",
        "10"
       ]
      },
      {
       "output_type": "stream",
       "stream": "stdout",
       "text": [
        "\n",
        "11"
       ]
      },
      {
       "output_type": "stream",
       "stream": "stdout",
       "text": [
        "\n",
        "12"
       ]
      },
      {
       "output_type": "stream",
       "stream": "stdout",
       "text": [
        "\n",
        "13"
       ]
      },
      {
       "output_type": "stream",
       "stream": "stdout",
       "text": [
        "\n",
        "14"
       ]
      },
      {
       "output_type": "stream",
       "stream": "stdout",
       "text": [
        "\n",
        "15"
       ]
      },
      {
       "output_type": "stream",
       "stream": "stdout",
       "text": [
        "\n",
        "16"
       ]
      },
      {
       "output_type": "stream",
       "stream": "stdout",
       "text": [
        "\n",
        "17"
       ]
      },
      {
       "output_type": "stream",
       "stream": "stdout",
       "text": [
        "\n",
        "18"
       ]
      },
      {
       "output_type": "stream",
       "stream": "stdout",
       "text": [
        "\n",
        "19"
       ]
      },
      {
       "output_type": "stream",
       "stream": "stdout",
       "text": [
        "\n",
        "20"
       ]
      },
      {
       "output_type": "stream",
       "stream": "stdout",
       "text": [
        "\n",
        "21"
       ]
      },
      {
       "output_type": "stream",
       "stream": "stdout",
       "text": [
        "\n",
        "22"
       ]
      },
      {
       "output_type": "stream",
       "stream": "stdout",
       "text": [
        "\n",
        "23"
       ]
      },
      {
       "output_type": "stream",
       "stream": "stdout",
       "text": [
        "\n",
        "24"
       ]
      },
      {
       "output_type": "stream",
       "stream": "stdout",
       "text": [
        "\n",
        "25"
       ]
      },
      {
       "output_type": "stream",
       "stream": "stdout",
       "text": [
        "\n",
        "26"
       ]
      },
      {
       "output_type": "stream",
       "stream": "stdout",
       "text": [
        "\n",
        "27"
       ]
      },
      {
       "output_type": "stream",
       "stream": "stdout",
       "text": [
        "\n",
        "28"
       ]
      },
      {
       "output_type": "stream",
       "stream": "stdout",
       "text": [
        "\n",
        "29"
       ]
      },
      {
       "output_type": "stream",
       "stream": "stdout",
       "text": [
        "\n",
        "0"
       ]
      },
      {
       "output_type": "stream",
       "stream": "stdout",
       "text": [
        "\n",
        "1"
       ]
      },
      {
       "output_type": "stream",
       "stream": "stdout",
       "text": [
        "\n",
        "2\n",
        "3"
       ]
      },
      {
       "output_type": "stream",
       "stream": "stdout",
       "text": [
        "\n",
        "4"
       ]
      },
      {
       "output_type": "stream",
       "stream": "stdout",
       "text": [
        "\n",
        "5"
       ]
      },
      {
       "output_type": "stream",
       "stream": "stdout",
       "text": [
        "\n",
        "6"
       ]
      },
      {
       "output_type": "stream",
       "stream": "stdout",
       "text": [
        "\n",
        "7"
       ]
      },
      {
       "output_type": "stream",
       "stream": "stdout",
       "text": [
        "\n",
        "8"
       ]
      },
      {
       "output_type": "stream",
       "stream": "stdout",
       "text": [
        "\n",
        "9"
       ]
      },
      {
       "output_type": "stream",
       "stream": "stdout",
       "text": [
        "\n",
        "10"
       ]
      },
      {
       "output_type": "stream",
       "stream": "stdout",
       "text": [
        "\n",
        "11"
       ]
      },
      {
       "output_type": "stream",
       "stream": "stdout",
       "text": [
        "\n",
        "12"
       ]
      },
      {
       "output_type": "stream",
       "stream": "stdout",
       "text": [
        "\n",
        "13"
       ]
      },
      {
       "output_type": "stream",
       "stream": "stdout",
       "text": [
        "\n",
        "14"
       ]
      },
      {
       "output_type": "stream",
       "stream": "stdout",
       "text": [
        "\n",
        "15\n",
        "16"
       ]
      },
      {
       "output_type": "stream",
       "stream": "stdout",
       "text": [
        "\n",
        "17"
       ]
      },
      {
       "output_type": "stream",
       "stream": "stdout",
       "text": [
        "\n",
        "18"
       ]
      },
      {
       "output_type": "stream",
       "stream": "stdout",
       "text": [
        "\n",
        "19"
       ]
      },
      {
       "output_type": "stream",
       "stream": "stdout",
       "text": [
        "\n",
        "20"
       ]
      },
      {
       "output_type": "stream",
       "stream": "stdout",
       "text": [
        "\n",
        "21"
       ]
      },
      {
       "output_type": "stream",
       "stream": "stdout",
       "text": [
        "\n",
        "22"
       ]
      },
      {
       "output_type": "stream",
       "stream": "stdout",
       "text": [
        "\n",
        "23"
       ]
      },
      {
       "output_type": "stream",
       "stream": "stdout",
       "text": [
        "\n",
        "24"
       ]
      },
      {
       "output_type": "stream",
       "stream": "stdout",
       "text": [
        "\n",
        "25"
       ]
      },
      {
       "output_type": "stream",
       "stream": "stdout",
       "text": [
        "\n",
        "26"
       ]
      },
      {
       "output_type": "stream",
       "stream": "stdout",
       "text": [
        "\n",
        "27"
       ]
      },
      {
       "output_type": "stream",
       "stream": "stdout",
       "text": [
        "\n",
        "28"
       ]
      },
      {
       "output_type": "stream",
       "stream": "stdout",
       "text": [
        "\n",
        "29"
       ]
      },
      {
       "output_type": "stream",
       "stream": "stdout",
       "text": [
        "\n",
        "0"
       ]
      },
      {
       "output_type": "stream",
       "stream": "stdout",
       "text": [
        "\n",
        "1"
       ]
      },
      {
       "output_type": "stream",
       "stream": "stdout",
       "text": [
        "\n",
        "2"
       ]
      },
      {
       "output_type": "stream",
       "stream": "stdout",
       "text": [
        "\n",
        "3\n",
        "4"
       ]
      },
      {
       "output_type": "stream",
       "stream": "stdout",
       "text": [
        "\n",
        "5\n",
        "6"
       ]
      },
      {
       "output_type": "stream",
       "stream": "stdout",
       "text": [
        "\n",
        "7\n",
        "8"
       ]
      },
      {
       "output_type": "stream",
       "stream": "stdout",
       "text": [
        "\n",
        "9"
       ]
      },
      {
       "output_type": "stream",
       "stream": "stdout",
       "text": [
        "\n",
        "10\n",
        "11"
       ]
      },
      {
       "output_type": "stream",
       "stream": "stdout",
       "text": [
        "\n",
        "12\n",
        "13"
       ]
      },
      {
       "output_type": "stream",
       "stream": "stdout",
       "text": [
        "\n",
        "14\n",
        "15"
       ]
      },
      {
       "output_type": "stream",
       "stream": "stdout",
       "text": [
        "\n",
        "16"
       ]
      },
      {
       "output_type": "stream",
       "stream": "stdout",
       "text": [
        "\n",
        "17\n",
        "18"
       ]
      },
      {
       "output_type": "stream",
       "stream": "stdout",
       "text": [
        "\n",
        "19\n",
        "20"
       ]
      },
      {
       "output_type": "stream",
       "stream": "stdout",
       "text": [
        "\n",
        "21\n",
        "22"
       ]
      },
      {
       "output_type": "stream",
       "stream": "stdout",
       "text": [
        "\n",
        "23"
       ]
      },
      {
       "output_type": "stream",
       "stream": "stdout",
       "text": [
        "\n",
        "24"
       ]
      },
      {
       "output_type": "stream",
       "stream": "stdout",
       "text": [
        "\n",
        "25"
       ]
      },
      {
       "output_type": "stream",
       "stream": "stdout",
       "text": [
        "\n",
        "26"
       ]
      },
      {
       "output_type": "stream",
       "stream": "stdout",
       "text": [
        "\n",
        "27"
       ]
      },
      {
       "output_type": "stream",
       "stream": "stdout",
       "text": [
        "\n",
        "28"
       ]
      },
      {
       "output_type": "stream",
       "stream": "stdout",
       "text": [
        "\n",
        "29"
       ]
      },
      {
       "output_type": "stream",
       "stream": "stdout",
       "text": [
        "\n"
       ]
      }
     ],
     "prompt_number": 11
    },
    {
     "cell_type": "code",
     "collapsed": false,
     "input": [
      "player_etas_m = np.array(player_etas)"
     ],
     "language": "python",
     "outputs": [],
     "prompt_number": 12
    },
    {
     "cell_type": "code",
     "collapsed": false,
     "input": [
      "for i in range(len(Player.objects.all())):\n",
      "    plt.plot(range(player_etas_m.shape[1]), player_etas_m[i])\n",
      "\n",
      "plt.xlabel('Game iteration')\n",
      "plt.ylabel('Exploration rate')\n",
      "plt.title('Exploration for players no slider')"
     ],
     "language": "python",
     "outputs": [
      {
       "output_type": "pyout",
       "prompt_number": 13,
       "text": [
        "<matplotlib.text.Text at 0x10be50190>"
       ]
      },
      {
       "output_type": "display_data",
       "png": "[encoded data removed]",
       "text": [
        "<matplotlib.figure.Figure at 0x10bb85bd0>"
       ]
      }
     ],
     "prompt_number": 13
    },
    {
     "cell_type": "code",
     "collapsed": false,
     "input": [
      "plt.plot(range(len(gradients)), gradients)\n",
      "plt.title(\"Gradient vs. iteration\")\n",
      "plt.xlabel(\"Iteration\")\n",
      "plt.ylabel(\"Gradient\")"
     ],
     "language": "python",
     "outputs": [
      {
       "output_type": "pyout",
       "prompt_number": 14,
       "text": [
        "<matplotlib.text.Text at 0x10b6dac50>"
       ]
      },
      {
       "output_type": "display_data",
       "png": "[encoded data removed]",
       "text": [
        "<matplotlib.figure.Figure at 0x10bb64b10>"
       ]
      }
     ],
     "prompt_number": 14
    },
    {
     "cell_type": "code",
     "collapsed": false,
     "input": [
      "plt.plot(range(len(etas)), etas)\n",
      "plt.title(\"Learning Rate vs. iteration\")\n",
      "plt.xlabel(\"Iteration\")\n",
      "plt.ylabel(\"Learning Rate\")"
     ],
     "language": "python",
     "outputs": [
      {
       "output_type": "pyout",
       "prompt_number": 15,
       "text": [
        "<matplotlib.text.Text at 0x10bb73e10>"
       ]
      },
      {
       "output_type": "display_data",
       "png": "[encoded data removed]",
       "text": [
        "<matplotlib.figure.Figure at 0x10be39ed0>"
       ]
      }
     ],
     "prompt_number": 15
    },
    {
     "cell_type": "code",
     "collapsed": false,
     "input": [
      "# Predicting flow distribution\n",
      "# 1 step look-ahead\n",
      "\n",
      "# Start at t = 5, \n",
      "start = 3\n",
      "end = len(etas) - 1\n",
      "\n",
      "predictions = dict()\n",
      "actual = dict()\n",
      "for i in range(start, end):\n",
      "    # slope, intercept, _, _, _ = stats.linregress(range(i), etas[:i])\n",
      "    # current_eta = slope*i + intercept\n",
      "\n",
      "    current_eta = etas[i-1]\n",
      "    print 'Current eta %f' % current_eta\n",
      "    print 'Learned eta %f\\n' % etas[i]\n",
      "\n",
      "    turn = GameTurn.objects.get(game=g, iteration=i)\n",
      "    actual_turn = GameTurn.objects.get(game=g, iteration=i+1)\n",
      "\n",
      "    fd = FlowDistribution.objects.get(player=p1, turn=turn)\n",
      "    actual_fd = FlowDistribution.objects.get(player=p1, turn=actual_turn)\n",
      "\n",
      "    current_flows = np.array([])\n",
      "    current_costs = np.array([])\n",
      "\n",
      "    e_costs = turn.graph_cost.edge_costs\n",
      "\n",
      "    for p_id in path_ids:\n",
      "        path = Path.objects.get(id=p_id)\n",
      "\n",
      "        flow = fd.path_assignments.get(path=path).flow\n",
      "        current_flows = np.append(current_flows, flow)\n",
      "\n",
      "        actual_flow = actual_fd.path_assignments.get(path=path).flow\n",
      "        if p_id not in actual:\n",
      "            actual[p_id] = []\n",
      "        actual[p_id].append(actual_flow)\n",
      "\n",
      "        path_cost = 0\n",
      "        for e in path.edges.all():\n",
      "            path_cost += e_costs.get(edge=e).cost\n",
      "\n",
      "        current_costs = np.append(current_costs, path_cost)\n",
      "\n",
      "    normalization = np.sum(current_flows*np.exp(-current_eta*current_costs))\n",
      "    # print normalization\n",
      "    for p_id, j in zip(path_ids, range(len(path_ids))):\n",
      "        if p_id not in predictions:\n",
      "            predictions[p_id] = []\n",
      "        prediction = (current_flows[j] * np.exp(-current_eta * current_costs[j])) / normalization\n",
      "        predictions[p_id].append(prediction)"
     ],
     "language": "python",
     "outputs": [
      {
       "output_type": "stream",
       "stream": "stdout",
       "text": [
        "Current eta 2.003179\n",
        "Learned eta 0.000000\n",
        "\n",
        "Current eta 0.000000"
       ]
      },
      {
       "output_type": "stream",
       "stream": "stdout",
       "text": [
        "\n",
        "Learned eta 0.000000\n",
        "\n",
        "Current eta 0.000000"
       ]
      },
      {
       "output_type": "stream",
       "stream": "stdout",
       "text": [
        "\n",
        "Learned eta 0.000000\n",
        "\n",
        "Current eta 0.000000"
       ]
      },
      {
       "output_type": "stream",
       "stream": "stdout",
       "text": [
        "\n",
        "Learned eta -2.055003\n",
        "\n",
        "Current eta -2.055003"
       ]
      },
      {
       "output_type": "stream",
       "stream": "stdout",
       "text": [
        "\n",
        "Learned eta 2.213217\n",
        "\n",
        "Current eta 2.213217"
       ]
      },
      {
       "output_type": "stream",
       "stream": "stdout",
       "text": [
        "\n",
        "Learned eta 0.000000\n",
        "\n",
        "Current eta 0.000000"
       ]
      },
      {
       "output_type": "stream",
       "stream": "stdout",
       "text": [
        "\n",
        "Learned eta -2.024287\n",
        "\n",
        "Current eta -2.024287"
       ]
      },
      {
       "output_type": "stream",
       "stream": "stdout",
       "text": [
        "\n",
        "Learned eta 2.277782\n",
        "\n",
        "Current eta 2.277782"
       ]
      },
      {
       "output_type": "stream",
       "stream": "stdout",
       "text": [
        "\n",
        "Learned eta 0.000000\n",
        "\n",
        "Current eta 0.000000"
       ]
      },
      {
       "output_type": "stream",
       "stream": "stdout",
       "text": [
        "\n",
        "Learned eta 0.000000\n",
        "\n",
        "Current eta 0.000000"
       ]
      },
      {
       "output_type": "stream",
       "stream": "stdout",
       "text": [
        "\n",
        "Learned eta 0.000000\n",
        "\n",
        "Current eta 0.000000"
       ]
      },
      {
       "output_type": "stream",
       "stream": "stdout",
       "text": [
        "\n",
        "Learned eta 0.000000\n",
        "\n",
        "Current eta 0.000000"
       ]
      },
      {
       "output_type": "stream",
       "stream": "stdout",
       "text": [
        "\n",
        "Learned eta 0.000000\n",
        "\n",
        "Current eta 0.000000"
       ]
      },
      {
       "output_type": "stream",
       "stream": "stdout",
       "text": [
        "\n",
        "Learned eta 0.000000\n",
        "\n",
        "Current eta 0.000000"
       ]
      },
      {
       "output_type": "stream",
       "stream": "stdout",
       "text": [
        "\n",
        "Learned eta 0.000000\n",
        "\n",
        "Current eta 0.000000"
       ]
      },
      {
       "output_type": "stream",
       "stream": "stdout",
       "text": [
        "\n",
        "Learned eta 0.000000\n",
        "\n",
        "Current eta 0.000000"
       ]
      },
      {
       "output_type": "stream",
       "stream": "stdout",
       "text": [
        "\n",
        "Learned eta 0.000000\n",
        "\n",
        "Current eta 0.000000"
       ]
      },
      {
       "output_type": "stream",
       "stream": "stdout",
       "text": [
        "\n",
        "Learned eta 2.007687\n",
        "\n",
        "Current eta 2.007687"
       ]
      },
      {
       "output_type": "stream",
       "stream": "stdout",
       "text": [
        "\n",
        "Learned eta 0.000000\n",
        "\n",
        "Current eta 0.000000"
       ]
      },
      {
       "output_type": "stream",
       "stream": "stdout",
       "text": [
        "\n",
        "Learned eta 1.120138\n",
        "\n",
        "Current eta 1.120138"
       ]
      },
      {
       "output_type": "stream",
       "stream": "stdout",
       "text": [
        "\n",
        "Learned eta -2.000330\n",
        "\n",
        "Current eta -2.000330"
       ]
      },
      {
       "output_type": "stream",
       "stream": "stdout",
       "text": [
        "\n",
        "Learned eta 0.536078\n",
        "\n",
        "Current eta 0.536078"
       ]
      },
      {
       "output_type": "stream",
       "stream": "stdout",
       "text": [
        "\n",
        "Learned eta 2.000645\n",
        "\n",
        "Current eta 2.000645"
       ]
      },
      {
       "output_type": "stream",
       "stream": "stdout",
       "text": [
        "\n",
        "Learned eta 1.664320\n",
        "\n",
        "Current eta 1.664320"
       ]
      },
      {
       "output_type": "stream",
       "stream": "stdout",
       "text": [
        "\n",
        "Learned eta -2.001047\n",
        "\n",
        "Current eta -2.001047"
       ]
      },
      {
       "output_type": "stream",
       "stream": "stdout",
       "text": [
        "\n",
        "Learned eta 0.433784\n",
        "\n"
       ]
      }
     ],
     "prompt_number": 17
    },
    {
     "cell_type": "code",
     "collapsed": false,
     "input": [
      "predictions.keys()"
     ],
     "language": "python",
     "outputs": [
      {
       "output_type": "pyout",
       "prompt_number": 18,
       "text": [
        "[1, 2, 3, 4]"
       ]
      }
     ],
     "prompt_number": 18
    },
    {
     "cell_type": "code",
     "collapsed": false,
     "input": [
      "actual.keys()"
     ],
     "language": "python",
     "outputs": [
      {
       "output_type": "pyout",
       "prompt_number": 19,
       "text": [
        "[1, 2, 3, 4]"
       ]
      }
     ],
     "prompt_number": 19
    },
    {
     "cell_type": "code",
     "collapsed": false,
     "input": [
      "plt.plot(actual[1])\n",
      "plt.plot(actual[2])\n",
      "plt.plot(actual[3])\n",
      "plt.plot(actual[4])\n",
      "\n",
      "plt.xlabel('Game iteration')\n",
      "plt.ylabel('Flow distribution')\n",
      "plt.title('Flow distribution for a single player no slider version')\n",
      "plt.savefig('../paper/images/no_slider_actual_flow_distribution.png')"
     ],
     "language": "python",
     "outputs": [
      {
       "ename": "NameError",
       "evalue": "name 'actual' is not defined",
       "output_type": "pyerr",
       "traceback": [
        "\u001b[0;31m---------------------------------------------------------------------------\u001b[0m\n\u001b[0;31mNameError\u001b[0m                                 Traceback (most recent call last)",
        "\u001b[0;32m<ipython-input-16-3f8b83e6557f>\u001b[0m in \u001b[0;36m<module>\u001b[0;34m()\u001b[0m\n\u001b[0;32m----> 1\u001b[0;31m \u001b[0mplt\u001b[0m\u001b[0;34m.\u001b[0m\u001b[0mplot\u001b[0m\u001b[0;34m(\u001b[0m\u001b[0mactual\u001b[0m\u001b[0;34m[\u001b[0m\u001b[0;36m1\u001b[0m\u001b[0;34m]\u001b[0m\u001b[0;34m)\u001b[0m\u001b[0;34m\u001b[0m\u001b[0m\n\u001b[0m\u001b[1;32m      2\u001b[0m \u001b[0mplt\u001b[0m\u001b[0;34m.\u001b[0m\u001b[0mplot\u001b[0m\u001b[0;34m(\u001b[0m\u001b[0mactual\u001b[0m\u001b[0;34m[\u001b[0m\u001b[0;36m2\u001b[0m\u001b[0;34m]\u001b[0m\u001b[0;34m)\u001b[0m\u001b[0;34m\u001b[0m\u001b[0m\n\u001b[1;32m      3\u001b[0m \u001b[0mplt\u001b[0m\u001b[0;34m.\u001b[0m\u001b[0mplot\u001b[0m\u001b[0;34m(\u001b[0m\u001b[0mactual\u001b[0m\u001b[0;34m[\u001b[0m\u001b[0;36m3\u001b[0m\u001b[0;34m]\u001b[0m\u001b[0;34m)\u001b[0m\u001b[0;34m\u001b[0m\u001b[0m\n\u001b[1;32m      4\u001b[0m \u001b[0mplt\u001b[0m\u001b[0;34m.\u001b[0m\u001b[0mplot\u001b[0m\u001b[0;34m(\u001b[0m\u001b[0mactual\u001b[0m\u001b[0;34m[\u001b[0m\u001b[0;36m4\u001b[0m\u001b[0;34m]\u001b[0m\u001b[0;34m)\u001b[0m\u001b[0;34m\u001b[0m\u001b[0m\n\u001b[1;32m      5\u001b[0m \u001b[0;34m\u001b[0m\u001b[0m\n",
        "\u001b[0;31mNameError\u001b[0m: name 'actual' is not defined"
       ]
      }
     ],
     "prompt_number": 16
    },
    {
     "cell_type": "code",
     "collapsed": false,
     "input": [
      "plt.plot(predictions[1], 'ro-')\n",
      "plt.plot(actual[1], 'bo-')\n",
      "# plt.plot(etas[start+1:end], 'ko-')"
     ],
     "language": "python",
     "outputs": [
      {
       "output_type": "pyout",
       "prompt_number": 22,
       "text": [
        "[<matplotlib.lines.Line2D at 0x108e91cd0>]"
       ]
      },
      {
       "output_type": "display_data",
       "png": "[encoded data removed]",
       "text": [
        "<matplotlib.figure.Figure at 0x103f05d90>"
       ]
      }
     ],
     "prompt_number": 22
    },
    {
     "cell_type": "code",
     "collapsed": false,
     "input": [
      "plt.plot(predictions[2], 'ro-')\n",
      "plt.plot(actual[2], 'bo-')\n",
      "# plt.plot(etas[start+1:end], 'ko-')"
     ],
     "language": "python",
     "outputs": [
      {
       "output_type": "pyout",
       "prompt_number": 23,
       "text": [
        "[<matplotlib.lines.Line2D at 0x1091947d0>]"
       ]
      },
      {
       "output_type": "display_data",
       "png": "[encoded data removed]",
       "text": [
        "<matplotlib.figure.Figure at 0x109194190>"
       ]
      }
     ],
     "prompt_number": 23
    },
    {
     "cell_type": "code",
     "collapsed": false,
     "input": [
      "plt.plot(predictions[3], 'ro-')\n",
      "plt.plot(actual[3], 'bo-')\n",
      "# plt.plot(etas[start+1:end], 'ko-')"
     ],
     "language": "python",
     "outputs": [
      {
       "output_type": "pyout",
       "prompt_number": 24,
       "text": [
        "[<matplotlib.lines.Line2D at 0x108e68450>]"
       ]
      },
      {
       "output_type": "display_data",
       "png": "[encoded data removed]",
       "text": [
        "<matplotlib.figure.Figure at 0x108e68290>"
       ]
      }
     ],
     "prompt_number": 24
    },
    {
     "cell_type": "code",
     "collapsed": false,
     "input": [
      "def computeEquilibrium(dimensions, gradientFunctions, precision, eta):\n",
      "    # dimensions is a list of scalars that specify the number of paths of each player\n",
      "    # gradientFunctions is a list of functions. Use:\n",
      "    # gs = gradientFunctions(xs) returns a list of path costs, where xs is a list of path flows\n",
      "    # precision is a scalar, specifies the desired precision.\n",
      "    def entropicDescentUpdate(x, g, eta):\n",
      "        w = [xi*np.exp(-gi*eta) for (xi,gi) in zip(x, g)]\n",
      "        return w / (sum(w))\n",
      "    # initialize\n",
      "    xs = [np.random.rand(di) for di in dimensions]\n",
      "    xs = [x_i/np.sum(x_i) for x_i in xs]\n",
      "    print xs\n",
      "    # xs = [np.ones((di, 1))/di for di in dimensions]\n",
      "    gs = gradientFunctions(xs)\n",
      "    def cost(xs, gs):\n",
      "        return sum(np.dot(x.T, g) for (x, g) in zip(xs, gs))\n",
      "    c = cost(xs, gs)\n",
      "    delta = 1\n",
      "    t = 0\n",
      "    while(delta > precision and t < 10000):\n",
      "        print 'iteration %d' % t\n",
      "        print 'delta %f' % delta\n",
      "        xs_plus = [entropicDescentUpdate(x, g, eta) for (x, g) in zip(xs, gs)]\n",
      "        gs_plus = gradientFunctions(xs_plus)\n",
      "        c_plus = cost(xs_plus, gs_plus)\n",
      "        delta = abs(c_plus - c)\n",
      "        c = c_plus\n",
      "        xs = xs_plus\n",
      "        gs = gs_plus\n",
      "        t += 1\n",
      "\n",
      "        # if t > 1000:\n",
      "        #     costs = [np.dot(x.T, g) for (g, x) in zip(gs, xs)]            \n",
      "        #     costs[-100] - \n",
      "\n",
      "        # if(t % 100 == 0):\n",
      "        #     print(t)\n",
      "\n",
      "    # print(\"converged after {} iterations\".format(t))\n",
      "    costs = [np.dot(x.T, g) for (g, x) in zip(gs, xs)]\n",
      "    return costs\n",
      " "
     ],
     "language": "python",
     "outputs": []
    },
    {
     "cell_type": "code",
     "collapsed": false,
     "input": [
      "def pathLossFunctions(costFunctions, adjMatrices, masses):\n",
      "    def lossFunctions(xs):\n",
      "        edgeFlows = sum(mass*np.dot(adjMatrix, x) for (mass, adjMatrix, x) in zip (masses, adjMatrices, xs))\n",
      "        edgeCosts = [evalFunc(costFunc, edgeFlow) for (costFunc, edgeFlow) in zip(costFunctions, edgeFlows)]\n",
      "        return [np.dot(adjMatrix.T, edgeCosts) for adjMatrix in adjMatrices]\n",
      "    return lossFunctions"
     ],
     "language": "python",
     "outputs": [],
     "prompt_number": 125
    },
    {
     "cell_type": "code",
     "collapsed": false,
     "input": [
      "def updateEquilibriumFlows(eta_max, graph_name='g1'):\n",
      "    costFunctionDict = {}\n",
      "    massDict = {}\n",
      "    pmPaths = {}\n",
      "\n",
      "    edgeIndex = {}\n",
      "    edgeIdx = 0\n",
      "    pmIndex = {}\n",
      "    pmIdx = 0\n",
      "\n",
      "    for edge in Edge.objects.filter(graph__name=graph_name):\n",
      "        costFunctionDict[edge] = edge.cost_function\n",
      "        edgeIndex[edge] = edgeIdx\n",
      "        edgeIdx += 1\n",
      "    for pm in PlayerModel.objects.filter(graph__name=graph_name):\n",
      "        massDict[pm] = pm.flow\n",
      "        pmPaths[pm] = []\n",
      "        pmIndex[pm] = pmIdx\n",
      "        pmIdx += 1\n",
      "    for path in Path.objects.filter(graph__name=graph_name):\n",
      "        pmPaths[path.player_model].append(path.edges.all())\n",
      "\n",
      "\n",
      "    # once we have the dictionaries, we can create the vectors\n",
      "    compiledCosts = [None]*len(edgeIndex)\n",
      "    adjMatrices = [None]*len(pmIndex)\n",
      "    masses = [None]*len(pmIndex)\n",
      "\n",
      "    def createAdjMatrix(paths):\n",
      "        adjMatrix = np.zeros((len(edgeIndex), len(paths)))\n",
      "        pathIdx = 0\n",
      "        for pathEdges in paths:\n",
      "            for edge in pathEdges:\n",
      "                adjMatrix[edgeIndex[edge], pathIdx] = 1\n",
      "            pathIdx += 1\n",
      "        return adjMatrix\n",
      "\n",
      "    for (edge, cost) in costFunctionDict.items():\n",
      "        compiledCosts[edgeIndex[edge]] = parser.expr(cost).compile()\n",
      "    for (pm, paths) in pmPaths.items():\n",
      "        adjMatrices[pmIndex[pm]] = createAdjMatrix(paths)\n",
      "    for (pm, mass) in massDict.items():\n",
      "        masses[pmIndex[pm]] = mass\n",
      "\n",
      "    # eqCosts = computeRoutingGameEquilibrium(compiledCosts, adjMatrices, masses)\n",
      "    precision = .0000001\n",
      "    gradientFunction = pathLossFunctions(compiledCosts, adjMatrices, masses)\n",
      "    dimensions = [np.size(adjMatrix, 1) for adjMatrix in adjMatrices]\n",
      "\n",
      "    eqCosts = computeEquilibrium(dimensions, gradientFunction, precision, eta_max)\n",
      "    # for (p, pmIdx) in pmIndex.items():\n",
      "    #     pm.normalization_const = eqCosts[pmIdx]\n",
      "    #     pm.save()\n",
      "\n",
      "    return True"
     ],
     "language": "python",
     "outputs": []
    },
    {
     "cell_type": "code",
     "collapsed": true,
     "input": [
      "# Computing maximal value of eta for which system converges\n",
      "\n",
      "updateEquilibriumFlows(0.6, 'g1')"
     ],
     "language": "python",
     "outputs": [
      {
       "output_type": "stream",
       "stream": "stdout",
       "text": [
        "[array([ 0.25268225,  0.21472001,  0.04325112,  0.48934661]), array([ 0.32828659,  0.31272568,  0.35898773]), array([ 0.36979761,  0.06559539,  0.29808714,  0.26651986]), array([ 0.35993349,  0.1810905 ,  0.45897601]), array([ 0.36841085,  0.2572805 ,  0.37430865])]\n",
        "iteration 0\n",
        "delta 1.000000\n",
        "iteration 1\n",
        "delta 2.739941\n",
        "iteration 2\n",
        "delta 0.225259\n",
        "iteration 3\n",
        "delta 0.192064\n",
        "iteration 4\n",
        "delta 0.045199\n",
        "iteration 5\n",
        "delta 0.073910\n",
        "iteration 6\n",
        "delta 0.016889\n",
        "iteration 7\n",
        "delta 0.031303\n",
        "iteration 8\n",
        "delta 0.007014\n",
        "iteration 9\n",
        "delta 0.014426\n",
        "iteration 10\n",
        "delta 0.003727\n",
        "iteration 11\n",
        "delta 0.007532\n",
        "iteration 12\n",
        "delta 0.002646\n",
        "iteration 13\n",
        "delta 0.004562\n",
        "iteration 14\n",
        "delta 0.002220\n",
        "iteration 15\n",
        "delta 0.003152\n",
        "iteration 16\n",
        "delta 0.001963\n",
        "iteration 17\n",
        "delta 0.002389\n",
        "iteration 18\n",
        "delta 0.001745\n",
        "iteration 19\n",
        "delta 0.001915\n",
        "iteration 20\n",
        "delta 0.001541\n",
        "iteration 21\n",
        "delta 0.001586\n",
        "iteration 22\n",
        "delta 0.001352\n",
        "iteration 23\n",
        "delta 0.001339\n",
        "iteration 24\n",
        "delta 0.001182\n",
        "iteration 25\n",
        "delta 0.001143\n",
        "iteration 26\n",
        "delta 0.001032\n",
        "iteration 27\n",
        "delta 0.000984\n",
        "iteration 28\n",
        "delta 0.000900\n",
        "iteration 29\n",
        "delta 0.000852\n",
        "iteration 30\n",
        "delta 0.000786\n",
        "iteration 31\n",
        "delta 0.000741\n",
        "iteration 32\n",
        "delta 0.000688\n",
        "iteration 33\n",
        "delta 0.000647\n",
        "iteration 34\n",
        "delta 0.000603\n",
        "iteration 35\n",
        "delta 0.000567\n",
        "iteration 36\n",
        "delta 0.000530\n",
        "iteration 37\n",
        "delta 0.000498\n",
        "iteration 38\n",
        "delta 0.000466\n",
        "iteration 39\n",
        "delta 0.000438\n",
        "iteration 40\n",
        "delta 0.000411\n",
        "iteration 41\n",
        "delta 0.000387\n",
        "iteration 42\n",
        "delta 0.000364\n",
        "iteration 43\n",
        "delta 0.000342\n",
        "iteration 44\n",
        "delta 0.000322\n",
        "iteration 45\n",
        "delta 0.000303\n",
        "iteration 46\n",
        "delta 0.000286\n",
        "iteration 47\n",
        "delta 0.000269\n",
        "iteration 48\n",
        "delta 0.000254\n",
        "iteration 49\n",
        "delta 0.000239\n",
        "iteration 50\n",
        "delta 0.000226\n",
        "iteration 51\n",
        "delta 0.000213\n",
        "iteration 52\n",
        "delta 0.000201\n",
        "iteration 53\n",
        "delta 0.000190\n",
        "iteration 54\n",
        "delta 0.000179\n",
        "iteration 55\n",
        "delta 0.000169\n",
        "iteration 56\n",
        "delta 0.000160\n",
        "iteration 57\n",
        "delta 0.000151\n",
        "iteration 58\n",
        "delta 0.000143\n",
        "iteration 59\n",
        "delta 0.000135\n",
        "iteration 60\n",
        "delta 0.000128\n",
        "iteration 61\n",
        "delta 0.000121\n",
        "iteration 62\n",
        "delta 0.000114\n",
        "iteration 63\n",
        "delta 0.000108\n",
        "iteration 64\n",
        "delta 0.000102\n",
        "iteration 65\n",
        "delta 0.000097\n",
        "iteration 66\n",
        "delta 0.000092\n",
        "iteration 67\n",
        "delta 0.000087\n",
        "iteration 68\n",
        "delta 0.000082\n",
        "iteration 69\n",
        "delta 0.000078\n",
        "iteration 70\n",
        "delta 0.000074\n",
        "iteration 71\n",
        "delta 0.000070\n",
        "iteration 72\n",
        "delta 0.000066\n",
        "iteration 73\n",
        "delta 0.000063\n",
        "iteration 74\n",
        "delta 0.000059\n",
        "iteration 75\n",
        "delta 0.000056\n",
        "iteration 76\n",
        "delta 0.000053\n",
        "iteration 77\n",
        "delta 0.000050\n",
        "iteration 78\n",
        "delta 0.000048\n",
        "iteration 79\n",
        "delta 0.000045\n",
        "iteration 80\n",
        "delta 0.000043\n",
        "iteration 81\n",
        "delta 0.000041\n",
        "iteration 82\n",
        "delta 0.000039\n",
        "iteration 83\n",
        "delta 0.000037\n",
        "iteration 84\n",
        "delta 0.000035\n",
        "iteration 85\n",
        "delta 0.000033\n",
        "iteration 86\n",
        "delta 0.000031\n",
        "iteration 87\n",
        "delta 0.000029\n",
        "iteration 88\n",
        "delta 0.000028\n",
        "iteration 89\n",
        "delta 0.000027\n",
        "iteration 90\n",
        "delta 0.000025\n",
        "iteration 91\n",
        "delta 0.000024\n",
        "iteration 92\n",
        "delta 0.000023\n",
        "iteration 93\n",
        "delta 0.000021\n",
        "iteration 94\n",
        "delta 0.000020\n",
        "iteration 95\n",
        "delta 0.000019\n",
        "iteration 96\n",
        "delta 0.000018\n",
        "iteration 97\n",
        "delta 0.000017\n",
        "iteration 98\n",
        "delta 0.000016\n",
        "iteration 99\n",
        "delta 0.000016\n",
        "iteration 100\n",
        "delta 0.000015\n",
        "iteration 101\n",
        "delta 0.000014\n",
        "iteration 102\n",
        "delta 0.000013\n",
        "iteration 103\n",
        "delta 0.000013\n",
        "iteration 104\n",
        "delta 0.000012\n",
        "iteration 105\n",
        "delta 0.000011\n",
        "iteration 106\n",
        "delta 0.000011\n",
        "iteration 107\n",
        "delta 0.000010\n",
        "iteration 108\n",
        "delta 0.000010\n",
        "iteration 109\n",
        "delta 0.000009\n",
        "iteration 110\n",
        "delta 0.000009\n",
        "iteration 111\n",
        "delta 0.000008\n",
        "iteration 112\n",
        "delta 0.000008\n",
        "iteration 113\n",
        "delta 0.000007\n",
        "iteration 114\n",
        "delta 0.000007\n",
        "iteration 115\n",
        "delta 0.000007\n",
        "iteration 116\n",
        "delta 0.000006\n",
        "iteration 117\n",
        "delta 0.000006\n",
        "iteration 118\n",
        "delta 0.000006\n",
        "iteration 119\n",
        "delta 0.000005\n",
        "iteration 120\n",
        "delta 0.000005\n",
        "iteration 121\n",
        "delta 0.000005\n",
        "iteration 122\n",
        "delta 0.000005\n",
        "iteration 123\n",
        "delta 0.000004\n",
        "iteration 124\n",
        "delta 0.000004\n",
        "iteration 125\n",
        "delta 0.000004\n",
        "iteration 126\n",
        "delta 0.000004\n",
        "iteration 127\n",
        "delta 0.000004\n",
        "iteration 128\n",
        "delta 0.000003\n",
        "iteration 129\n",
        "delta 0.000003\n",
        "iteration 130\n",
        "delta 0.000003\n",
        "iteration 131\n",
        "delta 0.000003\n",
        "iteration 132\n",
        "delta 0.000003\n",
        "iteration 133\n",
        "delta 0.000003\n",
        "iteration 134\n",
        "delta 0.000002\n",
        "iteration 135\n",
        "delta 0.000002\n",
        "iteration 136\n",
        "delta 0.000002\n",
        "iteration 137\n",
        "delta 0.000002\n",
        "iteration 138\n",
        "delta 0.000002\n",
        "iteration 139\n",
        "delta 0.000002\n",
        "iteration 140\n",
        "delta 0.000002\n",
        "iteration 141\n",
        "delta 0.000002\n",
        "iteration 142\n",
        "delta 0.000002\n",
        "iteration 143\n",
        "delta 0.000002\n",
        "iteration 144\n",
        "delta 0.000001\n",
        "iteration 145\n",
        "delta 0.000001\n",
        "iteration 146\n",
        "delta 0.000001\n",
        "iteration 147\n",
        "delta 0.000001\n",
        "iteration 148\n",
        "delta 0.000001\n",
        "iteration 149\n",
        "delta 0.000001\n",
        "iteration 150\n",
        "delta 0.000001\n",
        "iteration 151\n",
        "delta 0.000001\n",
        "iteration 152\n",
        "delta 0.000001\n",
        "iteration 153\n",
        "delta 0.000001\n",
        "iteration 154\n",
        "delta 0.000001\n",
        "iteration 155\n",
        "delta 0.000001\n",
        "iteration 156\n",
        "delta 0.000001\n",
        "iteration 157\n",
        "delta 0.000001\n",
        "iteration 158\n",
        "delta 0.000001\n",
        "iteration 159\n",
        "delta 0.000001\n",
        "iteration 160\n",
        "delta 0.000001\n",
        "iteration 161\n",
        "delta 0.000001\n",
        "iteration 162\n",
        "delta 0.000001\n",
        "iteration 163\n",
        "delta 0.000001\n",
        "iteration 164\n",
        "delta 0.000001\n",
        "iteration 165\n",
        "delta 0.000000\n",
        "iteration 166\n",
        "delta 0.000000\n",
        "iteration 167\n",
        "delta 0.000000\n",
        "iteration 168\n",
        "delta 0.000000\n",
        "iteration 169\n",
        "delta 0.000000\n",
        "iteration 170\n",
        "delta 0.000000\n",
        "iteration 171\n",
        "delta 0.000000\n",
        "iteration 172\n",
        "delta 0.000000\n",
        "iteration 173\n",
        "delta 0.000000\n",
        "iteration 174\n",
        "delta 0.000000\n",
        "iteration 175\n",
        "delta 0.000000\n",
        "iteration 176\n",
        "delta 0.000000\n",
        "iteration 177\n",
        "delta 0.000000\n",
        "iteration 178\n",
        "delta 0.000000\n",
        "iteration 179\n",
        "delta 0.000000\n",
        "iteration 180\n",
        "delta 0.000000\n",
        "iteration 181\n",
        "delta 0.000000\n",
        "iteration 182\n",
        "delta 0.000000\n",
        "iteration 183\n",
        "delta 0.000000\n",
        "iteration 184\n",
        "delta 0.000000\n",
        "iteration 185\n",
        "delta 0.000000\n",
        "iteration 186\n",
        "delta 0.000000\n",
        "iteration 187\n",
        "delta 0.000000\n",
        "iteration 188\n",
        "delta 0.000000\n",
        "iteration 189\n",
        "delta 0.000000\n",
        "iteration 190\n",
        "delta 0.000000\n",
        "iteration 191\n",
        "delta 0.000000\n",
        "iteration 192\n",
        "delta 0.000000\n",
        "iteration 193\n",
        "delta 0.000000\n",
        "iteration 194\n",
        "delta 0.000000\n",
        "iteration 195\n",
        "delta 0.000000\n"
       ]
      },
      {
       "output_type": "pyout",
       "prompt_number": 35,
       "text": [
        "True"
       ]
      }
     ],
     "prompt_number": 35
    },
    {
     "cell_type": "code",
     "collapsed": false,
     "input": [
      "class SimplexProjectionExpSort():\n",
      "    def __init__(self, epsilon = 0):\n",
      "        self.epsilon = epsilon\n",
      "    def __str__(self):\n",
      "        return 'SimplexExpSort{}'.format(self.epsilon)\n",
      "\n",
      "    def project(self, x, g, eta):\n",
      "        \"\"\"Computes the Bregman projection, with exponential potential, of a vector x given a gradient vector g, using a\n",
      "        sorting method. The complexity of this method is O(d log d), where d is the size of x.\n",
      "        Takes as input\n",
      "        - the current iterate x\n",
      "        - the gradient vector (scaled by the step size) g\n",
      "        -- This is l_i(t)*eta\n",
      "        \"\"\"\n",
      "        epsilon = self.epsilon\n",
      "        d = len(x)\n",
      "        y = (x+epsilon)*np.exp(-g*eta)\n",
      "        yy = sorted(y)\n",
      "        S = sum(yy)\n",
      "        j = 0\n",
      "        while((1+epsilon*(d-j))*yy[j]/S - epsilon <= 0):\n",
      "            S -= yy[j]\n",
      "            j += 1\n",
      "        return np.maximum(0, -epsilon+(1+epsilon*(d-j))*y/S)"
     ],
     "language": "python",
     "outputs": []
    },
    {
     "cell_type": "code",
     "collapsed": false,
     "input": [
      "def KL(x, y):\n",
      "    return sum([x_i*np.log(x_i/y_i) for x_i, y_i in zip(x, y) if x_i > 0])"
     ],
     "language": "python",
     "outputs": []
    },
    {
     "cell_type": "code",
     "collapsed": false,
     "input": [
      "eta_grid_size = 100\n",
      "etas = np.linspace(-1, 1, eta_grid_size)\n",
      "\n",
      "epsilon_grid_size = 10\n",
      "epsilons = np.linspace(0.0, 0.1, epsilon_grid_size)\n",
      "\n",
      "X, Y = np.meshgrid(etas, epsilons)\n",
      "\n",
      "KL_divergences = np.zeros((eta_grid_size, epsilon_grid_size))\n",
      "\n",
      "etas_grid, epsilon_grid = np.meshgrid(etas, epsilons)\n",
      "\n",
      "i = 0\n",
      "j = 0\n",
      "for i in range(eta_grid_size):\n",
      "    for j in range(epsilon_grid_size):\n",
      "        eta = etas[i]\n",
      "        epsilon = epsilons[j]\n",
      "        iteration = 20\n",
      "\n",
      "        current_flows, current_costs, next_flows = get_bar_values(g, p1, iteration)\n",
      "        spe = SimplexProjectionExpSort(epsilon)\n",
      "\n",
      "        normalization = np.sum(current_flows*np.exp(-eta*current_costs))\n",
      "\n",
      "        max_iteration = 300\n",
      "        gradient = current_costs\n",
      "        x_predicted = spe.project(current_flows, current_costs, eta)\n",
      "\n",
      "        KL_divergences[i, j] = KL(next_flows, x_predicted) \n",
      "\n",
      "KL_divergences = np.array(KL_divergences)"
     ],
     "language": "python",
     "outputs": [],
     "prompt_number": 25
    },
    {
     "cell_type": "code",
     "collapsed": false,
     "input": [
      "fig = plt.figure(figsize=(8,4), facecolor='w')\n",
      "ax = fig.add_subplot(111, projection='3d')\n",
      "ax.plot_surface(etas_grid, epsilon_grid, KL_divergences.T)\n",
      "ax.xaxis._axinfo['label']['space_factor'] = 1.8\n",
      "ax.yaxis._axinfo['label']['space_factor'] = 1.8\n",
      "ax.set_xlabel('$\\eta$\n",
      "', linespacing=10)\n",
      "ax.set_ylabel('Epsilon', linespacing=0.2)\n",
      "ax.set_zlabel('KL divergence', linespacing=20)\n",
      "plt.savefig('../paper/images/no_slider_KL_divergence_surface.png')\n"
     ],
     "language": "python",
     "outputs": [
      {
       "ename": "NameError",
       "evalue": "name 'etas_grid' is not defined",
       "output_type": "pyerr",
       "traceback": [
        "\u001b[0;31m---------------------------------------------------------------------------\u001b[0m\n\u001b[0;31mNameError\u001b[0m                                 Traceback (most recent call last)",
        "\u001b[0;32m<ipython-input-369-f898f8584150>\u001b[0m in \u001b[0;36m<module>\u001b[0;34m()\u001b[0m\n\u001b[1;32m      1\u001b[0m \u001b[0mfig\u001b[0m \u001b[0;34m=\u001b[0m \u001b[0mplt\u001b[0m\u001b[0;34m.\u001b[0m\u001b[0mfigure\u001b[0m\u001b[0;34m(\u001b[0m\u001b[0mfigsize\u001b[0m\u001b[0;34m=\u001b[0m\u001b[0;34m(\u001b[0m\u001b[0;36m8\u001b[0m\u001b[0;34m,\u001b[0m\u001b[0;36m4\u001b[0m\u001b[0;34m)\u001b[0m\u001b[0;34m,\u001b[0m \u001b[0mfacecolor\u001b[0m\u001b[0;34m=\u001b[0m\u001b[0;34m'w'\u001b[0m\u001b[0;34m)\u001b[0m\u001b[0;34m\u001b[0m\u001b[0m\n\u001b[1;32m      2\u001b[0m \u001b[0max\u001b[0m \u001b[0;34m=\u001b[0m \u001b[0mfig\u001b[0m\u001b[0;34m.\u001b[0m\u001b[0madd_subplot\u001b[0m\u001b[0;34m(\u001b[0m\u001b[0;36m111\u001b[0m\u001b[0;34m,\u001b[0m \u001b[0mprojection\u001b[0m\u001b[0;34m=\u001b[0m\u001b[0;34m'3d'\u001b[0m\u001b[0;34m)\u001b[0m\u001b[0;34m\u001b[0m\u001b[0m\n\u001b[0;32m----> 3\u001b[0;31m \u001b[0max\u001b[0m\u001b[0;34m.\u001b[0m\u001b[0mplot_surface\u001b[0m\u001b[0;34m(\u001b[0m\u001b[0metas_grid\u001b[0m\u001b[0;34m,\u001b[0m \u001b[0mepsilon_grid\u001b[0m\u001b[0;34m,\u001b[0m \u001b[0mKL_divergences\u001b[0m\u001b[0;34m.\u001b[0m\u001b[0mT\u001b[0m\u001b[0;34m)\u001b[0m\u001b[0;34m\u001b[0m\u001b[0m\n\u001b[0m\u001b[1;32m      4\u001b[0m \u001b[0max\u001b[0m\u001b[0;34m.\u001b[0m\u001b[0mxaxis\u001b[0m\u001b[0;34m.\u001b[0m\u001b[0m_axinfo\u001b[0m\u001b[0;34m[\u001b[0m\u001b[0;34m'label'\u001b[0m\u001b[0;34m]\u001b[0m\u001b[0;34m[\u001b[0m\u001b[0;34m'space_factor'\u001b[0m\u001b[0;34m]\u001b[0m \u001b[0;34m=\u001b[0m \u001b[0;36m1.8\u001b[0m\u001b[0;34m\u001b[0m\u001b[0m\n\u001b[1;32m      5\u001b[0m \u001b[0max\u001b[0m\u001b[0;34m.\u001b[0m\u001b[0myaxis\u001b[0m\u001b[0;34m.\u001b[0m\u001b[0m_axinfo\u001b[0m\u001b[0;34m[\u001b[0m\u001b[0;34m'label'\u001b[0m\u001b[0;34m]\u001b[0m\u001b[0;34m[\u001b[0m\u001b[0;34m'space_factor'\u001b[0m\u001b[0;34m]\u001b[0m \u001b[0;34m=\u001b[0m \u001b[0;36m1.8\u001b[0m\u001b[0;34m\u001b[0m\u001b[0m\n",
        "\u001b[0;31mNameError\u001b[0m: name 'etas_grid' is not defined"
       ]
      },
      {
       "output_type": "display_data",
       "png": "[encoded data removed]",
       "text": [
        "<matplotlib.figure.Figure at 0x10ea99f90>"
       ]
      }
     ],
     "prompt_number": 369
    },
    {
     "cell_type": "code",
     "collapsed": false,
     "input": [
      "fig = plt.figure()\n",
      "ax = fig.add_subplot(111, projection='3d')\n",
      "\n",
      "for i in range(epsilon_grid.shape[0]):\n",
      "    etas_v = etas_grid[i, :]\n",
      "    ax.plot(etas_v, epsilon_grid[i, :], KL_divergences[:, i])\n",
      "    min_val = min(KL_divergences[:, i])"
     ],
     "language": "python",
     "outputs": [
      {
       "output_type": "display_data",
       "png": "[encoded data removed]",
       "text": [
        "<matplotlib.figure.Figure at 0x115fc01d0>"
       ]
      }
     ],
     "prompt_number": 302
    },
    {
     "cell_type": "code",
     "collapsed": false,
     "input": [
      "def finite_difference(f, x, delta=1E-5):\n",
      "    if np.isnan(f(x+delta)):\n",
      "        print 'f(x+delta) is nan'\n",
      "    if np.isnan(f(x)):\n",
      "        print 'f(x) is nan'\n",
      "    if np.isnan((f(x+delta)-f(x))/(delta)):\n",
      "        print 'f(x+delta)-f(x)', f(x)\n",
      "        print '(f(x+delta)-f(x))/(delta) is nan\\n\\n\\n'\n",
      "    return (f(x+delta)-f(x))/(delta)"
     ],
     "language": "python",
     "outputs": []
    },
    {
     "cell_type": "code",
     "collapsed": false,
     "input": [
      "def estimate_best_eta_epsilon(game, player, turn_iteration):\n",
      "    # print 'UPASDASDA2342383888'\n",
      "    epsilon = 1E-4\n",
      "    eta = 0.6\n",
      "\n",
      "    grad_eta_approx = 3.0\n",
      "    grad_epsilon_approx = 3.0\n",
      "\n",
      "    current_flows, current_costs, next_flows = get_bar_values(game, player, turn_iteration)\n",
      "\n",
      "    tolerance = 1E-4\n",
      "\n",
      "    m = 0\n",
      "    while abs(grad_eta_approx) > tolerance or abs(grad_epsilon_approx) > tolerance:\n",
      "        m += 1\n",
      "\n",
      "        spe = SimplexProjectionExpSort(epsilon)\n",
      "\n",
      "        def f_eta(epsilon, eta, p=False):\n",
      "            # if p:\n",
      "            #     print 'epsilon in f_eta', epsilon\n",
      "            x_predicted = spe.project(current_flows, current_costs, eta)\n",
      "            return KL(next_flows, x_predicted)\n",
      "\n",
      "        grad_eta_approx = finite_difference(lambda ea: f_eta(epsilon, ea), eta)\n",
      "\n",
      "        i = 0\n",
      "        while abs(grad_eta_approx) >= tolerance:\n",
      "            eta = eta - grad_eta_approx/(20)\n",
      "            grad_eta_approx = finite_difference(lambda ea: f_eta(epsilon, ea), eta)\n",
      "            if np.isinf(grad_eta_approx):\n",
      "                print 'DIEDDDD'\n",
      "            \n",
      "            i += 1\n",
      "            # print 'eta: %f' % eta\n",
      "\n",
      "        # print 'Grad eta:', grad_eta_approx\n",
      "        # print 'Eta:', eta\n",
      "\n",
      "        if epsilon == 0:\n",
      "            break\n",
      "\n",
      "        def f_epsilon(eta, epsilon):\n",
      "            spe = SimplexProjectionExpSort(epsilon)\n",
      "            x_predicted = spe.project(current_flows, current_costs, eta)\n",
      "            return KL(next_flows, x_predicted)\n",
      "\n",
      "        grad_epsilon_approx = finite_difference(lambda ep: f_epsilon(eta, ep), epsilon)\n",
      "        # print 'Grad epsilon approx:', grad_epsilon_approx\n",
      "\n",
      "        i = 0\n",
      "        while abs(grad_epsilon_approx) >= tolerance:\n",
      "            epsilon = epsilon - grad_epsilon_approx\n",
      "            if epsilon < 0:\n",
      "                epsilon = 0\n",
      "                # print 'Epsilon negative!!!'\n",
      "                break\n",
      "            grad_epsilon_approx = finite_difference(lambda ep: f_epsilon(eta, ep), epsilon)\n",
      "            if np.isinf(grad_epsilon_approx):\n",
      "                print 'DIEDDDD for epsilon'\n",
      "            i += 1\n",
      "\n",
      "        # print 'Epsil hsdfds', epsilon\n",
      "\n",
      "        grad_eta_approx = finite_difference(lambda ea: f_eta(epsilon, ea, True), eta)\n",
      "        grad_epsilon_approx = finite_difference(lambda ep: f_epsilon(eta, ep), epsilon)\n",
      "\n",
      "        print m\n",
      "        print grad_eta_approx\n",
      "        print grad_epsilon_approx\n",
      "\n",
      "    return eta, epsilon"
     ],
     "language": "python",
     "outputs": []
    },
    {
     "cell_type": "code",
     "collapsed": false,
     "input": [
      "start = 3\n",
      "end = 28\n",
      "\n",
      "predictions = []\n",
      "actual = []\n",
      "\n",
      "epsilons = []\n",
      "etas = []\n",
      "\n",
      "for i in range(start, end):\n",
      "    best_eta, best_epsilon = estimate_best_eta_epsilon(g, p1, i-1)\n",
      "\n",
      "    best_epsilon = max(best_epsilon, 0)\n",
      "\n",
      "    epsilons.append(best_epsilon) \n",
      "    etas.append(best_eta) \n",
      "\n",
      "    current_flows, current_costs, next_flows = get_bar_values(g, p1, i)\n",
      "\n",
      "    spe = SimplexProjectionExpSort(best_epsilon)\n",
      "\n",
      "    x_predicted = spe.project(current_flows, current_costs, best_eta)    \n",
      "    predictions.append(x_predicted)\n",
      "    actual.append(next_flows)\n",
      "\n",
      "    print i\n",
      "\n",
      "predictions = np.array(predictions)\n",
      "actual = np.array(actual)"
     ],
     "language": "python",
     "outputs": [
      {
       "output_type": "stream",
       "stream": "stdout",
       "text": [
        "1\n",
        "9.66009418291e-05\n",
        "0.0419152708875\n",
        "3"
       ]
      },
      {
       "output_type": "stream",
       "stream": "stdout",
       "text": [
        "\n",
        "1"
       ]
      },
      {
       "output_type": "stream",
       "stream": "stdout",
       "text": [
        "\n",
        "9.97026732008e-05\n",
        "-8.86311711523e-05\n",
        "4"
       ]
      },
      {
       "output_type": "stream",
       "stream": "stdout",
       "text": [
        "\n",
        "1"
       ]
      },
      {
       "output_type": "stream",
       "stream": "stdout",
       "text": [
        "\n",
        "9.95447269753e-05\n",
        "-6.90261039299e-05\n",
        "5"
       ]
      },
      {
       "output_type": "stream",
       "stream": "stdout",
       "text": [
        "\n",
        "1"
       ]
      },
      {
       "output_type": "stream",
       "stream": "stdout",
       "text": [
        "\n",
        "9.88292364612e-05\n",
        "9.57073182858e-05\n",
        "6"
       ]
      },
      {
       "output_type": "stream",
       "stream": "stdout",
       "text": [
        "\n",
        "1"
       ]
      },
      {
       "output_type": "stream",
       "stream": "stdout",
       "text": [
        "\n",
        "9.9484162683e-05\n",
        "0.000710898047547\n",
        "7"
       ]
      },
      {
       "output_type": "stream",
       "stream": "stdout",
       "text": [
        "\n",
        "1"
       ]
      },
      {
       "output_type": "stream",
       "stream": "stdout",
       "text": [
        "\n",
        "9.46715778688e-05\n",
        "0.000237063246464\n",
        "8"
       ]
      },
      {
       "output_type": "stream",
       "stream": "stdout",
       "text": [
        "\n",
        "1"
       ]
      },
      {
       "output_type": "stream",
       "stream": "stdout",
       "text": [
        "\n",
        "-9.9887941668e-05\n",
        "-0.0159834116872\n",
        "9"
       ]
      },
      {
       "output_type": "stream",
       "stream": "stdout",
       "text": [
        "\n",
        "1"
       ]
      },
      {
       "output_type": "stream",
       "stream": "stdout",
       "text": [
        "\n",
        "-9.99886680397e-05\n",
        "-9.87176488124e-05\n",
        "10"
       ]
      },
      {
       "output_type": "stream",
       "stream": "stdout",
       "text": [
        "\n",
        "1"
       ]
      },
      {
       "output_type": "stream",
       "stream": "stdout",
       "text": [
        "\n",
        "9.72491935938e-05\n",
        "2.46436440698e-05\n",
        "11"
       ]
      },
      {
       "output_type": "stream",
       "stream": "stdout",
       "text": [
        "\n",
        "1"
       ]
      },
      {
       "output_type": "stream",
       "stream": "stdout",
       "text": [
        "\n",
        "-9.90527541933e-05\n",
        "-0.00408699419273\n",
        "12"
       ]
      },
      {
       "output_type": "stream",
       "stream": "stdout",
       "text": [
        "\n",
        "1"
       ]
      },
      {
       "output_type": "stream",
       "stream": "stdout",
       "text": [
        "\n",
        "9.99065136176e-05\n",
        "-9.95250881708e-05\n",
        "13"
       ]
      },
      {
       "output_type": "stream",
       "stream": "stdout",
       "text": [
        "\n",
        "1"
       ]
      },
      {
       "output_type": "stream",
       "stream": "stdout",
       "text": [
        "\n",
        "9.99932140561e-05\n",
        "7.67597672924e-05\n",
        "14"
       ]
      },
      {
       "output_type": "stream",
       "stream": "stdout",
       "text": [
        "\n",
        "1"
       ]
      },
      {
       "output_type": "stream",
       "stream": "stdout",
       "text": [
        "\n",
        "9.97311379856e-05\n",
        "9.45951505278e-05\n",
        "15"
       ]
      },
      {
       "output_type": "stream",
       "stream": "stdout",
       "text": [
        "\n",
        "1"
       ]
      },
      {
       "output_type": "stream",
       "stream": "stdout",
       "text": [
        "\n",
        "-9.99888087258e-05\n",
        "-9.62547428915e-05\n",
        "16"
       ]
      },
      {
       "output_type": "stream",
       "stream": "stdout",
       "text": [
        "\n",
        "1"
       ]
      },
      {
       "output_type": "stream",
       "stream": "stdout",
       "text": [
        "\n",
        "9.96243611912e-05\n",
        "-9.78168588663e-05\n",
        "17"
       ]
      },
      {
       "output_type": "stream",
       "stream": "stdout",
       "text": [
        "\n",
        "1"
       ]
      },
      {
       "output_type": "stream",
       "stream": "stdout",
       "text": [
        "\n",
        "9.98094854161e-05\n",
        "0.000144084632441\n",
        "18"
       ]
      },
      {
       "output_type": "stream",
       "stream": "stdout",
       "text": [
        "\n",
        "1"
       ]
      },
      {
       "output_type": "stream",
       "stream": "stdout",
       "text": [
        "\n",
        "9.83812309396e-05\n",
        "0.00163270219046\n",
        "19"
       ]
      },
      {
       "output_type": "stream",
       "stream": "stdout",
       "text": [
        "\n",
        "1"
       ]
      },
      {
       "output_type": "stream",
       "stream": "stdout",
       "text": [
        "\n",
        "9.99372707852e-05\n",
        "5.96429652194e-05\n",
        "20"
       ]
      },
      {
       "output_type": "stream",
       "stream": "stdout",
       "text": [
        "\n",
        "1"
       ]
      },
      {
       "output_type": "stream",
       "stream": "stdout",
       "text": [
        "\n",
        "9.97415444725e-05\n",
        "0.000245294063772\n",
        "21"
       ]
      },
      {
       "output_type": "stream",
       "stream": "stdout",
       "text": [
        "\n",
        "1"
       ]
      },
      {
       "output_type": "stream",
       "stream": "stdout",
       "text": [
        "\n",
        "9.99531894752e-05\n",
        "-9.25719417788e-05\n",
        "22"
       ]
      },
      {
       "output_type": "stream",
       "stream": "stdout",
       "text": [
        "\n",
        "1"
       ]
      },
      {
       "output_type": "stream",
       "stream": "stdout",
       "text": [
        "\n",
        "9.90203489516e-05\n",
        "0.000429514855887\n",
        "23"
       ]
      },
      {
       "output_type": "stream",
       "stream": "stdout",
       "text": [
        "\n",
        "1"
       ]
      },
      {
       "output_type": "stream",
       "stream": "stdout",
       "text": [
        "\n",
        "9.99853193295e-05\n",
        "-9.96512695278e-05\n",
        "24"
       ]
      },
      {
       "output_type": "stream",
       "stream": "stdout",
       "text": [
        "\n",
        "1"
       ]
      },
      {
       "output_type": "stream",
       "stream": "stdout",
       "text": [
        "\n",
        "9.91811025669e-05\n",
        "0.000473019000531\n",
        "25"
       ]
      },
      {
       "output_type": "stream",
       "stream": "stdout",
       "text": [
        "\n",
        "1"
       ]
      },
      {
       "output_type": "stream",
       "stream": "stdout",
       "text": [
        "\n",
        "9.99707667343e-05\n",
        "0.00058926568295\n",
        "26"
       ]
      },
      {
       "output_type": "stream",
       "stream": "stdout",
       "text": [
        "\n",
        "1"
       ]
      },
      {
       "output_type": "stream",
       "stream": "stdout",
       "text": [
        "\n",
        "9.97208456435e-05\n",
        "0.000634477799813\n",
        "27"
       ]
      },
      {
       "output_type": "stream",
       "stream": "stdout",
       "text": [
        "\n"
       ]
      }
     ],
     "prompt_number": 29
    },
    {
     "cell_type": "code",
     "collapsed": false,
     "input": [
      "plt.plot(etas)"
     ],
     "language": "python",
     "outputs": [
      {
       "output_type": "pyout",
       "prompt_number": 30,
       "text": [
        "[<matplotlib.lines.Line2D at 0x1082dd990>]"
       ]
      },
      {
       "output_type": "display_data",
       "png": "[encoded data removed]",
       "text": [
        "<matplotlib.figure.Figure at 0x1068ae610>"
       ]
      }
     ],
     "prompt_number": 30
    },
    {
     "cell_type": "code",
     "collapsed": false,
     "input": [
      "min(etas)"
     ],
     "language": "python",
     "outputs": [
      {
       "output_type": "pyout",
       "prompt_number": 31,
       "text": [
        "-0.62031713711701975"
       ]
      }
     ],
     "prompt_number": 31
    },
    {
     "cell_type": "code",
     "collapsed": false,
     "input": [
      "plt.plot(epsilons)"
     ],
     "language": "python",
     "outputs": [
      {
       "output_type": "pyout",
       "prompt_number": 32,
       "text": [
        "[<matplotlib.lines.Line2D at 0x108329d90>]"
       ]
      },
      {
       "output_type": "display_data",
       "png": "[encoded data removed]",
       "text": [
        "<matplotlib.figure.Figure at 0x106fc6990>"
       ]
      }
     ],
     "prompt_number": 32
    },
    {
     "cell_type": "code",
     "collapsed": false,
     "input": [
      "plt.plot(predictions[:, 1], 'ro-')\n",
      "plt.plot(actual[:, 1], 'bo-')"
     ],
     "language": "python",
     "outputs": [
      {
       "output_type": "pyout",
       "prompt_number": 33,
       "text": [
        "[<matplotlib.lines.Line2D at 0x1083a3690>]"
       ]
      },
      {
       "output_type": "display_data",
       "png": "[encoded data removed]",
       "text": [
        "<matplotlib.figure.Figure at 0x108329f10>"
       ]
      }
     ],
     "prompt_number": 33
    },
    {
     "cell_type": "code",
     "collapsed": false,
     "input": [
      "plt.plot(predictions[:, 2], 'ro-')\n",
      "plt.plot(actual[:, 2], 'bo-')"
     ],
     "language": "python",
     "outputs": [
      {
       "output_type": "pyout",
       "prompt_number": 34,
       "text": [
        "[<matplotlib.lines.Line2D at 0x108545f10>]"
       ]
      },
      {
       "output_type": "display_data",
       "png": "[encoded data removed]",
       "text": [
        "<matplotlib.figure.Figure at 0x108561250>"
       ]
      }
     ],
     "prompt_number": 34
    },
    {
     "cell_type": "code",
     "collapsed": false,
     "input": [
      "plt.plot(predictions[:, 3], 'ro-')\n",
      "plt.plot(actual[:, 3], 'bo-')"
     ],
     "language": "python",
     "outputs": [
      {
       "output_type": "pyout",
       "prompt_number": 35,
       "text": [
        "[<matplotlib.lines.Line2D at 0x108635090>]"
       ]
      },
      {
       "output_type": "display_data",
       "png": "[encoded data removed]",
       "text": [
        "<matplotlib.figure.Figure at 0x108698e90>"
       ]
      }
     ],
     "prompt_number": 35
    },
    {
     "cell_type": "code",
     "collapsed": false,
     "input": [
      "# Moving averages for beta\n",
      "\n",
      "start = 3\n",
      "end = 28\n",
      "\n",
      "predictions = []\n",
      "actual = []\n",
      "\n",
      "epsilons = []\n",
      "etas = []\n",
      "\n",
      "for i in range(start, end):\n",
      "    best_eta, best_epsilon = estimate_best_eta_epsilon(g, p1, i-1)\n",
      "\n",
      "    best_epsilon = max(best_epsilon, 0)\n",
      "\n",
      "    epsilons.append(best_epsilon) \n",
      "    etas.append(best_eta)\n",
      "\n",
      "    best_eta = np.mean(etas[len(etas)-5:len(etas)])\n",
      "\n",
      "    current_flows, current_costs, next_flows = get_bar_values(g, p1, i)\n",
      "\n",
      "    spe = SimplexProjectionExpSort(best_epsilon)\n",
      "\n",
      "    x_predicted = spe.project(current_flows, current_costs, best_eta)    \n",
      "    predictions.append(x_predicted)\n",
      "    actual.append(next_flows)\n",
      "\n",
      "predictions = np.array(predictions)\n",
      "actual = np.array(actual)"
     ],
     "language": "python",
     "outputs": [],
     "prompt_number": 55
    },
    {
     "cell_type": "code",
     "collapsed": false,
     "input": [
      "plt.plot(predictions[:, 1], 'ro-')\n",
      "plt.plot(actual[:, 1], 'bo-')"
     ],
     "language": "python",
     "outputs": [
      {
       "output_type": "pyout",
       "prompt_number": 56,
       "text": [
        "[<matplotlib.lines.Line2D at 0x112d53cd0>]"
       ]
      },
      {
       "output_type": "display_data",
       "png": "[encoded data removed]",
       "text": [
        "<matplotlib.figure.Figure at 0x112d536d0>"
       ]
      }
     ],
     "prompt_number": 56
    },
    {
     "cell_type": "code",
     "collapsed": false,
     "input": [],
     "language": "python",
     "outputs": []
    },
    {
     "cell_type": "code",
     "collapsed": false,
     "input": [],
     "language": "python",
     "outputs": []
    },
    {
     "cell_type": "code",
     "collapsed": false,
     "input": [
      "from graph.utils import *\n",
      "from graph.game_functions import *"
     ],
     "language": "python",
     "outputs": [],
     "prompt_number": 89
    },
    {
     "cell_type": "code",
     "collapsed": false,
     "input": [
      "t3 = GameTurn.objects.get(iteration=3)\n",
      "e_flows = calculate_edge_flow(t3, g, False)"
     ],
     "language": "python",
     "outputs": [
      {
       "output_type": "pyout",
       "prompt_number": 90,
       "text": [
        "<GameTurn: 3>"
       ]
      }
     ],
     "prompt_number": 90
    },
    {
     "cell_type": "code",
     "collapsed": true,
     "input": [
      "plt.plot(global_potentials)"
     ],
     "language": "python",
     "outputs": [
      {
       "output_type": "pyout",
       "prompt_number": 31,
       "text": [
        "[<matplotlib.lines.Line2D at 0x1165de550>]"
       ]
      },
      {
       "output_type": "display_data",
       "png": "[encoded data removed]",
       "text": [
        "<matplotlib.figure.Figure at 0x115fc3dd0>"
       ]
      }
     ],
     "prompt_number": 31
    },
    {
     "cell_type": "code",
     "collapsed": false,
     "input": [
      "Edge.objects.all()"
     ],
     "language": "python",
     "outputs": [
      {
       "output_type": "pyout",
       "prompt_number": 76,
       "text": [
        "[<Edge: from: 3 to: 6>, <Edge: from: 6 to: 9>, <Edge: from: 1 to: 3>, <Edge: from: 7 to: 8>, <Edge: from: 5 to: 9>, <Edge: from: 3 to: 5>, <Edge: from: 1 to: 4>, <Edge: from: 2 to: 3>, <Edge: from: 5 to: 7>, <Edge: from: 5 to: 8>, <Edge: from: 4 to: 6>, <Edge: from: 6 to: 7>, <Edge: from: 2 to: 4>]"
       ]
      }
     ],
     "prompt_number": 76
    },
    {
     "cell_type": "code",
     "collapsed": false,
     "input": [
      "for e in Edge.objects.all():\n",
      "    print e.pk\n",
      "    print e.cost_function"
     ],
     "language": "python",
     "outputs": [
      {
       "output_type": "stream",
       "stream": "stdout",
       "text": [
        "01180e3f595f64bd0fccad5f7d2a73be\n",
        "x\n",
        "14812841179217cfdb6e63d0ffbef319\n",
        "1+x\n",
        "182175f053c3703cb8d33b8a8425f647\n",
        "x+.5\n",
        "187f70636347316d2626d5edc4548ef2\n",
        ".25+.25*x\n",
        "301c5a0c06642fbe79661af6fb1a0896\n",
        "1+x\n",
        "3c8b3e83bef2492e3a4ce8ca52d51591\n",
        "2*x\n",
        "60dc0a497c04648c9e4641bd18c17b04\n",
        "x+1\n",
        "b81e5815c9ad0e911fcae8ce6542ce68\n",
        "x+1\n",
        "be20b37134dc0fe6c75fa9314fe7adce\n",
        ".5+0*x\n",
        "cdff64e531121d7e2da47c95529415de\n",
        "1+x\n",
        "d2139601f439afc2d48ccc82a655eec9\n",
        "2*x\n",
        "f989b13a4792dd7eb3d47a078a7b446c\n",
        "1+0*x\n",
        "fa87b1d9062a52fa051e7db856781a26\n",
        "x+.5\n"
       ]
      }
     ],
     "prompt_number": 341
    },
    {
     "cell_type": "code",
     "collapsed": false,
     "input": [
      "cdff64e531121d7e2da47c95529415de"
     ],
     "language": "python",
     "outputs": []
    },
    {
     "cell_type": "code",
     "collapsed": false,
     "input": [
      "Edge.objects.all()[9].pk"
     ],
     "language": "python",
     "outputs": [
      {
       "output_type": "pyout",
       "prompt_number": 343,
       "text": [
        "u'cdff64e531121d7e2da47c95529415de'"
       ]
      }
     ],
     "prompt_number": 343
    },
    {
     "cell_type": "code",
     "collapsed": false,
     "input": [
      "e_cost_int = dict()\n",
      "e_cost_int[Edge.objects.all()[0].pk] = lambda v: 0.5*v*v\n",
      "e_cost_int[Edge.objects.all()[1].pk] = lambda v: v+0.5*v*v\n",
      "e_cost_int[Edge.objects.all()[2].pk] = lambda v: 0.5*v*v+0.5*v\n",
      "e_cost_int[Edge.objects.all()[3].pk] = lambda v: 0.25*v+0.25*0.5*v*v\n",
      "e_cost_int[Edge.objects.all()[4].pk] = lambda v: v+0.5*v*v\n",
      "e_cost_int[Edge.objects.all()[5].pk] = lambda v: 2*0.5*v*v\n",
      "e_cost_int[Edge.objects.all()[6].pk] = lambda v: 0.5*v*v+v\n",
      "e_cost_int[Edge.objects.all()[7].pk] = lambda v: 0.5*v*v+v\n",
      "e_cost_int[Edge.objects.all()[8].pk] = lambda v: 0.5*v\n",
      "e_cost_int[Edge.objects.all()[9].pk] = lambda v: v+0.5*v*v\n",
      "e_cost_int[Edge.objects.all()[10].pk] = lambda v: 0.5*2*v*v\n",
      "e_cost_int[Edge.objects.all()[11].pk] = lambda v: v\n",
      "e_cost_int[Edge.objects.all()[12].pk] = lambda v: 0.5*v*v+0.5*v"
     ],
     "language": "python",
     "outputs": [],
     "prompt_number": 344
    },
    {
     "cell_type": "code",
     "collapsed": false,
     "input": [
      "e_cost_int"
     ],
     "language": "python",
     "outputs": [
      {
       "output_type": "pyout",
       "prompt_number": 345,
       "text": [
        "{u'01180e3f595f64bd0fccad5f7d2a73be': <function __main__.<lambda>>,\n",
        " u'14812841179217cfdb6e63d0ffbef319': <function __main__.<lambda>>,\n",
        " u'182175f053c3703cb8d33b8a8425f647': <function __main__.<lambda>>,\n",
        " u'187f70636347316d2626d5edc4548ef2': <function __main__.<lambda>>,\n",
        " u'301c5a0c06642fbe79661af6fb1a0896': <function __main__.<lambda>>,\n",
        " u'3c8b3e83bef2492e3a4ce8ca52d51591': <function __main__.<lambda>>,\n",
        " u'60dc0a497c04648c9e4641bd18c17b04': <function __main__.<lambda>>,\n",
        " u'b81e5815c9ad0e911fcae8ce6542ce68': <function __main__.<lambda>>,\n",
        " u'be20b37134dc0fe6c75fa9314fe7adce': <function __main__.<lambda>>,\n",
        " u'cdff64e531121d7e2da47c95529415de': <function __main__.<lambda>>,\n",
        " u'd2139601f439afc2d48ccc82a655eec9': <function __main__.<lambda>>,\n",
        " u'f989b13a4792dd7eb3d47a078a7b446c': <function __main__.<lambda>>,\n",
        " u'fa87b1d9062a52fa051e7db856781a26': <function __main__.<lambda>>}"
       ]
      }
     ],
     "prompt_number": 345
    },
    {
     "cell_type": "code",
     "collapsed": false,
     "input": [
      "pfa.path.edges.all()"
     ],
     "language": "python",
     "outputs": [
      {
       "output_type": "pyout",
       "prompt_number": 48,
       "text": [
        "[<Edge: from: 7 to: 8>, <Edge: from: 1 to: 4>, <Edge: from: 4 to: 6>, <Edge: from: 6 to: 7>]"
       ]
      }
     ],
     "prompt_number": 48
    },
    {
     "cell_type": "code",
     "collapsed": false,
     "input": [
      "edge_flows_turns = []\n",
      "\n",
      "for i in range(0, 31):\n",
      "    turn = GameTurn.objects.get(iteration=i)\n",
      "    edge_flows = dict()\n",
      "    for p in Player.objects.all():\n",
      "        fd = FlowDistribution.objects.get(player=p, turn=turn)\n",
      "        for pfa in fd.path_assignments.all():\n",
      "            for e in pfa.path.edges.all():\n",
      "                if e.pk not in edge_flows:\n",
      "                    edge_flows[e.pk] = 0\n",
      "                edge_flows[e.pk] += pfa.flow\n",
      "    edge_flows_turns.append(edge_flows)"
     ],
     "language": "python",
     "outputs": [],
     "prompt_number": 346
    },
    {
     "cell_type": "code",
     "collapsed": true,
     "input": [
      "edge_flows_turns"
     ],
     "language": "python",
     "outputs": [
      {
       "output_type": "pyout",
       "prompt_number": 106,
       "text": [
        "[{u'01180e3f595f64bd0fccad5f7d2a73be': 1.522657377769409,\n",
        "  u'14812841179217cfdb6e63d0ffbef319': 1.48404255319149,\n",
        "  u'182175f053c3703cb8d33b8a8425f647': 1.512803615138393,\n",
        "  u'187f70636347316d2626d5edc4548ef2': 1.387905604719763,\n",
        "  u'301c5a0c06642fbe79661af6fb1a0896': 0.5159574468085111,\n",
        "  u'3c8b3e83bef2492e3a4ce8ca52d51591': 2.7401462373689833,\n",
        "  u'60dc0a497c04648c9e4641bd18c17b04': 0.487196384861608,\n",
        "  u'b81e5815c9ad0e911fcae8ce6542ce68': 1.75,\n",
        "  u'be20b37134dc0fe6c75fa9314fe7adce': 0.612094395280236,\n",
        "  u'cdff64e531121d7e2da47c95529415de': 1.612094395280236,\n",
        "  u'd2139601f439afc2d48ccc82a655eec9': 0.737196384861608,\n",
        "  u'f989b13a4792dd7eb3d47a078a7b446c': 0.775811209439527,\n",
        "  u'fa87b1d9062a52fa051e7db856781a26': 0.25},\n",
        " {u'01180e3f595f64bd0fccad5f7d2a73be': 2.1883445945945947,\n",
        "  u'14812841179217cfdb6e63d0ffbef319': 1.783783783783784,\n",
        "  u'182175f053c3703cb8d33b8a8425f647': 1.482685810810811,\n",
        "  u'187f70636347316d2626d5edc4548ef2': 2.458333333333333,\n",
        "  u'301c5a0c06642fbe79661af6fb1a0896': 0.216216216216216,\n",
        "  u'3c8b3e83bef2492e3a4ce8ca52d51591': 1.2943412162162151,\n",
        "  u'60dc0a497c04648c9e4641bd18c17b04': 0.517314189189189,\n",
        "  u'b81e5815c9ad0e911fcae8ce6542ce68': 1.0,\n",
        "  u'be20b37134dc0fe6c75fa9314fe7adce': 0.536458333333333,\n",
        "  u'cdff64e531121d7e2da47c95529415de': 0.541666666666666,\n",
        "  u'd2139601f439afc2d48ccc82a655eec9': 1.517314189189189,\n",
        "  u'f989b13a4792dd7eb3d47a078a7b446c': 1.921875,\n",
        "  u'fa87b1d9062a52fa051e7db856781a26': 1.0},\n",
        " {u'01180e3f595f64bd0fccad5f7d2a73be': 1.8289312506891782,\n",
        "  u'14812841179217cfdb6e63d0ffbef319': 1.378264208909369,\n",
        "  u'182175f053c3703cb8d33b8a8425f647': 1.623047271251774,\n",
        "  u'187f70636347316d2626d5edc4548ef2': 2.6071712571387273,\n",
        "  u'301c5a0c06642fbe79661af6fb1a0896': 0.6217357910906289,\n",
        "  u'3c8b3e83bef2492e3a4ce8ca52d51591': 2.403995604580111,\n",
        "  u'60dc0a497c04648c9e4641bd18c17b04': 0.376952728748225,\n",
        "  u'b81e5815c9ad0e911fcae8ce6542ce68': 1.609879584017515,\n",
        "  u'be20b37134dc0fe6c75fa9314fe7adce': 1.389431070628208,\n",
        "  u'cdff64e531121d7e2da47c95529415de': 0.392828742861274,\n",
        "  u'd2139601f439afc2d48ccc82a655eec9': 0.76707314473071,\n",
        "  u'f989b13a4792dd7eb3d47a078a7b446c': 1.217740186510519,\n",
        "  u'fa87b1d9062a52fa051e7db856781a26': 0.39012041598248504},\n",
        " {u'01180e3f595f64bd0fccad5f7d2a73be': 2.592234848484849,\n",
        "  u'14812841179217cfdb6e63d0ffbef319': 1.5119047619047619,\n",
        "  u'182175f053c3703cb8d33b8a8425f647': 1.442261904761905,\n",
        "  u'187f70636347316d2626d5edc4548ef2': 2.6772727272727277,\n",
        "  u'301c5a0c06642fbe79661af6fb1a0896': 0.488095238095238,\n",
        "  u'3c8b3e83bef2492e3a4ce8ca52d51591': 1.259117965367966,\n",
        "  u'60dc0a497c04648c9e4641bd18c17b04': 0.557738095238095,\n",
        "  u'b81e5815c9ad0e911fcae8ce6542ce68': 1.40909090909091,\n",
        "  u'be20b37134dc0fe6c75fa9314fe7adce': 0.44829545454545505,\n",
        "  u'cdff64e531121d7e2da47c95529415de': 0.32272727272727303,\n",
        "  u'd2139601f439afc2d48ccc82a655eec9': 1.148647186147186,\n",
        "  u'f989b13a4792dd7eb3d47a078a7b446c': 2.228977272727273,\n",
        "  u'fa87b1d9062a52fa051e7db856781a26': 0.590909090909091},\n",
        " {u'01180e3f595f64bd0fccad5f7d2a73be': 2.312866547425862,\n",
        "  u'14812841179217cfdb6e63d0ffbef319': 1.394086496028244,\n",
        "  u'182175f053c3703cb8d33b8a8425f647': 1.5517316330966529,\n",
        "  u'187f70636347316d2626d5edc4548ef2': 2.57389265128104,\n",
        "  u'301c5a0c06642fbe79661af6fb1a0896': 0.605913503971756,\n",
        "  u'3c8b3e83bef2492e3a4ce8ca52d51591': 1.5374233555947001,\n",
        "  u'60dc0a497c04648c9e4641bd18c17b04': 0.44826836690334804,\n",
        "  u'b81e5815c9ad0e911fcae8ce6542ce68': 1.298558269923909,\n",
        "  u'be20b37134dc0fe6c75fa9314fe7adce': 0.505402502903983,\n",
        "  u'cdff64e531121d7e2da47c95529415de': 0.42610734871896094,\n",
        "  u'd2139601f439afc2d48ccc82a655eec9': 1.149710096979439,\n",
        "  u'f989b13a4792dd7eb3d47a078a7b446c': 2.068490148377057,\n",
        "  u'fa87b1d9062a52fa051e7db856781a26': 0.701441730076091},\n",
        " {u'01180e3f595f64bd0fccad5f7d2a73be': 2.1458110516934052,\n",
        "  u'14812841179217cfdb6e63d0ffbef319': 1.53030303030303,\n",
        "  u'182175f053c3703cb8d33b8a8425f647': 1.1284313725490192,\n",
        "  u'187f70636347316d2626d5edc4548ef2': 2.665686274509803,\n",
        "  u'301c5a0c06642fbe79661af6fb1a0896': 0.46969696969696895,\n",
        "  u'3c8b3e83bef2492e3a4ce8ca52d51591': 1.137165775401068,\n",
        "  u'60dc0a497c04648c9e4641bd18c17b04': 0.87156862745098,\n",
        "  u'b81e5815c9ad0e911fcae8ce6542ce68': 1.154545454545454,\n",
        "  u'be20b37134dc0fe6c75fa9314fe7adce': 0.333155080213903,\n",
        "  u'cdff64e531121d7e2da47c95529415de': 0.334313725490196,\n",
        "  u'd2139601f439afc2d48ccc82a655eec9': 1.7170231729055248,\n",
        "  u'f989b13a4792dd7eb3d47a078a7b446c': 2.3325311942958997,\n",
        "  u'fa87b1d9062a52fa051e7db856781a26': 0.845454545454545},\n",
        " {u'01180e3f595f64bd0fccad5f7d2a73be': 2.329591522576731,\n",
        "  u'14812841179217cfdb6e63d0ffbef319': 1.377608695652174,\n",
        "  u'182175f053c3703cb8d33b8a8425f647': 1.6694329896907212,\n",
        "  u'187f70636347316d2626d5edc4548ef2': 2.3983130271790056,\n",
        "  u'301c5a0c06642fbe79661af6fb1a0896': 0.622391304347826,\n",
        "  u'3c8b3e83bef2492e3a4ce8ca52d51591': 1.7798941680362559,\n",
        "  u'60dc0a497c04648c9e4641bd18c17b04': 0.330567010309278,\n",
        "  u'b81e5815c9ad0e911fcae8ce6542ce68': 1.440052700922266,\n",
        "  u'be20b37134dc0fe6c75fa9314fe7adce': 0.555815890867437,\n",
        "  u'cdff64e531121d7e2da47c95529415de': 0.601686972820993,\n",
        "  u'd2139601f439afc2d48ccc82a655eec9': 0.890514309387012,\n",
        "  u'f989b13a4792dd7eb3d47a078a7b446c': 1.842497136311569,\n",
        "  u'fa87b1d9062a52fa051e7db856781a26': 0.559947299077734},\n",
        " {u'01180e3f595f64bd0fccad5f7d2a73be': 1.42437770864908,\n",
        "  u'14812841179217cfdb6e63d0ffbef319': 1.5141876430205952,\n",
        "  u'182175f053c3703cb8d33b8a8425f647': 1.40520686743597,\n",
        "  u'187f70636347316d2626d5edc4548ef2': 2.158641279585621,\n",
        "  u'301c5a0c06642fbe79661af6fb1a0896': 0.485812356979405,\n",
        "  u'3c8b3e83bef2492e3a4ce8ca52d51591': 2.242868542682386,\n",
        "  u'60dc0a497c04648c9e4641bd18c17b04': 0.59479313256403,\n",
        "  u'b81e5815c9ad0e911fcae8ce6542ce68': 1.2620393838954957,\n",
        "  u'be20b37134dc0fe6c75fa9314fe7adce': 0.915697465288602,\n",
        "  u'cdff64e531121d7e2da47c95529415de': 0.841358720414379,\n",
        "  u'd2139601f439afc2d48ccc82a655eec9': 1.332753748668534,\n",
        "  u'f989b13a4792dd7eb3d47a078a7b446c': 1.242943814297019,\n",
        "  u'fa87b1d9062a52fa051e7db856781a26': 0.737960616104504},\n",
        " {u'01180e3f595f64bd0fccad5f7d2a73be': 2.4513970695288387,\n",
        "  u'14812841179217cfdb6e63d0ffbef319': 1.471162280701755,\n",
        "  u'182175f053c3703cb8d33b8a8425f647': 1.459752321981425,\n",
        "  u'187f70636347316d2626d5edc4548ef2': 2.708396387600685,\n",
        "  u'301c5a0c06642fbe79661af6fb1a0896': 0.5288377192982461,\n",
        "  u'3c8b3e83bef2492e3a4ce8ca52d51591': 1.230692735163514,\n",
        "  u'60dc0a497c04648c9e4641bd18c17b04': 0.540247678018576,\n",
        "  u'b81e5815c9ad0e911fcae8ce6542ce68': 1.222337482710928,\n",
        "  u'be20b37134dc0fe6c75fa9314fe7adce': 0.410251403465951,\n",
        "  u'cdff64e531121d7e2da47c95529415de': 0.291603612399317,\n",
        "  u'd2139601f439afc2d48ccc82a655eec9': 1.31791019530765,\n",
        "  u'f989b13a4792dd7eb3d47a078a7b446c': 2.298144984134734,\n",
        "  u'fa87b1d9062a52fa051e7db856781a26': 0.7776625172890741},\n",
        " {u'01180e3f595f64bd0fccad5f7d2a73be': 2.143189854838747,\n",
        "  u'14812841179217cfdb6e63d0ffbef319': 1.435648527937289,\n",
        "  u'182175f053c3703cb8d33b8a8425f647': 1.517131178000743,\n",
        "  u'187f70636347316d2626d5edc4548ef2': 2.558892958892958,\n",
        "  u'301c5a0c06642fbe79661af6fb1a0896': 0.564351472062711,\n",
        "  u'3c8b3e83bef2492e3a4ce8ca52d51591': 1.4419257496369882,\n",
        "  u'60dc0a497c04648c9e4641bd18c17b04': 0.482868821999257,\n",
        "  u'b81e5815c9ad0e911fcae8ce6542ce68': 1.067984426474992,\n",
        "  u'be20b37134dc0fe6c75fa9314fe7adce': 0.436467236467236,\n",
        "  u'cdff64e531121d7e2da47c95529415de': 0.441107041107041,\n",
        "  u'd2139601f439afc2d48ccc82a655eec9': 1.414884395524264,\n",
        "  u'f989b13a4792dd7eb3d47a078a7b446c': 2.122425722425722,\n",
        "  u'fa87b1d9062a52fa051e7db856781a26': 0.9320155735250071},\n",
        " {u'01180e3f595f64bd0fccad5f7d2a73be': 1.221362160063169,\n",
        "  u'14812841179217cfdb6e63d0ffbef319': 1.4136354794787,\n",
        "  u'182175f053c3703cb8d33b8a8425f647': 1.5629359837026982,\n",
        "  u'187f70636347316d2626d5edc4548ef2': 2.149550061887398,\n",
        "  u'301c5a0c06642fbe79661af6fb1a0896': 0.5863645205213001,\n",
        "  u'3c8b3e83bef2492e3a4ce8ca52d51591': 2.383842190878909,\n",
        "  u'60dc0a497c04648c9e4641bd18c17b04': 0.43706401629730196,\n",
        "  u'b81e5815c9ad0e911fcae8ce6542ce68': 1.0422683672393802,\n",
        "  u'be20b37134dc0fe6c75fa9314fe7adce': 0.947027732245007,\n",
        "  u'cdff64e531121d7e2da47c95529415de': 0.850449938112602,\n",
        "  u'd2139601f439afc2d48ccc82a655eec9': 1.394795649057922,\n",
        "  u'f989b13a4792dd7eb3d47a078a7b446c': 1.202522329642391,\n",
        "  u'fa87b1d9062a52fa051e7db856781a26': 0.95773163276062},\n",
        " {u'01180e3f595f64bd0fccad5f7d2a73be': 2.351647935225907,\n",
        "  u'14812841179217cfdb6e63d0ffbef319': 1.499262899262899,\n",
        "  u'182175f053c3703cb8d33b8a8425f647': 1.487486330260895,\n",
        "  u'187f70636347316d2626d5edc4548ef2': 2.7722461939265646,\n",
        "  u'301c5a0c06642fbe79661af6fb1a0896': 0.500737100737101,\n",
        "  u'3c8b3e83bef2492e3a4ce8ca52d51591': 0.9884029804081901,\n",
        "  u'60dc0a497c04648c9e4641bd18c17b04': 0.512513669739104,\n",
        "  u'b81e5815c9ad0e911fcae8ce6542ce68': 0.8525645853732021,\n",
        "  u'be20b37134dc0fe6c75fa9314fe7adce': 0.2599120735976548,\n",
        "  u'cdff64e531121d7e2da47c95529415de': 0.2277538060734344,\n",
        "  u'd2139601f439afc2d48ccc82a655eec9': 1.659949084365902,\n",
        "  u'f989b13a4792dd7eb3d47a078a7b446c': 2.51233412032891,\n",
        "  u'fa87b1d9062a52fa051e7db856781a26': 1.147435414626798},\n",
        " {u'01180e3f595f64bd0fccad5f7d2a73be': 2.181770787652626,\n",
        "  u'14812841179217cfdb6e63d0ffbef319': 1.690844676487041,\n",
        "  u'182175f053c3703cb8d33b8a8425f647': 1.479449811691502,\n",
        "  u'187f70636347316d2626d5edc4548ef2': 2.502362165150525,\n",
        "  u'301c5a0c06642fbe79661af6fb1a0896': 0.309155323512959,\n",
        "  u'3c8b3e83bef2492e3a4ce8ca52d51591': 1.28895127265102,\n",
        "  u'60dc0a497c04648c9e4641bd18c17b04': 0.520550188308498,\n",
        "  u'b81e5815c9ad0e911fcae8ce6542ce68': 0.991272248612144,\n",
        "  u'be20b37134dc0fe6c75fa9314fe7adce': 0.482158114288586,\n",
        "  u'cdff64e531121d7e2da47c95529415de': 0.497637834849475,\n",
        "  u'd2139601f439afc2d48ccc82a655eec9': 1.529277939696354,\n",
        "  u'f989b13a4792dd7eb3d47a078a7b446c': 2.020204050861939,\n",
        "  u'fa87b1d9062a52fa051e7db856781a26': 1.008727751387856},\n",
        " {u'01180e3f595f64bd0fccad5f7d2a73be': 2.188973902545934,\n",
        "  u'14812841179217cfdb6e63d0ffbef319': 1.503711245401997,\n",
        "  u'182175f053c3703cb8d33b8a8425f647': 1.6050670640834568,\n",
        "  u'187f70636347316d2626d5edc4548ef2': 2.619595436679129,\n",
        "  u'301c5a0c06642fbe79661af6fb1a0896': 0.49628875459800303,\n",
        "  u'3c8b3e83bef2492e3a4ce8ca52d51591': 1.329286549632036,\n",
        "  u'60dc0a497c04648c9e4641bd18c17b04': 0.394932935916543,\n",
        "  u'b81e5815c9ad0e911fcae8ce6542ce68': 0.913193388094513,\n",
        "  u'be20b37134dc0fe6c75fa9314fe7adce': 0.452593231713163,\n",
        "  u'cdff64e531121d7e2da47c95529415de': 0.38040456332087,\n",
        "  u'd2139601f439afc2d48ccc82a655eec9': 1.481739547822029,\n",
        "  u'f989b13a4792dd7eb3d47a078a7b446c': 2.167002204965966,\n",
        "  u'fa87b1d9062a52fa051e7db856781a26': 1.086806611905486},\n",
        " {u'01180e3f595f64bd0fccad5f7d2a73be': 2.191092751996833,\n",
        "  u'14812841179217cfdb6e63d0ffbef319': 1.47263082530591,\n",
        "  u'182175f053c3703cb8d33b8a8425f647': 1.600653430510178,\n",
        "  u'187f70636347316d2626d5edc4548ef2': 2.5135686035899,\n",
        "  u'301c5a0c06642fbe79661af6fb1a0896': 0.5273691746940901,\n",
        "  u'3c8b3e83bef2492e3a4ce8ca52d51591': 1.505495125409027,\n",
        "  u'60dc0a497c04648c9e4641bd18c17b04': 0.399346569489822,\n",
        "  u'b81e5815c9ad0e911fcae8ce6542ce68': 1.095934446895682,\n",
        "  u'be20b37134dc0fe6c75fa9314fe7adce': 0.491694554304837,\n",
        "  u'cdff64e531121d7e2da47c95529415de': 0.4864313964101,\n",
        "  u'd2139601f439afc2d48ccc82a655eec9': 1.30341212259414,\n",
        "  u'f989b13a4792dd7eb3d47a078a7b446c': 2.021874049285063,\n",
        "  u'fa87b1d9062a52fa051e7db856781a26': 0.904065553104318},\n",
        " {u'01180e3f595f64bd0fccad5f7d2a73be': 2.200294557497744,\n",
        "  u'14812841179217cfdb6e63d0ffbef319': 1.47263082530591,\n",
        "  u'182175f053c3703cb8d33b8a8425f647': 1.541203235591507,\n",
        "  u'187f70636347316d2626d5edc4548ef2': 2.610591506572296,\n",
        "  u'301c5a0c06642fbe79661af6fb1a0896': 0.5273691746940901,\n",
        "  u'3c8b3e83bef2492e3a4ce8ca52d51591': 1.345367152449399,\n",
        "  u'60dc0a497c04648c9e4641bd18c17b04': 0.45879676440849404,\n",
        "  u'b81e5815c9ad0e911fcae8ce6542ce68': 1.004458474355636,\n",
        "  u'be20b37134dc0fe6c75fa9314fe7adce': 0.428589484327604,\n",
        "  u'cdff64e531121d7e2da47c95529415de': 0.389408493427705,\n",
        "  u'd2139601f439afc2d48ccc82a655eec9': 1.454338290052858,\n",
        "  u'f989b13a4792dd7eb3d47a078a7b446c': 2.182002022244692,\n",
        "  u'fa87b1d9062a52fa051e7db856781a26': 0.995541525644364},\n",
        " {u'01180e3f595f64bd0fccad5f7d2a73be': 1.909500019834224,\n",
        "  u'14812841179217cfdb6e63d0ffbef319': 1.4256940664126292,\n",
        "  u'182175f053c3703cb8d33b8a8425f647': 1.585095910820231,\n",
        "  u'187f70636347316d2626d5edc4548ef2': 2.751243781094527,\n",
        "  u'301c5a0c06642fbe79661af6fb1a0896': 0.574305933587371,\n",
        "  u'3c8b3e83bef2492e3a4ce8ca52d51591': 1.569849051331982,\n",
        "  u'60dc0a497c04648c9e4641bd18c17b04': 0.41490408917976895,\n",
        "  u'b81e5815c9ad0e911fcae8ce6542ce68': 0.894253160345975,\n",
        "  u'be20b37134dc0fe6c75fa9314fe7adce': 0.746786898839138,\n",
        "  u'cdff64e531121d7e2da47c95529415de': 0.248756218905473,\n",
        "  u'd2139601f439afc2d48ccc82a655eec9': 1.520650928833794,\n",
        "  u'f989b13a4792dd7eb3d47a078a7b446c': 2.004456882255389,\n",
        "  u'fa87b1d9062a52fa051e7db856781a26': 1.1057468396540249},\n",
        " {u'01180e3f595f64bd0fccad5f7d2a73be': 1.953749928461683,\n",
        "  u'14812841179217cfdb6e63d0ffbef319': 1.456330443919096,\n",
        "  u'182175f053c3703cb8d33b8a8425f647': 1.5728039938190892,\n",
        "  u'187f70636347316d2626d5edc4548ef2': 2.245626286386357,\n",
        "  u'301c5a0c06642fbe79661af6fb1a0896': 0.543669556080904,\n",
        "  u'3c8b3e83bef2492e3a4ce8ca52d51591': 1.5215069568453852,\n",
        "  u'60dc0a497c04648c9e4641bd18c17b04': 0.427196006180911,\n",
        "  u'b81e5815c9ad0e911fcae8ce6542ce68': 0.9024528914879791,\n",
        "  u'be20b37134dc0fe6c75fa9314fe7adce': 0.223463687150838,\n",
        "  u'cdff64e531121d7e2da47c95529415de': 0.754373713613643,\n",
        "  u'd2139601f439afc2d48ccc82a655eec9': 1.524743114692932,\n",
        "  u'f989b13a4792dd7eb3d47a078a7b446c': 2.0221625992355188,\n",
        "  u'fa87b1d9062a52fa051e7db856781a26': 1.097547108512021},\n",
        " {u'01180e3f595f64bd0fccad5f7d2a73be': 2.477660561832389,\n",
        "  u'14812841179217cfdb6e63d0ffbef319': 1.3644162210338688,\n",
        "  u'182175f053c3703cb8d33b8a8425f647': 1.578415736310474,\n",
        "  u'187f70636347316d2626d5edc4548ef2': 2.258942811574391,\n",
        "  u'301c5a0c06642fbe79661af6fb1a0896': 0.635583778966132,\n",
        "  u'3c8b3e83bef2492e3a4ce8ca52d51591': 1.6105590960467129,\n",
        "  u'60dc0a497c04648c9e4641bd18c17b04': 0.42158426368952695,\n",
        "  u'b81e5815c9ad0e911fcae8ce6542ce68': 1.5098039215686279,\n",
        "  u'be20b37134dc0fe6c75fa9314fe7adce': 0.233918128654971,\n",
        "  u'cdff64e531121d7e2da47c95529415de': 0.74105718842561,\n",
        "  u'd2139601f439afc2d48ccc82a655eec9': 0.9117803421208999,\n",
        "  u'f989b13a4792dd7eb3d47a078a7b446c': 2.02502468291942,\n",
        "  u'fa87b1d9062a52fa051e7db856781a26': 0.490196078431373},\n",
        " {u'01180e3f595f64bd0fccad5f7d2a73be': 2.287794688765863,\n",
        "  u'14812841179217cfdb6e63d0ffbef319': 1.449568115350609,\n",
        "  u'182175f053c3703cb8d33b8a8425f647': 1.518253226755252,\n",
        "  u'187f70636347316d2626d5edc4548ef2': 2.7894736842105257,\n",
        "  u'301c5a0c06642fbe79661af6fb1a0896': 0.550431884649392,\n",
        "  u'3c8b3e83bef2492e3a4ce8ca52d51591': 0.9948763290938369,\n",
        "  u'60dc0a497c04648c9e4641bd18c17b04': 0.481746773244749,\n",
        "  u'b81e5815c9ad0e911fcae8ce6542ce68': 0.7644177911044481,\n",
        "  u'be20b37134dc0fe6c75fa9314fe7adce': 0.233918128654971,\n",
        "  u'cdff64e531121d7e2da47c95529415de': 0.210526315789474,\n",
        "  u'd2139601f439afc2d48ccc82a655eec9': 1.7173289821403008,\n",
        "  u'f989b13a4792dd7eb3d47a078a7b446c': 2.555555555555555,\n",
        "  u'fa87b1d9062a52fa051e7db856781a26': 1.235582208895552},\n",
        " {u'01180e3f595f64bd0fccad5f7d2a73be': 2.268340078998558,\n",
        "  u'14812841179217cfdb6e63d0ffbef319': 1.442784621851457,\n",
        "  u'182175f053c3703cb8d33b8a8425f647': 1.62546570238878,\n",
        "  u'187f70636347316d2626d5edc4548ef2': 2.691358024691358,\n",
        "  u'301c5a0c06642fbe79661af6fb1a0896': 0.557215378148544,\n",
        "  u'3c8b3e83bef2492e3a4ce8ca52d51591': 1.149807970741137,\n",
        "  u'60dc0a497c04648c9e4641bd18c17b04': 0.37453429761122103,\n",
        "  u'b81e5815c9ad0e911fcae8ce6542ce68': 0.792682347350915,\n",
        "  u'be20b37134dc0fe6c75fa9314fe7adce': 0.283950617283951,\n",
        "  u'cdff64e531121d7e2da47c95529415de': 0.308641975308642,\n",
        "  u'd2139601f439afc2d48ccc82a655eec9': 1.5818519502603063,\n",
        "  u'f989b13a4792dd7eb3d47a078a7b446c': 2.407407407407407,\n",
        "  u'fa87b1d9062a52fa051e7db856781a26': 1.2073176526490852},\n",
        " {u'01180e3f595f64bd0fccad5f7d2a73be': 2.0943007963359492,\n",
        "  u'14812841179217cfdb6e63d0ffbef319': 1.4215661588820352,\n",
        "  u'182175f053c3703cb8d33b8a8425f647': 1.621301775147929,\n",
        "  u'187f70636347316d2626d5edc4548ef2': 2.613232920925229,\n",
        "  u'301c5a0c06642fbe79661af6fb1a0896': 0.578433841117966,\n",
        "  u'3c8b3e83bef2492e3a4ce8ca52d51591': 1.3342165199775677,\n",
        "  u'60dc0a497c04648c9e4641bd18c17b04': 0.378698224852072,\n",
        "  u'b81e5815c9ad0e911fcae8ce6542ce68': 0.807215541165588,\n",
        "  u'be20b37134dc0fe6c75fa9314fe7adce': 0.3690155997848309,\n",
        "  u'cdff64e531121d7e2da47c95529415de': 0.38676707907477087,\n",
        "  u'd2139601f439afc2d48ccc82a655eec9': 1.5714826836864841,\n",
        "  u'f989b13a4792dd7eb3d47a078a7b446c': 2.244217321140398,\n",
        "  u'fa87b1d9062a52fa051e7db856781a26': 1.192784458834412},\n",
        " {u'01180e3f595f64bd0fccad5f7d2a73be': 2.749991977118538,\n",
        "  u'14812841179217cfdb6e63d0ffbef319': 1.368396528627177,\n",
        "  u'182175f053c3703cb8d33b8a8425f647': 1.598214564409902,\n",
        "  u'187f70636347316d2626d5edc4548ef2': 2.649422400803617,\n",
        "  u'301c5a0c06642fbe79661af6fb1a0896': 0.631603471372823,\n",
        "  u'3c8b3e83bef2492e3a4ce8ca52d51591': 1.3327586697655907,\n",
        "  u'60dc0a497c04648c9e4641bd18c17b04': 0.40178543559009905,\n",
        "  u'b81e5815c9ad0e911fcae8ce6542ce68': 1.4845360824742269,\n",
        "  u'be20b37134dc0fe6c75fa9314fe7adce': 0.35057759919638387,\n",
        "  u'cdff64e531121d7e2da47c95529415de': 0.35057759919638387,\n",
        "  u'd2139601f439afc2d48ccc82a655eec9': 0.9172493531158721,\n",
        "  u'f989b13a4792dd7eb3d47a078a7b446c': 2.298844801607233,\n",
        "  u'fa87b1d9062a52fa051e7db856781a26': 0.515463917525773},\n",
        " {u'01180e3f595f64bd0fccad5f7d2a73be': 2.2988092293984,\n",
        "  u'14812841179217cfdb6e63d0ffbef319': 1.379089453214368,\n",
        "  u'182175f053c3703cb8d33b8a8425f647': 1.4848330503678562,\n",
        "  u'187f70636347316d2626d5edc4548ef2': 2.5987854251012155,\n",
        "  u'301c5a0c06642fbe79661af6fb1a0896': 0.620910546785632,\n",
        "  u'3c8b3e83bef2492e3a4ce8ca52d51591': 1.423339696583204,\n",
        "  u'60dc0a497c04648c9e4641bd18c17b04': 0.515166949632145,\n",
        "  u'b81e5815c9ad0e911fcae8ce6542ce68': 1.2373158756137481,\n",
        "  u'be20b37134dc0fe6c75fa9314fe7adce': 0.401214574898786,\n",
        "  u'cdff64e531121d7e2da47c95529415de': 0.401214574898786,\n",
        "  u'd2139601f439afc2d48ccc82a655eec9': 1.277851074018397,\n",
        "  u'f989b13a4792dd7eb3d47a078a7b446c': 2.197570850202429,\n",
        "  u'fa87b1d9062a52fa051e7db856781a26': 0.7626841243862521},\n",
        " {u'01180e3f595f64bd0fccad5f7d2a73be': 1.841675125011311,\n",
        "  u'14812841179217cfdb6e63d0ffbef319': 1.388546481766821,\n",
        "  u'182175f053c3703cb8d33b8a8425f647': 1.337442218798151,\n",
        "  u'187f70636347316d2626d5edc4548ef2': 2.499468367889421,\n",
        "  u'301c5a0c06642fbe79661af6fb1a0896': 0.611453518233179,\n",
        "  u'3c8b3e83bef2492e3a4ce8ca52d51591': 1.6125167824543372,\n",
        "  u'60dc0a497c04648c9e4641bd18c17b04': 0.662557781201849,\n",
        "  u'b81e5815c9ad0e911fcae8ce6542ce68': 1.116749688667497,\n",
        "  u'be20b37134dc0fe6c75fa9314fe7adce': 0.5005316321105789,\n",
        "  u'cdff64e531121d7e2da47c95529415de': 0.5005316321105789,\n",
        "  u'd2139601f439afc2d48ccc82a655eec9': 1.5458080925343523,\n",
        "  u'f989b13a4792dd7eb3d47a078a7b446c': 1.998936735778842,\n",
        "  u'fa87b1d9062a52fa051e7db856781a26': 0.883250311332503},\n",
        " {u'01180e3f595f64bd0fccad5f7d2a73be': 2.304274155561076,\n",
        "  u'14812841179217cfdb6e63d0ffbef319': 1.425667287399131,\n",
        "  u'182175f053c3703cb8d33b8a8425f647': 1.5800403638597211,\n",
        "  u'187f70636347316d2626d5edc4548ef2': 2.5539267015706812,\n",
        "  u'301c5a0c06642fbe79661af6fb1a0896': 0.574332712600869,\n",
        "  u'3c8b3e83bef2492e3a4ce8ca52d51591': 1.466479309459507,\n",
        "  u'60dc0a497c04648c9e4641bd18c17b04': 0.419959636140279,\n",
        "  u'b81e5815c9ad0e911fcae8ce6542ce68': 1.190713101160862,\n",
        "  u'be20b37134dc0fe6c75fa9314fe7adce': 0.446073298429319,\n",
        "  u'cdff64e531121d7e2da47c95529415de': 0.446073298429319,\n",
        "  u'd2139601f439afc2d48ccc82a655eec9': 1.229246534979417,\n",
        "  u'f989b13a4792dd7eb3d47a078a7b446c': 2.107853403141362,\n",
        "  u'fa87b1d9062a52fa051e7db856781a26': 0.809286898839138},\n",
        " {u'01180e3f595f64bd0fccad5f7d2a73be': 2.2814801058193037,\n",
        "  u'14812841179217cfdb6e63d0ffbef319': 1.438293550025393,\n",
        "  u'182175f053c3703cb8d33b8a8425f647': 1.53206036854832,\n",
        "  u'187f70636347316d2626d5edc4548ef2': 2.6752600633197647,\n",
        "  u'301c5a0c06642fbe79661af6fb1a0896': 0.561706449974607,\n",
        "  u'3c8b3e83bef2492e3a4ce8ca52d51591': 1.2111863233350766,\n",
        "  u'60dc0a497c04648c9e4641bd18c17b04': 0.46793963145168005,\n",
        "  u'b81e5815c9ad0e911fcae8ce6542ce68': 0.960606060606061,\n",
        "  u'be20b37134dc0fe6c75fa9314fe7adce': 0.3247399366802349,\n",
        "  u'cdff64e531121d7e2da47c95529415de': 0.3247399366802349,\n",
        "  u'd2139601f439afc2d48ccc82a655eec9': 1.507333570845619,\n",
        "  u'f989b13a4792dd7eb3d47a078a7b446c': 2.35052012663953,\n",
        "  u'fa87b1d9062a52fa051e7db856781a26': 1.039393939393939},\n",
        " {u'01180e3f595f64bd0fccad5f7d2a73be': 2.131416691757057,\n",
        "  u'14812841179217cfdb6e63d0ffbef319': 1.3048592634084852,\n",
        "  u'182175f053c3703cb8d33b8a8425f647': 1.6030268434764792,\n",
        "  u'187f70636347316d2626d5edc4548ef2': 2.580617122990005,\n",
        "  u'301c5a0c06642fbe79661af6fb1a0896': 0.695140736591513,\n",
        "  u'3c8b3e83bef2492e3a4ce8ca52d51591': 1.533906490611505,\n",
        "  u'60dc0a497c04648c9e4641bd18c17b04': 0.396973156523521,\n",
        "  u'b81e5815c9ad0e911fcae8ce6542ce68': 1.062296338892083,\n",
        "  u'be20b37134dc0fe6c75fa9314fe7adce': 0.419382877009996,\n",
        "  u'cdff64e531121d7e2da47c95529415de': 0.419382877009996,\n",
        "  u'd2139601f439afc2d48ccc82a655eec9': 1.3346768176314372,\n",
        "  u'f989b13a4792dd7eb3d47a078a7b446c': 2.161234245980009,\n",
        "  u'fa87b1d9062a52fa051e7db856781a26': 0.937703661107916},\n",
        " {u'01180e3f595f64bd0fccad5f7d2a73be': 1.865086021513699,\n",
        "  u'14812841179217cfdb6e63d0ffbef319': 1.337755102040816,\n",
        "  u'182175f053c3703cb8d33b8a8425f647': 1.5589053803339508,\n",
        "  u'187f70636347316d2626d5edc4548ef2': 2.4685086155674396,\n",
        "  u'301c5a0c06642fbe79661af6fb1a0896': 0.662244897959184,\n",
        "  u'3c8b3e83bef2492e3a4ce8ca52d51591': 1.725227666824306,\n",
        "  u'60dc0a497c04648c9e4641bd18c17b04': 0.441094619666049,\n",
        "  u'b81e5815c9ad0e911fcae8ce6542ce68': 1.031408308004053,\n",
        "  u'be20b37134dc0fe6c75fa9314fe7adce': 0.5314913844325609,\n",
        "  u'cdff64e531121d7e2da47c95529415de': 0.5314913844325609,\n",
        "  u'd2139601f439afc2d48ccc82a655eec9': 1.409686311661996,\n",
        "  u'f989b13a4792dd7eb3d47a078a7b446c': 1.937017231134879,\n",
        "  u'fa87b1d9062a52fa051e7db856781a26': 0.968591691995947}]"
       ]
      }
     ],
     "prompt_number": 106
    },
    {
     "cell_type": "code",
     "collapsed": false,
     "input": [
      "global_potentials = []\n",
      "\n",
      "for i in range(0, 31):\n",
      "    potential_cost = 0.0\n",
      "    for k in edge_flows.keys():\n",
      "        f_cost = e_cost_int[k]\n",
      "        potential_cost += f_cost(edge_flows_turns[i][k])\n",
      "        # print e_flows[k]\n",
      "\n",
      "    print 'i:', i\n",
      "\n",
      "    global_potentials.append(potential_cost)"
     ],
     "language": "python",
     "outputs": [
      {
       "output_type": "stream",
       "stream": "stdout",
       "text": [
        "i: 0\n",
        "i: 1\n",
        "i: 2\n",
        "i: 3\n",
        "i: 4\n",
        "i: 5\n",
        "i: 6\n",
        "i: 7\n",
        "i: 8\n",
        "i: 9\n",
        "i: 10\n",
        "i: 11\n",
        "i: 12\n",
        "i: 13\n",
        "i: 14\n",
        "i: 15\n",
        "i: 16\n",
        "i: 17\n",
        "i: 18\n",
        "i: 19\n",
        "i: 20\n",
        "i: 21\n",
        "i: 22\n",
        "i: 23\n",
        "i: 24\n",
        "i: 25\n",
        "i: 26\n",
        "i: 27\n",
        "i: 28\n",
        "i: 29\n",
        "i: 30\n"
       ]
      }
     ],
     "prompt_number": 347
    },
    {
     "cell_type": "code",
     "collapsed": false,
     "input": [
      "min(global_potentials)"
     ],
     "language": "python",
     "outputs": [
      {
       "output_type": "pyout",
       "prompt_number": 355,
       "text": [
        "18.951647945340255"
       ]
      }
     ],
     "prompt_number": 355
    },
    {
     "cell_type": "code",
     "collapsed": false,
     "input": [
      "plt.plot(global_potentials, 'bo-')\n",
      "plt.plot([18.9056818184]*len(global_potentials), 'k--')\n",
      "plt.xlabel('Game turn')\n",
      "plt.ylabel('Global potential cost')\n",
      "plt.title('Global potential cost')\n",
      "plt.ylim([18,22])\n",
      "plt.savefig('../paper/images/no_slider_global_potential_cost.png')"
     ],
     "language": "python",
     "outputs": [
      {
       "output_type": "display_data",
       "png": "[encoded data removed]",
       "text": [
        "<matplotlib.figure.Figure at 0x1112b64d0>"
       ]
      }
     ],
     "prompt_number": 357
    },
    {
     "cell_type": "code",
     "collapsed": false,
     "input": [
      "min(global_potentials)"
     ],
     "language": "python",
     "outputs": []
    },
    {
     "cell_type": "code",
     "collapsed": false,
     "input": [
      "global_potentials[-1]"
     ],
     "language": "python",
     "outputs": [
      {
       "output_type": "pyout",
       "prompt_number": 328,
       "text": [
        "17.92657873977295"
       ]
      }
     ],
     "prompt_number": 328
    },
    {
     "cell_type": "code",
     "collapsed": false,
     "input": [
      "def compute_equilibrium_potential_cost(xs, pmIndex, pmPaths):\n",
      "    pa_flows = dict()\n",
      "    equilibrium_edge_flows = dict()\n",
      "\n",
      "    for p in Player.objects.all():\n",
      "        pm = p.player_model\n",
      "        for i, pa in zip(range(len(pmPaths[pm])), pmPaths[pm]):\n",
      "            pa_flow = xs[pmIndex[pm]][i]\n",
      "            for e in pa.all():\n",
      "                if e.pk not in equilibrium_edge_flows:\n",
      "                    equilibrium_edge_flows[e.pk] = 0\n",
      "                equilibrium_edge_flows[e.pk] += pa_flow\n",
      "\n",
      "    equilibrium_potential_cost = 0\n",
      "    for k in equilibrium_edge_flows.keys():\n",
      "        f_cost = e_cost_int[k]\n",
      "        equilibrium_potential_cost += f_cost(equilibrium_edge_flows[k])\n",
      "    return equilibrium_potential_cost"
     ],
     "language": "python",
     "outputs": [],
     "prompt_number": 349
    },
    {
     "cell_type": "code",
     "collapsed": false,
     "input": [
      "def computeEquilibriumFlows(graph_name, eta, precision=1E-6):\n",
      "    costFunctionDict = {}\n",
      "    massDict = {}\n",
      "    pmPaths = {}\n",
      "\n",
      "    edgeIndex = {}\n",
      "    edgeIdx = 0\n",
      "    pmIndex = {}\n",
      "    pmIdx = 0\n",
      "\n",
      "    for edge in Edge.objects.filter(graph__name=graph_name):\n",
      "        costFunctionDict[edge] = edge.cost_function\n",
      "        edgeIndex[edge] = edgeIdx\n",
      "        edgeIdx += 1\n",
      "    for pm in PlayerModel.objects.filter(graph__name=graph_name):\n",
      "        massDict[pm] = pm.flow\n",
      "        pmPaths[pm] = []\n",
      "        pmIndex[pm] = pmIdx\n",
      "        pmIdx += 1\n",
      "    for path in Path.objects.filter(graph__name=graph_name):\n",
      "        pmPaths[path.player_model].append(path.edges.all())\n",
      "\n",
      "    compiledCosts = [None]*len(edgeIndex)\n",
      "    adjMatrices = [None]*len(pmIndex)\n",
      "    masses = [None]*len(pmIndex)\n",
      "\n",
      "    def createAdjMatrix(paths):\n",
      "        adjMatrix = np.zeros((len(edgeIndex), len(paths)))\n",
      "        pathIdx = 0\n",
      "        for pathEdges in paths:\n",
      "            for edge in pathEdges:\n",
      "                adjMatrix[edgeIndex[edge], pathIdx] = 1\n",
      "            pathIdx += 1\n",
      "        return adjMatrix\n",
      "\n",
      "    for (edge, cost) in costFunctionDict.items():\n",
      "        compiledCosts[edgeIndex[edge]] = parser.expr(cost).compile()\n",
      "    for (pm, paths) in pmPaths.items():\n",
      "        adjMatrices[pmIndex[pm]] = createAdjMatrix(paths)\n",
      "    for (pm, mass) in massDict.items():\n",
      "        masses[pmIndex[pm]] = mass\n",
      "\n",
      "    precision = .0000001\n",
      "    gradientFunctions = pathLossFunctions(compiledCosts, adjMatrices, masses)\n",
      "    dimensions = [np.size(adjMatrix, 1) for adjMatrix in adjMatrices]\n",
      "\n",
      "    # dimensions is a list of scalars that specify the number of paths of each player\n",
      "    # gradientFunctions is a list of functions. Use:\n",
      "    # gs = gradientFunctions(xs) returns a list of path costs, where xs is a list of path flows\n",
      "    # precision is a scalar, specifies the desired precision.\n",
      "    def entropicDescentUpdate(x, g, eta):\n",
      "        w = [xi*np.exp(-gi*eta) for (xi,gi) in zip(x, g)]\n",
      "        return w / (sum(w))\n",
      "    # initialize\n",
      "    xs = [np.random.rand(di) for di in dimensions]\n",
      "    xs = [x_i/np.sum(x_i) for x_i in xs]\n",
      "    # xs = [np.ones((di, 1))/di for di in dimensions]\n",
      "    gs = gradientFunctions(xs)\n",
      "    def cost(xs, gs):\n",
      "        return sum(np.dot(x.T, g) for (x, g) in zip(xs, gs))\n",
      "    c = cost(xs, gs)\n",
      "    delta = 1\n",
      "    t = 0\n",
      "    while(delta > precision and t < 50000):\n",
      "        print 'iteration %d' % t\n",
      "        # print 'delta %f' % delta\n",
      "        xs_plus = [entropicDescentUpdate(x, g, eta) for (x, g) in zip(xs, gs)]\n",
      "        gs_plus = gradientFunctions(xs_plus)\n",
      "        c_plus = cost(xs_plus, gs_plus)\n",
      "        delta = abs(c_plus - c)\n",
      "        c = c_plus\n",
      "        xs = xs_plus\n",
      "        gs = gs_plus\n",
      "        t += 1\n",
      "\n",
      "        print compute_equilibrium_potential_cost(xs, pmIndex, pmPaths)\n",
      "\n",
      "    # print(\"converged after {} iterations\".format(t))\n",
      "    return xs, adjMatrices, pmPaths, pmIndex\n",
      "    # costs = [np.dot(x.T, g) for (g, x) in zip(gs, xs)]\n",
      "    # return costs"
     ],
     "language": "python",
     "outputs": [],
     "prompt_number": 350
    },
    {
     "cell_type": "code",
     "collapsed": true,
     "input": [
      "xs, adjMatrices, pmPaths, pmIndex = computeEquilibriumFlows(Graph.objects.all()[0].name, 0.1)"
     ],
     "language": "python",
     "outputs": [
      {
       "output_type": "stream",
       "stream": "stdout",
       "text": [
        "iteration 0\n",
        "19.8976203634\n",
        "iteration 1\n",
        "19.6295532805"
       ]
      },
      {
       "output_type": "stream",
       "stream": "stdout",
       "text": [
        "\n",
        "iteration 2\n",
        "19.4512808926\n",
        "iteration 3\n",
        "19.3312636196"
       ]
      },
      {
       "output_type": "stream",
       "stream": "stdout",
       "text": [
        "\n",
        "iteration 4\n",
        "19.248537215\n",
        "iteration 5\n",
        "19.1896929365"
       ]
      },
      {
       "output_type": "stream",
       "stream": "stdout",
       "text": [
        "\n",
        "iteration 6\n",
        "19.1463009977\n",
        "iteration 7\n",
        "19.1130933249"
       ]
      },
      {
       "output_type": "stream",
       "stream": "stdout",
       "text": [
        "\n",
        "iteration 8\n",
        "19.0867742593\n",
        "iteration 9\n",
        "19.0652683455"
       ]
      },
      {
       "output_type": "stream",
       "stream": "stdout",
       "text": [
        "\n",
        "iteration 10\n",
        "19.0472525058\n",
        "iteration 11\n",
        "19.0318676297"
       ]
      },
      {
       "output_type": "stream",
       "stream": "stdout",
       "text": [
        "\n",
        "iteration 12\n",
        "19.0185416203\n",
        "iteration 13\n",
        "19.0068811068"
       ]
      },
      {
       "output_type": "stream",
       "stream": "stdout",
       "text": [
        "\n",
        "iteration 14\n",
        "18.9966052497\n",
        "iteration 15\n",
        "18.9875052614"
       ]
      },
      {
       "output_type": "stream",
       "stream": "stdout",
       "text": [
        "\n",
        "iteration 16\n",
        "18.9794195961\n",
        "iteration 17\n",
        "18.9722186676"
       ]
      },
      {
       "output_type": "stream",
       "stream": "stdout",
       "text": [
        "\n",
        "iteration 18\n",
        "18.9657953505\n",
        "iteration 19\n",
        "18.9600589896"
       ]
      },
      {
       "output_type": "stream",
       "stream": "stdout",
       "text": [
        "\n",
        "iteration 20\n",
        "18.9549315375\n",
        "iteration 21\n",
        "18.9503449878"
       ]
      },
      {
       "output_type": "stream",
       "stream": "stdout",
       "text": [
        "\n",
        "iteration 22\n",
        "18.9462396015\n",
        "iteration 23\n",
        "18.9425626248"
       ]
      },
      {
       "output_type": "stream",
       "stream": "stdout",
       "text": [
        "\n",
        "iteration 24\n",
        "18.9392673179\n",
        "iteration 25\n",
        "18.9363121857"
       ]
      },
      {
       "output_type": "stream",
       "stream": "stdout",
       "text": [
        "\n",
        "iteration 26\n",
        "18.9336603459\n",
        "iteration 27\n",
        "18.9312789945"
       ]
      },
      {
       "output_type": "stream",
       "stream": "stdout",
       "text": [
        "\n",
        "iteration 28\n",
        "18.9291389442\n",
        "iteration 29\n",
        "18.927214221"
       ]
      },
      {
       "output_type": "stream",
       "stream": "stdout",
       "text": [
        "\n",
        "iteration 30\n",
        "18.9254817076\n",
        "iteration 31\n",
        "18.9239208278"
       ]
      },
      {
       "output_type": "stream",
       "stream": "stdout",
       "text": [
        "\n",
        "iteration 32\n",
        "18.9225132651\n",
        "iteration 33\n",
        "18.9212427134"
       ]
      },
      {
       "output_type": "stream",
       "stream": "stdout",
       "text": [
        "\n",
        "iteration 34\n",
        "18.9200946537\n",
        "iteration 35\n",
        "18.9190561561"
       ]
      },
      {
       "output_type": "stream",
       "stream": "stdout",
       "text": [
        "\n",
        "iteration 36\n",
        "18.9181157038\n",
        "iteration 37\n",
        "18.9172630358"
       ]
      },
      {
       "output_type": "stream",
       "stream": "stdout",
       "text": [
        "\n",
        "iteration 38\n",
        "18.9164890078\n",
        "iteration 39\n",
        "18.9157854682"
       ]
      },
      {
       "output_type": "stream",
       "stream": "stdout",
       "text": [
        "\n",
        "iteration 40\n",
        "18.9151451483\n",
        "iteration 41\n",
        "18.9145615641"
       ]
      },
      {
       "output_type": "stream",
       "stream": "stdout",
       "text": [
        "\n",
        "iteration 42\n",
        "18.9140289302\n",
        "iteration 43\n",
        "18.9135420821"
       ]
      },
      {
       "output_type": "stream",
       "stream": "stdout",
       "text": [
        "\n",
        "iteration 44\n",
        "18.9130964082\n",
        "iteration 45\n",
        "18.9126877892"
       ]
      },
      {
       "output_type": "stream",
       "stream": "stdout",
       "text": [
        "\n",
        "iteration 46\n",
        "18.9123125435\n",
        "iteration 47\n",
        "18.9119673802"
       ]
      },
      {
       "output_type": "stream",
       "stream": "stdout",
       "text": [
        "\n",
        "iteration 48\n",
        "18.9116493557\n",
        "iteration 49\n",
        "18.9113558364"
       ]
      },
      {
       "output_type": "stream",
       "stream": "stdout",
       "text": [
        "\n",
        "iteration 50\n",
        "18.9110844649\n",
        "iteration 51\n",
        "18.91083313"
       ]
      },
      {
       "output_type": "stream",
       "stream": "stdout",
       "text": [
        "\n",
        "iteration 52\n",
        "18.9105999403\n",
        "iteration 53\n",
        "18.9103832004"
       ]
      },
      {
       "output_type": "stream",
       "stream": "stdout",
       "text": [
        "\n",
        "iteration 54\n",
        "18.91018139\n",
        "iteration 55\n",
        "18.9099931449"
       ]
      },
      {
       "output_type": "stream",
       "stream": "stdout",
       "text": [
        "\n",
        "iteration 56\n",
        "18.9098172404\n",
        "iteration 57\n",
        "18.9096525767"
       ]
      },
      {
       "output_type": "stream",
       "stream": "stdout",
       "text": [
        "\n",
        "iteration 58\n",
        "18.9094981651\n",
        "iteration 59\n",
        "18.9093531168"
       ]
      },
      {
       "output_type": "stream",
       "stream": "stdout",
       "text": [
        "\n",
        "iteration 60\n",
        "18.9092166319\n",
        "iteration 61\n",
        "18.9090879901"
       ]
      },
      {
       "output_type": "stream",
       "stream": "stdout",
       "text": [
        "\n",
        "iteration 62\n",
        "18.9089665427\n",
        "iteration 63\n",
        "18.9088517044"
       ]
      },
      {
       "output_type": "stream",
       "stream": "stdout",
       "text": [
        "\n",
        "iteration 64\n",
        "18.9087429474\n",
        "iteration 65\n",
        "18.9086397948"
       ]
      },
      {
       "output_type": "stream",
       "stream": "stdout",
       "text": [
        "\n",
        "iteration 66\n",
        "18.9085418157\n",
        "iteration 67\n",
        "18.9084486204"
       ]
      },
      {
       "output_type": "stream",
       "stream": "stdout",
       "text": [
        "\n",
        "iteration 68\n",
        "18.9083598557\n",
        "iteration 69\n",
        "18.9082752019"
       ]
      },
      {
       "output_type": "stream",
       "stream": "stdout",
       "text": [
        "\n",
        "iteration 70\n",
        "18.9081943687\n",
        "iteration 71\n",
        "18.9081170924"
       ]
      },
      {
       "output_type": "stream",
       "stream": "stdout",
       "text": [
        "\n",
        "iteration 72\n",
        "18.9080431333\n",
        "iteration 73\n",
        "18.9079722732"
       ]
      },
      {
       "output_type": "stream",
       "stream": "stdout",
       "text": [
        "\n",
        "iteration 74\n",
        "18.9079043133\n",
        "iteration 75\n",
        "18.9078390721"
       ]
      },
      {
       "output_type": "stream",
       "stream": "stdout",
       "text": [
        "\n",
        "iteration 76\n",
        "18.9077763836\n",
        "iteration 77\n",
        "18.9077160961"
       ]
      },
      {
       "output_type": "stream",
       "stream": "stdout",
       "text": [
        "\n",
        "iteration 78\n",
        "18.9076580704\n",
        "iteration 79\n",
        "18.907602179"
       ]
      },
      {
       "output_type": "stream",
       "stream": "stdout",
       "text": [
        "\n",
        "iteration 80\n",
        "18.9075483046\n",
        "iteration 81\n",
        "18.907496339"
       ]
      },
      {
       "output_type": "stream",
       "stream": "stdout",
       "text": [
        "\n",
        "iteration 82\n",
        "18.9074461828\n",
        "iteration 83\n",
        "18.907397744"
       ]
      },
      {
       "output_type": "stream",
       "stream": "stdout",
       "text": [
        "\n",
        "iteration 84\n",
        "18.9073509376\n",
        "iteration 85\n",
        "18.9073056847"
       ]
      },
      {
       "output_type": "stream",
       "stream": "stdout",
       "text": [
        "\n",
        "iteration 86\n",
        "18.9072619121\n",
        "iteration 87\n",
        "18.907219552"
       ]
      },
      {
       "output_type": "stream",
       "stream": "stdout",
       "text": [
        "\n",
        "iteration 88\n",
        "18.907178541\n",
        "iteration 89\n",
        "18.90713882"
       ]
      },
      {
       "output_type": "stream",
       "stream": "stdout",
       "text": [
        "\n",
        "iteration 90\n",
        "18.9071003338\n",
        "iteration 91\n",
        "18.9070630308"
       ]
      },
      {
       "output_type": "stream",
       "stream": "stdout",
       "text": [
        "\n",
        "iteration 92\n",
        "18.9070268626\n",
        "iteration 93\n",
        "18.9069917838"
       ]
      },
      {
       "output_type": "stream",
       "stream": "stdout",
       "text": [
        "\n",
        "iteration 94\n",
        "18.9069577514\n",
        "iteration 95\n",
        "18.9069247254"
       ]
      },
      {
       "output_type": "stream",
       "stream": "stdout",
       "text": [
        "\n",
        "iteration 96\n",
        "18.9068926675\n",
        "iteration 97\n",
        "18.9068615421"
       ]
      },
      {
       "output_type": "stream",
       "stream": "stdout",
       "text": [
        "\n",
        "iteration 98\n",
        "18.906831315\n",
        "iteration 99\n",
        "18.9068019541"
       ]
      },
      {
       "output_type": "stream",
       "stream": "stdout",
       "text": [
        "\n",
        "iteration 100\n",
        "18.9067734288\n",
        "iteration 101\n",
        "18.9067457102"
       ]
      },
      {
       "output_type": "stream",
       "stream": "stdout",
       "text": [
        "\n",
        "iteration 102\n",
        "18.9067187705\n",
        "iteration 103\n",
        "18.9066925834"
       ]
      },
      {
       "output_type": "stream",
       "stream": "stdout",
       "text": [
        "\n",
        "iteration 104\n",
        "18.906667124\n",
        "iteration 105\n",
        "18.9066423683"
       ]
      },
      {
       "output_type": "stream",
       "stream": "stdout",
       "text": [
        "\n",
        "iteration 106\n",
        "18.9066182933\n",
        "iteration 107\n",
        "18.9065948771"
       ]
      },
      {
       "output_type": "stream",
       "stream": "stdout",
       "text": [
        "\n",
        "iteration 108\n",
        "18.9065720989\n",
        "iteration 109\n",
        "18.9065499386"
       ]
      },
      {
       "output_type": "stream",
       "stream": "stdout",
       "text": [
        "\n",
        "iteration 110\n",
        "18.9065283767\n",
        "iteration 111\n",
        "18.906507395"
       ]
      },
      {
       "output_type": "stream",
       "stream": "stdout",
       "text": [
        "\n",
        "iteration 112\n",
        "18.9064869755\n",
        "iteration 113\n",
        "18.9064671013"
       ]
      },
      {
       "output_type": "stream",
       "stream": "stdout",
       "text": [
        "\n",
        "iteration 114\n",
        "18.9064477558\n",
        "iteration 115\n",
        "18.9064289232"
       ]
      },
      {
       "output_type": "stream",
       "stream": "stdout",
       "text": [
        "\n",
        "iteration 116\n",
        "18.9064105883\n",
        "iteration 117\n",
        "18.9063927365"
       ]
      },
      {
       "output_type": "stream",
       "stream": "stdout",
       "text": [
        "\n",
        "iteration 118\n",
        "18.9063753535\n",
        "iteration 119\n",
        "18.9063584256"
       ]
      },
      {
       "output_type": "stream",
       "stream": "stdout",
       "text": [
        "\n",
        "iteration 120\n",
        "18.9063419398\n",
        "iteration 121\n",
        "18.9063258831"
       ]
      },
      {
       "output_type": "stream",
       "stream": "stdout",
       "text": [
        "\n",
        "iteration 122\n",
        "18.9063102434\n",
        "iteration 123\n",
        "18.9062950087"
       ]
      },
      {
       "output_type": "stream",
       "stream": "stdout",
       "text": [
        "\n",
        "iteration 124\n",
        "18.9062801675\n",
        "iteration 125\n",
        "18.9062657088"
       ]
      },
      {
       "output_type": "stream",
       "stream": "stdout",
       "text": [
        "\n",
        "iteration 126\n",
        "18.9062516216\n",
        "iteration 127\n",
        "18.9062378957"
       ]
      },
      {
       "output_type": "stream",
       "stream": "stdout",
       "text": [
        "\n",
        "iteration 128\n",
        "18.9062245209\n",
        "iteration 129\n",
        "18.9062114876"
       ]
      },
      {
       "output_type": "stream",
       "stream": "stdout",
       "text": [
        "\n",
        "iteration 130\n",
        "18.9061987861\n",
        "iteration 131\n",
        "18.9061864074"
       ]
      },
      {
       "output_type": "stream",
       "stream": "stdout",
       "text": [
        "\n",
        "iteration 132\n",
        "18.9061743426\n",
        "iteration 133\n",
        "18.906162583"
       ]
      },
      {
       "output_type": "stream",
       "stream": "stdout",
       "text": [
        "\n",
        "iteration 134\n",
        "18.9061511205\n",
        "iteration 135\n",
        "18.9061399467"
       ]
      },
      {
       "output_type": "stream",
       "stream": "stdout",
       "text": [
        "\n",
        "iteration 136\n",
        "18.906129054\n",
        "iteration 137\n",
        "18.9061184348"
       ]
      },
      {
       "output_type": "stream",
       "stream": "stdout",
       "text": [
        "\n",
        "iteration 138\n",
        "18.9061080815\n",
        "iteration 139\n",
        "18.9060979871"
       ]
      },
      {
       "output_type": "stream",
       "stream": "stdout",
       "text": [
        "\n",
        "iteration 140\n",
        "18.9060881447\n",
        "iteration 141\n",
        "18.9060785474"
       ]
      },
      {
       "output_type": "stream",
       "stream": "stdout",
       "text": [
        "\n",
        "iteration 142\n",
        "18.9060691888\n",
        "iteration 143\n",
        "18.9060600625"
       ]
      },
      {
       "output_type": "stream",
       "stream": "stdout",
       "text": [
        "\n",
        "iteration 144\n",
        "18.9060511624\n",
        "iteration 145\n",
        "18.9060424823"
       ]
      },
      {
       "output_type": "stream",
       "stream": "stdout",
       "text": [
        "\n",
        "iteration 146\n",
        "18.9060340166\n",
        "iteration 147\n",
        "18.9060257596"
       ]
      },
      {
       "output_type": "stream",
       "stream": "stdout",
       "text": [
        "\n",
        "iteration 148\n",
        "18.9060177058\n",
        "iteration 149\n",
        "18.9060098498"
       ]
      },
      {
       "output_type": "stream",
       "stream": "stdout",
       "text": [
        "\n",
        "iteration 150\n",
        "18.9060021865\n",
        "iteration 151\n",
        "18.9059947109"
       ]
      },
      {
       "output_type": "stream",
       "stream": "stdout",
       "text": [
        "\n",
        "iteration 152\n",
        "18.905987418\n",
        "iteration 153\n",
        "18.9059803031"
       ]
      },
      {
       "output_type": "stream",
       "stream": "stdout",
       "text": [
        "\n",
        "iteration 154\n",
        "18.9059733617\n",
        "iteration 155\n",
        "18.9059665891"
       ]
      },
      {
       "output_type": "stream",
       "stream": "stdout",
       "text": [
        "\n",
        "iteration 156\n",
        "18.9059599811\n",
        "iteration 157\n",
        "18.9059535334"
       ]
      },
      {
       "output_type": "stream",
       "stream": "stdout",
       "text": [
        "\n",
        "iteration 158\n",
        "18.9059472419\n",
        "iteration 159\n",
        "18.9059411025"
       ]
      },
      {
       "output_type": "stream",
       "stream": "stdout",
       "text": [
        "\n",
        "iteration 160\n",
        "18.9059351114\n",
        "iteration 161\n",
        "18.9059292648"
       ]
      },
      {
       "output_type": "stream",
       "stream": "stdout",
       "text": [
        "\n",
        "iteration 162\n",
        "18.905923559\n",
        "iteration 163\n",
        "18.9059179903"
       ]
      },
      {
       "output_type": "stream",
       "stream": "stdout",
       "text": [
        "\n",
        "iteration 164\n",
        "18.9059125554\n",
        "iteration 165\n",
        "18.9059072509"
       ]
      },
      {
       "output_type": "stream",
       "stream": "stdout",
       "text": [
        "\n",
        "iteration 166\n",
        "18.9059020733\n",
        "iteration 167\n",
        "18.9058970196"
       ]
      },
      {
       "output_type": "stream",
       "stream": "stdout",
       "text": [
        "\n",
        "iteration 168\n",
        "18.9058920866\n",
        "iteration 169\n",
        "18.9058872712"
       ]
      },
      {
       "output_type": "stream",
       "stream": "stdout",
       "text": [
        "\n",
        "iteration 170\n",
        "18.9058825705\n",
        "iteration 171\n",
        "18.9058779816"
       ]
      },
      {
       "output_type": "stream",
       "stream": "stdout",
       "text": [
        "\n",
        "iteration 172\n",
        "18.9058735017\n",
        "iteration 173\n",
        "18.9058691281"
       ]
      },
      {
       "output_type": "stream",
       "stream": "stdout",
       "text": [
        "\n",
        "iteration 174\n",
        "18.9058648582\n",
        "iteration 175\n",
        "18.9058606893"
       ]
      },
      {
       "output_type": "stream",
       "stream": "stdout",
       "text": [
        "\n",
        "iteration 176\n",
        "18.9058566189\n",
        "iteration 177\n",
        "18.9058526446"
       ]
      },
      {
       "output_type": "stream",
       "stream": "stdout",
       "text": [
        "\n",
        "iteration 178\n",
        "18.905848764\n",
        "iteration 179\n",
        "18.9058449748"
       ]
      },
      {
       "output_type": "stream",
       "stream": "stdout",
       "text": [
        "\n",
        "iteration 180\n",
        "18.9058412747\n",
        "iteration 181\n",
        "18.9058376616"
       ]
      },
      {
       "output_type": "stream",
       "stream": "stdout",
       "text": [
        "\n",
        "iteration 182\n",
        "18.9058341332\n",
        "iteration 183\n",
        "18.9058306876"
       ]
      },
      {
       "output_type": "stream",
       "stream": "stdout",
       "text": [
        "\n",
        "iteration 184\n",
        "18.9058273226\n",
        "iteration 185\n",
        "18.9058240363"
       ]
      },
      {
       "output_type": "stream",
       "stream": "stdout",
       "text": [
        "\n",
        "iteration 186\n",
        "18.9058208267\n",
        "iteration 187\n",
        "18.9058176921"
       ]
      },
      {
       "output_type": "stream",
       "stream": "stdout",
       "text": [
        "\n",
        "iteration 188\n",
        "18.9058146305\n",
        "iteration 189\n",
        "18.9058116401"
       ]
      },
      {
       "output_type": "stream",
       "stream": "stdout",
       "text": [
        "\n",
        "iteration 190\n",
        "18.9058087194\n",
        "iteration 191\n",
        "18.9058058664"
       ]
      },
      {
       "output_type": "stream",
       "stream": "stdout",
       "text": [
        "\n",
        "iteration 192\n",
        "18.9058030797\n",
        "iteration 193\n",
        "18.9058003576"
       ]
      },
      {
       "output_type": "stream",
       "stream": "stdout",
       "text": [
        "\n",
        "iteration 194\n",
        "18.9057976985\n",
        "iteration 195\n",
        "18.905795101"
       ]
      },
      {
       "output_type": "stream",
       "stream": "stdout",
       "text": [
        "\n",
        "iteration 196\n",
        "18.9057925634\n",
        "iteration 197\n",
        "18.9057900845"
       ]
      },
      {
       "output_type": "stream",
       "stream": "stdout",
       "text": [
        "\n",
        "iteration 198\n",
        "18.9057876627\n",
        "iteration 199\n",
        "18.9057852967"
       ]
      },
      {
       "output_type": "stream",
       "stream": "stdout",
       "text": [
        "\n",
        "iteration 200\n",
        "18.9057829852\n",
        "iteration 201\n",
        "18.9057807268"
       ]
      },
      {
       "output_type": "stream",
       "stream": "stdout",
       "text": [
        "\n",
        "iteration 202\n",
        "18.9057785204\n",
        "iteration 203\n",
        "18.9057763646"
       ]
      },
      {
       "output_type": "stream",
       "stream": "stdout",
       "text": [
        "\n",
        "iteration 204\n",
        "18.9057742582\n",
        "iteration 205\n",
        "18.9057722"
       ]
      },
      {
       "output_type": "stream",
       "stream": "stdout",
       "text": [
        "\n",
        "iteration 206\n",
        "18.905770189\n",
        "iteration 207\n",
        "18.905768224"
       ]
      },
      {
       "output_type": "stream",
       "stream": "stdout",
       "text": [
        "\n",
        "iteration 208\n",
        "18.9057663038\n",
        "iteration 209\n",
        "18.9057644275"
       ]
      },
      {
       "output_type": "stream",
       "stream": "stdout",
       "text": [
        "\n",
        "iteration 210\n",
        "18.905762594\n",
        "iteration 211\n",
        "18.9057608023"
       ]
      },
      {
       "output_type": "stream",
       "stream": "stdout",
       "text": [
        "\n",
        "iteration 212\n",
        "18.9057590513\n",
        "iteration 213\n",
        "18.9057573402"
       ]
      },
      {
       "output_type": "stream",
       "stream": "stdout",
       "text": [
        "\n",
        "iteration 214\n",
        "18.905755668\n",
        "iteration 215\n",
        "18.9057540337"
       ]
      },
      {
       "output_type": "stream",
       "stream": "stdout",
       "text": [
        "\n",
        "iteration 216\n",
        "18.9057524366\n",
        "iteration 217\n",
        "18.9057508756"
       ]
      },
      {
       "output_type": "stream",
       "stream": "stdout",
       "text": [
        "\n",
        "iteration 218\n",
        "18.90574935\n",
        "iteration 219\n",
        "18.9057478589"
       ]
      },
      {
       "output_type": "stream",
       "stream": "stdout",
       "text": [
        "\n",
        "iteration 220\n",
        "18.9057464016\n",
        "iteration 221\n",
        "18.9057449772"
       ]
      },
      {
       "output_type": "stream",
       "stream": "stdout",
       "text": [
        "\n",
        "iteration 222\n",
        "18.9057435849\n",
        "iteration 223\n",
        "18.9057422241"
       ]
      },
      {
       "output_type": "stream",
       "stream": "stdout",
       "text": [
        "\n",
        "iteration 224\n",
        "18.905740894\n",
        "iteration 225\n",
        "18.9057395938"
       ]
      },
      {
       "output_type": "stream",
       "stream": "stdout",
       "text": [
        "\n",
        "iteration 226\n",
        "18.9057383229\n",
        "iteration 227\n",
        "18.9057370806"
       ]
      },
      {
       "output_type": "stream",
       "stream": "stdout",
       "text": [
        "\n",
        "iteration 228\n",
        "18.9057358662\n",
        "iteration 229\n",
        "18.9057346791"
       ]
      },
      {
       "output_type": "stream",
       "stream": "stdout",
       "text": [
        "\n",
        "iteration 230\n",
        "18.9057335186\n",
        "iteration 231\n",
        "18.9057323842"
       ]
      },
      {
       "output_type": "stream",
       "stream": "stdout",
       "text": [
        "\n",
        "iteration 232\n",
        "18.9057312752\n",
        "iteration 233\n",
        "18.905730191"
       ]
      },
      {
       "output_type": "stream",
       "stream": "stdout",
       "text": [
        "\n",
        "iteration 234\n",
        "18.9057291311\n",
        "iteration 235\n",
        "18.9057280949"
       ]
      },
      {
       "output_type": "stream",
       "stream": "stdout",
       "text": [
        "\n",
        "iteration 236\n",
        "18.9057270819\n",
        "iteration 237\n",
        "18.9057260915"
       ]
      },
      {
       "output_type": "stream",
       "stream": "stdout",
       "text": [
        "\n",
        "iteration 238\n",
        "18.9057251232\n",
        "iteration 239\n",
        "18.9057241766"
       ]
      },
      {
       "output_type": "stream",
       "stream": "stdout",
       "text": [
        "\n",
        "iteration 240\n",
        "18.905723251\n",
        "iteration 241\n",
        "18.905722346"
       ]
      },
      {
       "output_type": "stream",
       "stream": "stdout",
       "text": [
        "\n",
        "iteration 242\n",
        "18.9057214612\n",
        "iteration 243\n",
        "18.9057205961"
       ]
      },
      {
       "output_type": "stream",
       "stream": "stdout",
       "text": [
        "\n",
        "iteration 244\n",
        "18.9057197503\n",
        "iteration 245\n",
        "18.9057189232"
       ]
      },
      {
       "output_type": "stream",
       "stream": "stdout",
       "text": [
        "\n",
        "iteration 246\n",
        "18.9057181145\n",
        "iteration 247\n",
        "18.9057173237"
       ]
      },
      {
       "output_type": "stream",
       "stream": "stdout",
       "text": [
        "\n",
        "iteration 248\n",
        "18.9057165505\n",
        "iteration 249\n",
        "18.9057157944"
       ]
      },
      {
       "output_type": "stream",
       "stream": "stdout",
       "text": [
        "\n",
        "iteration 250\n",
        "18.9057150551\n",
        "iteration 251\n",
        "18.9057143322"
       ]
      },
      {
       "output_type": "stream",
       "stream": "stdout",
       "text": [
        "\n",
        "iteration 252\n",
        "18.9057136253\n",
        "iteration 253\n",
        "18.905712934"
       ]
      },
      {
       "output_type": "stream",
       "stream": "stdout",
       "text": [
        "\n",
        "iteration 254\n",
        "18.9057122579\n",
        "iteration 255\n",
        "18.9057115969"
       ]
      },
      {
       "output_type": "stream",
       "stream": "stdout",
       "text": [
        "\n",
        "iteration 256\n",
        "18.9057109504\n",
        "iteration 257\n",
        "18.9057103182"
       ]
      },
      {
       "output_type": "stream",
       "stream": "stdout",
       "text": [
        "\n",
        "iteration 258\n",
        "18.9057096999\n",
        "iteration 259\n",
        "18.9057090953"
       ]
      },
      {
       "output_type": "stream",
       "stream": "stdout",
       "text": [
        "\n",
        "iteration 260\n",
        "18.905708504\n",
        "iteration 261\n",
        "18.9057079257"
       ]
      },
      {
       "output_type": "stream",
       "stream": "stdout",
       "text": [
        "\n",
        "iteration 262\n",
        "18.9057073601\n",
        "iteration 263\n",
        "18.905706807"
       ]
      },
      {
       "output_type": "stream",
       "stream": "stdout",
       "text": [
        "\n",
        "iteration 264\n",
        "18.905706266\n",
        "iteration 265\n",
        "18.905705737"
       ]
      },
      {
       "output_type": "stream",
       "stream": "stdout",
       "text": [
        "\n",
        "iteration 266\n",
        "18.9057052195\n",
        "iteration 267\n",
        "18.9057047135"
       ]
      },
      {
       "output_type": "stream",
       "stream": "stdout",
       "text": [
        "\n",
        "iteration 268\n",
        "18.9057042185\n",
        "iteration 269\n",
        "18.9057037344"
       ]
      },
      {
       "output_type": "stream",
       "stream": "stdout",
       "text": [
        "\n",
        "iteration 270\n",
        "18.9057032609\n",
        "iteration 271\n",
        "18.9057027978"
       ]
      },
      {
       "output_type": "stream",
       "stream": "stdout",
       "text": [
        "\n",
        "iteration 272\n",
        "18.9057023448\n",
        "iteration 273\n",
        "18.9057019018"
       ]
      },
      {
       "output_type": "stream",
       "stream": "stdout",
       "text": [
        "\n",
        "iteration 274\n",
        "18.9057014684\n",
        "iteration 275\n",
        "18.9057010445"
       ]
      },
      {
       "output_type": "stream",
       "stream": "stdout",
       "text": [
        "\n",
        "iteration 276\n",
        "18.9057006299\n",
        "iteration 277\n",
        "18.9057002244"
       ]
      },
      {
       "output_type": "stream",
       "stream": "stdout",
       "text": [
        "\n",
        "iteration 278\n",
        "18.9056998277\n",
        "iteration 279\n",
        "18.9056994397"
       ]
      },
      {
       "output_type": "stream",
       "stream": "stdout",
       "text": [
        "\n",
        "iteration 280\n",
        "18.9056990601\n",
        "iteration 281\n",
        "18.9056986889"
       ]
      },
      {
       "output_type": "stream",
       "stream": "stdout",
       "text": [
        "\n",
        "iteration 282\n",
        "18.9056983257\n",
        "iteration 283\n",
        "18.9056979704"
       ]
      },
      {
       "output_type": "stream",
       "stream": "stdout",
       "text": [
        "\n",
        "iteration 284\n",
        "18.9056976229\n",
        "iteration 285\n",
        "18.905697283"
       ]
      },
      {
       "output_type": "stream",
       "stream": "stdout",
       "text": [
        "\n",
        "iteration 286\n",
        "18.9056969504\n",
        "iteration 287\n",
        "18.9056966251"
       ]
      },
      {
       "output_type": "stream",
       "stream": "stdout",
       "text": [
        "\n",
        "iteration 288\n",
        "18.9056963069\n",
        "iteration 289\n",
        "18.9056959956"
       ]
      },
      {
       "output_type": "stream",
       "stream": "stdout",
       "text": [
        "\n",
        "iteration 290\n",
        "18.9056956911\n",
        "iteration 291\n",
        "18.9056953932"
       ]
      },
      {
       "output_type": "stream",
       "stream": "stdout",
       "text": [
        "\n",
        "iteration 292\n",
        "18.9056951017\n",
        "iteration 293\n",
        "18.9056948166"
       ]
      },
      {
       "output_type": "stream",
       "stream": "stdout",
       "text": [
        "\n",
        "iteration 294\n",
        "18.9056945377\n",
        "iteration 295\n",
        "18.9056942648"
       ]
      },
      {
       "output_type": "stream",
       "stream": "stdout",
       "text": [
        "\n",
        "iteration 296\n",
        "18.9056939978\n",
        "iteration 297\n",
        "18.9056937367"
       ]
      },
      {
       "output_type": "stream",
       "stream": "stdout",
       "text": [
        "\n",
        "iteration 298\n",
        "18.9056934812\n",
        "iteration 299\n",
        "18.9056932312"
       ]
      },
      {
       "output_type": "stream",
       "stream": "stdout",
       "text": [
        "\n",
        "iteration 300\n",
        "18.9056929867\n",
        "iteration 301\n",
        "18.9056927474"
       ]
      },
      {
       "output_type": "stream",
       "stream": "stdout",
       "text": [
        "\n",
        "iteration 302\n",
        "18.9056925133\n",
        "iteration 303\n",
        "18.9056922843"
       ]
      },
      {
       "output_type": "stream",
       "stream": "stdout",
       "text": [
        "\n",
        "iteration 304\n",
        "18.9056920602\n",
        "iteration 305\n",
        "18.905691841"
       ]
      },
      {
       "output_type": "stream",
       "stream": "stdout",
       "text": [
        "\n",
        "iteration 306\n",
        "18.9056916266\n",
        "iteration 307\n",
        "18.9056914167"
       ]
      },
      {
       "output_type": "stream",
       "stream": "stdout",
       "text": [
        "\n",
        "iteration 308\n",
        "18.9056912114\n",
        "iteration 309\n",
        "18.9056910105"
       ]
      },
      {
       "output_type": "stream",
       "stream": "stdout",
       "text": [
        "\n",
        "iteration 310\n",
        "18.905690814\n",
        "iteration 311\n",
        "18.9056906217"
       ]
      },
      {
       "output_type": "stream",
       "stream": "stdout",
       "text": [
        "\n",
        "iteration 312\n",
        "18.9056904336\n",
        "iteration 313\n",
        "18.9056902495"
       ]
      },
      {
       "output_type": "stream",
       "stream": "stdout",
       "text": [
        "\n",
        "iteration 314\n",
        "18.9056900694\n",
        "iteration 315\n",
        "18.9056898931"
       ]
      },
      {
       "output_type": "stream",
       "stream": "stdout",
       "text": [
        "\n",
        "iteration 316\n",
        "18.9056897207\n",
        "iteration 317\n",
        "18.905689552"
       ]
      },
      {
       "output_type": "stream",
       "stream": "stdout",
       "text": [
        "\n",
        "iteration 318\n",
        "18.9056893869\n",
        "iteration 319\n",
        "18.9056892254"
       ]
      },
      {
       "output_type": "stream",
       "stream": "stdout",
       "text": [
        "\n",
        "iteration 320\n",
        "18.9056890673\n",
        "iteration 321\n",
        "18.9056889127"
       ]
      },
      {
       "output_type": "stream",
       "stream": "stdout",
       "text": [
        "\n",
        "iteration 322\n",
        "18.9056887613\n",
        "iteration 323\n",
        "18.9056886133"
       ]
      },
      {
       "output_type": "stream",
       "stream": "stdout",
       "text": [
        "\n",
        "iteration 324\n",
        "18.9056884684\n",
        "iteration 325\n",
        "18.9056883266"
       ]
      },
      {
       "output_type": "stream",
       "stream": "stdout",
       "text": [
        "\n",
        "iteration 326\n",
        "18.9056881879\n",
        "iteration 327\n",
        "18.9056880521"
       ]
      },
      {
       "output_type": "stream",
       "stream": "stdout",
       "text": [
        "\n",
        "iteration 328\n",
        "18.9056879193\n",
        "iteration 329\n",
        "18.9056877893"
       ]
      },
      {
       "output_type": "stream",
       "stream": "stdout",
       "text": [
        "\n",
        "iteration 330\n",
        "18.9056876621\n",
        "iteration 331\n",
        "18.9056875377"
       ]
      },
      {
       "output_type": "stream",
       "stream": "stdout",
       "text": [
        "\n",
        "iteration 332\n",
        "18.9056874159\n",
        "iteration 333\n",
        "18.9056872967"
       ]
      },
      {
       "output_type": "stream",
       "stream": "stdout",
       "text": [
        "\n",
        "iteration 334\n",
        "18.9056871801\n",
        "iteration 335\n",
        "18.905687066"
       ]
      },
      {
       "output_type": "stream",
       "stream": "stdout",
       "text": [
        "\n",
        "iteration 336\n",
        "18.9056869543\n",
        "iteration 337\n",
        "18.9056868451"
       ]
      },
      {
       "output_type": "stream",
       "stream": "stdout",
       "text": [
        "\n",
        "iteration 338\n",
        "18.9056867381\n",
        "iteration 339\n",
        "18.9056866335"
       ]
      },
      {
       "output_type": "stream",
       "stream": "stdout",
       "text": [
        "\n",
        "iteration 340\n",
        "18.9056865311\n",
        "iteration 341\n",
        "18.9056864309"
       ]
      },
      {
       "output_type": "stream",
       "stream": "stdout",
       "text": [
        "\n",
        "iteration 342\n",
        "18.9056863328\n",
        "iteration 343\n",
        "18.9056862369"
       ]
      },
      {
       "output_type": "stream",
       "stream": "stdout",
       "text": [
        "\n",
        "iteration 344\n",
        "18.9056861429\n",
        "iteration 345\n",
        "18.905686051"
       ]
      },
      {
       "output_type": "stream",
       "stream": "stdout",
       "text": [
        "\n",
        "iteration 346\n",
        "18.9056859611\n",
        "iteration 347\n",
        "18.9056858731"
       ]
      },
      {
       "output_type": "stream",
       "stream": "stdout",
       "text": [
        "\n",
        "iteration 348\n",
        "18.905685787\n",
        "iteration 349\n",
        "18.9056857027"
       ]
      },
      {
       "output_type": "stream",
       "stream": "stdout",
       "text": [
        "\n",
        "iteration 350\n",
        "18.9056856202\n",
        "iteration 351\n",
        "18.9056855395"
       ]
      },
      {
       "output_type": "stream",
       "stream": "stdout",
       "text": [
        "\n",
        "iteration 352\n",
        "18.9056854605\n",
        "iteration 353\n",
        "18.9056853832"
       ]
      },
      {
       "output_type": "stream",
       "stream": "stdout",
       "text": [
        "\n",
        "iteration 354\n",
        "18.9056853075\n",
        "iteration 355\n",
        "18.9056852335"
       ]
      },
      {
       "output_type": "stream",
       "stream": "stdout",
       "text": [
        "\n",
        "iteration 356\n",
        "18.905685161\n",
        "iteration 357\n",
        "18.9056850901"
       ]
      },
      {
       "output_type": "stream",
       "stream": "stdout",
       "text": [
        "\n",
        "iteration 358\n",
        "18.9056850207\n",
        "iteration 359\n",
        "18.9056849527"
       ]
      },
      {
       "output_type": "stream",
       "stream": "stdout",
       "text": [
        "\n",
        "iteration 360\n",
        "18.9056848863\n",
        "iteration 361\n",
        "18.9056848212"
       ]
      },
      {
       "output_type": "stream",
       "stream": "stdout",
       "text": [
        "\n",
        "iteration 362\n",
        "18.9056847575\n",
        "iteration 363\n",
        "18.9056846952"
       ]
      },
      {
       "output_type": "stream",
       "stream": "stdout",
       "text": [
        "\n",
        "iteration 364\n",
        "18.9056846342\n",
        "iteration 365\n",
        "18.9056845745"
       ]
      },
      {
       "output_type": "stream",
       "stream": "stdout",
       "text": [
        "\n",
        "iteration 366\n",
        "18.9056845161\n",
        "iteration 367\n",
        "18.905684459"
       ]
      },
      {
       "output_type": "stream",
       "stream": "stdout",
       "text": [
        "\n",
        "iteration 368\n",
        "18.905684403\n",
        "iteration 369\n",
        "18.9056843483"
       ]
      },
      {
       "output_type": "stream",
       "stream": "stdout",
       "text": [
        "\n",
        "iteration 370\n",
        "18.9056842947\n",
        "iteration 371\n",
        "18.9056842422"
       ]
      },
      {
       "output_type": "stream",
       "stream": "stdout",
       "text": [
        "\n",
        "iteration 372\n",
        "18.9056841909\n",
        "iteration 373\n",
        "18.9056841406"
       ]
      },
      {
       "output_type": "stream",
       "stream": "stdout",
       "text": [
        "\n",
        "iteration 374\n",
        "18.9056840915\n",
        "iteration 375\n",
        "18.9056840433"
       ]
      },
      {
       "output_type": "stream",
       "stream": "stdout",
       "text": [
        "\n",
        "iteration 376\n",
        "18.9056839962\n",
        "iteration 377\n",
        "18.9056839501"
       ]
      },
      {
       "output_type": "stream",
       "stream": "stdout",
       "text": [
        "\n",
        "iteration 378\n",
        "18.905683905\n",
        "iteration 379\n",
        "18.9056838608"
       ]
      },
      {
       "output_type": "stream",
       "stream": "stdout",
       "text": [
        "\n",
        "iteration 380\n",
        "18.9056838176\n",
        "iteration 381\n",
        "18.9056837753"
       ]
      },
      {
       "output_type": "stream",
       "stream": "stdout",
       "text": [
        "\n",
        "iteration 382\n",
        "18.9056837339\n",
        "iteration 383\n",
        "18.9056836934"
       ]
      },
      {
       "output_type": "stream",
       "stream": "stdout",
       "text": [
        "\n",
        "iteration 384\n",
        "18.9056836537\n",
        "iteration 385\n",
        "18.9056836149"
       ]
      },
      {
       "output_type": "stream",
       "stream": "stdout",
       "text": [
        "\n",
        "iteration 386\n",
        "18.9056835769\n",
        "iteration 387\n",
        "18.9056835397"
       ]
      },
      {
       "output_type": "stream",
       "stream": "stdout",
       "text": [
        "\n",
        "iteration 388\n",
        "18.9056835033\n",
        "iteration 389\n",
        "18.9056834677"
       ]
      },
      {
       "output_type": "stream",
       "stream": "stdout",
       "text": [
        "\n",
        "iteration 390\n",
        "18.9056834328\n",
        "iteration 391\n",
        "18.9056833987"
       ]
      },
      {
       "output_type": "stream",
       "stream": "stdout",
       "text": [
        "\n",
        "iteration 392\n",
        "18.9056833653\n",
        "iteration 393\n",
        "18.9056833326"
       ]
      },
      {
       "output_type": "stream",
       "stream": "stdout",
       "text": [
        "\n",
        "iteration 394\n",
        "18.9056833006\n",
        "iteration 395\n",
        "18.9056832692"
       ]
      },
      {
       "output_type": "stream",
       "stream": "stdout",
       "text": [
        "\n",
        "iteration 396\n",
        "18.9056832386\n",
        "iteration 397\n",
        "18.9056832086"
       ]
      },
      {
       "output_type": "stream",
       "stream": "stdout",
       "text": [
        "\n",
        "iteration 398\n",
        "18.9056831792\n",
        "iteration 399\n",
        "18.9056831504"
       ]
      },
      {
       "output_type": "stream",
       "stream": "stdout",
       "text": [
        "\n",
        "iteration 400\n",
        "18.9056831223\n",
        "iteration 401\n",
        "18.9056830948"
       ]
      },
      {
       "output_type": "stream",
       "stream": "stdout",
       "text": [
        "\n",
        "iteration 402\n",
        "18.9056830678\n",
        "iteration 403\n",
        "18.9056830414"
       ]
      },
      {
       "output_type": "stream",
       "stream": "stdout",
       "text": [
        "\n",
        "iteration 404\n",
        "18.9056830156\n",
        "iteration 405\n",
        "18.9056829903"
       ]
      },
      {
       "output_type": "stream",
       "stream": "stdout",
       "text": [
        "\n",
        "iteration 406\n",
        "18.9056829656\n",
        "iteration 407\n",
        "18.9056829413"
       ]
      },
      {
       "output_type": "stream",
       "stream": "stdout",
       "text": [
        "\n",
        "iteration 408\n",
        "18.9056829176\n",
        "iteration 409\n",
        "18.9056828944"
       ]
      },
      {
       "output_type": "stream",
       "stream": "stdout",
       "text": [
        "\n",
        "iteration 410\n",
        "18.9056828717\n",
        "iteration 411\n",
        "18.9056828495"
       ]
      },
      {
       "output_type": "stream",
       "stream": "stdout",
       "text": [
        "\n",
        "iteration 412\n",
        "18.9056828277\n",
        "iteration 413\n",
        "18.9056828064"
       ]
      },
      {
       "output_type": "stream",
       "stream": "stdout",
       "text": [
        "\n",
        "iteration 414\n",
        "18.9056827855\n",
        "iteration 415\n",
        "18.9056827651"
       ]
      },
      {
       "output_type": "stream",
       "stream": "stdout",
       "text": [
        "\n",
        "iteration 416\n",
        "18.9056827452\n",
        "iteration 417\n",
        "18.9056827256"
       ]
      },
      {
       "output_type": "stream",
       "stream": "stdout",
       "text": [
        "\n",
        "iteration 418\n",
        "18.9056827065"
       ]
      },
      {
       "output_type": "stream",
       "stream": "stdout",
       "text": [
        "\n",
        "iteration 419\n",
        "18.9056826877\n",
        "iteration 420\n",
        "18.9056826694"
       ]
      },
      {
       "output_type": "stream",
       "stream": "stdout",
       "text": [
        "\n",
        "iteration 421\n",
        "18.9056826514\n",
        "iteration 422\n",
        "18.9056826339"
       ]
      },
      {
       "output_type": "stream",
       "stream": "stdout",
       "text": [
        "\n",
        "iteration 423\n",
        "18.9056826167\n",
        "iteration 424\n",
        "18.9056825998"
       ]
      },
      {
       "output_type": "stream",
       "stream": "stdout",
       "text": [
        "\n",
        "iteration 425\n",
        "18.9056825833\n",
        "iteration 426\n",
        "18.9056825672"
       ]
      },
      {
       "output_type": "stream",
       "stream": "stdout",
       "text": [
        "\n",
        "iteration 427\n",
        "18.9056825514\n",
        "iteration 428\n",
        "18.905682536"
       ]
      },
      {
       "output_type": "stream",
       "stream": "stdout",
       "text": [
        "\n",
        "iteration 429\n",
        "18.9056825208\n",
        "iteration 430\n",
        "18.905682506"
       ]
      },
      {
       "output_type": "stream",
       "stream": "stdout",
       "text": [
        "\n",
        "iteration 431\n",
        "18.9056824915\n",
        "iteration 432\n",
        "18.9056824773"
       ]
      },
      {
       "output_type": "stream",
       "stream": "stdout",
       "text": [
        "\n",
        "iteration 433\n",
        "18.9056824634\n",
        "iteration 434\n",
        "18.9056824498"
       ]
      },
      {
       "output_type": "stream",
       "stream": "stdout",
       "text": [
        "\n",
        "iteration 435\n",
        "18.9056824365\n",
        "iteration 436\n",
        "18.9056824235"
       ]
      },
      {
       "output_type": "stream",
       "stream": "stdout",
       "text": [
        "\n",
        "iteration 437\n",
        "18.9056824107\n",
        "iteration 438\n",
        "18.9056823983"
       ]
      },
      {
       "output_type": "stream",
       "stream": "stdout",
       "text": [
        "\n",
        "iteration 439\n",
        "18.905682386\n",
        "iteration 440\n",
        "18.9056823741"
       ]
      },
      {
       "output_type": "stream",
       "stream": "stdout",
       "text": [
        "\n",
        "iteration 441\n",
        "18.9056823624\n",
        "iteration 442\n",
        "18.9056823509"
       ]
      },
      {
       "output_type": "stream",
       "stream": "stdout",
       "text": [
        "\n",
        "iteration 443\n",
        "18.9056823397\n",
        "iteration 444\n",
        "18.9056823287"
       ]
      },
      {
       "output_type": "stream",
       "stream": "stdout",
       "text": [
        "\n",
        "iteration 445\n",
        "18.9056823179\n",
        "iteration 446\n",
        "18.9056823074"
       ]
      },
      {
       "output_type": "stream",
       "stream": "stdout",
       "text": [
        "\n",
        "iteration 447\n",
        "18.9056822971\n",
        "iteration 448\n",
        "18.905682287"
       ]
      },
      {
       "output_type": "stream",
       "stream": "stdout",
       "text": [
        "\n",
        "iteration 449\n",
        "18.9056822772\n",
        "iteration 450\n",
        "18.9056822675"
       ]
      },
      {
       "output_type": "stream",
       "stream": "stdout",
       "text": [
        "\n",
        "iteration 451\n",
        "18.905682258\n",
        "iteration 452\n",
        "18.9056822488"
       ]
      },
      {
       "output_type": "stream",
       "stream": "stdout",
       "text": [
        "\n",
        "iteration 453\n",
        "18.9056822397\n",
        "iteration 454\n",
        "18.9056822308"
       ]
      },
      {
       "output_type": "stream",
       "stream": "stdout",
       "text": [
        "\n",
        "iteration 455\n",
        "18.9056822221\n",
        "iteration 456\n",
        "18.9056822136"
       ]
      },
      {
       "output_type": "stream",
       "stream": "stdout",
       "text": [
        "\n",
        "iteration 457\n",
        "18.9056822053\n",
        "iteration 458\n",
        "18.9056821972"
       ]
      },
      {
       "output_type": "stream",
       "stream": "stdout",
       "text": [
        "\n",
        "iteration 459\n",
        "18.9056821892\n",
        "iteration 460\n",
        "18.9056821814"
       ]
      },
      {
       "output_type": "stream",
       "stream": "stdout",
       "text": [
        "\n",
        "iteration 461\n",
        "18.9056821737\n",
        "iteration 462\n",
        "18.9056821663"
       ]
      },
      {
       "output_type": "stream",
       "stream": "stdout",
       "text": [
        "\n",
        "iteration 463\n",
        "18.9056821589\n",
        "iteration 464\n",
        "18.9056821518"
       ]
      },
      {
       "output_type": "stream",
       "stream": "stdout",
       "text": [
        "\n",
        "iteration 465\n",
        "18.9056821447\n",
        "iteration 466\n",
        "18.9056821379"
       ]
      },
      {
       "output_type": "stream",
       "stream": "stdout",
       "text": [
        "\n",
        "iteration 467\n",
        "18.9056821311\n",
        "iteration 468\n",
        "18.9056821246"
       ]
      },
      {
       "output_type": "stream",
       "stream": "stdout",
       "text": [
        "\n",
        "iteration 469\n",
        "18.9056821181\n",
        "iteration 470\n",
        "18.9056821118"
       ]
      },
      {
       "output_type": "stream",
       "stream": "stdout",
       "text": [
        "\n",
        "iteration 471\n",
        "18.9056821056\n",
        "iteration 472\n",
        "18.9056820996"
       ]
      },
      {
       "output_type": "stream",
       "stream": "stdout",
       "text": [
        "\n",
        "iteration 473\n",
        "18.9056820937\n",
        "iteration 474\n",
        "18.9056820879"
       ]
      },
      {
       "output_type": "stream",
       "stream": "stdout",
       "text": [
        "\n",
        "iteration 475\n",
        "18.9056820822\n",
        "iteration 476\n",
        "18.9056820766"
       ]
      },
      {
       "output_type": "stream",
       "stream": "stdout",
       "text": [
        "\n",
        "iteration 477\n",
        "18.9056820712\n",
        "iteration 478\n",
        "18.9056820659"
       ]
      },
      {
       "output_type": "stream",
       "stream": "stdout",
       "text": [
        "\n",
        "iteration 479\n",
        "18.9056820607\n",
        "iteration 480\n",
        "18.9056820556"
       ]
      },
      {
       "output_type": "stream",
       "stream": "stdout",
       "text": [
        "\n",
        "iteration 481\n",
        "18.9056820506\n",
        "iteration 482\n",
        "18.9056820457"
       ]
      },
      {
       "output_type": "stream",
       "stream": "stdout",
       "text": [
        "\n",
        "iteration 483\n",
        "18.9056820409\n",
        "iteration 484\n",
        "18.9056820362"
       ]
      },
      {
       "output_type": "stream",
       "stream": "stdout",
       "text": [
        "\n",
        "iteration 485\n",
        "18.9056820316\n",
        "iteration 486\n",
        "18.9056820271"
       ]
      },
      {
       "output_type": "stream",
       "stream": "stdout",
       "text": [
        "\n",
        "iteration 487\n",
        "18.9056820228\n",
        "iteration 488\n",
        "18.9056820185"
       ]
      },
      {
       "output_type": "stream",
       "stream": "stdout",
       "text": [
        "\n",
        "iteration 489\n",
        "18.9056820142\n",
        "iteration 490\n",
        "18.9056820101"
       ]
      },
      {
       "output_type": "stream",
       "stream": "stdout",
       "text": [
        "\n",
        "iteration 491\n",
        "18.9056820061\n",
        "iteration 492\n",
        "18.9056820021"
       ]
      },
      {
       "output_type": "stream",
       "stream": "stdout",
       "text": [
        "\n",
        "iteration 493\n",
        "18.9056819983\n",
        "iteration 494\n",
        "18.9056819945"
       ]
      },
      {
       "output_type": "stream",
       "stream": "stdout",
       "text": [
        "\n",
        "iteration 495\n",
        "18.9056819908\n",
        "iteration 496\n",
        "18.9056819871"
       ]
      },
      {
       "output_type": "stream",
       "stream": "stdout",
       "text": [
        "\n",
        "iteration 497\n",
        "18.9056819836\n",
        "iteration 498\n",
        "18.9056819801"
       ]
      },
      {
       "output_type": "stream",
       "stream": "stdout",
       "text": [
        "\n",
        "iteration 499\n",
        "18.9056819767\n",
        "iteration 500\n",
        "18.9056819734"
       ]
      },
      {
       "output_type": "stream",
       "stream": "stdout",
       "text": [
        "\n",
        "iteration 501\n",
        "18.9056819701\n",
        "iteration 502\n",
        "18.9056819669"
       ]
      },
      {
       "output_type": "stream",
       "stream": "stdout",
       "text": [
        "\n",
        "iteration 503\n",
        "18.9056819638\n",
        "iteration 504\n",
        "18.9056819607"
       ]
      },
      {
       "output_type": "stream",
       "stream": "stdout",
       "text": [
        "\n",
        "iteration 505\n",
        "18.9056819577\n",
        "iteration 506\n",
        "18.9056819548"
       ]
      },
      {
       "output_type": "stream",
       "stream": "stdout",
       "text": [
        "\n",
        "iteration 507\n",
        "18.9056819519\n",
        "iteration 508\n",
        "18.9056819491"
       ]
      },
      {
       "output_type": "stream",
       "stream": "stdout",
       "text": [
        "\n",
        "iteration 509\n",
        "18.9056819464\n",
        "iteration 510\n",
        "18.9056819437"
       ]
      },
      {
       "output_type": "stream",
       "stream": "stdout",
       "text": [
        "\n",
        "iteration 511\n",
        "18.905681941\n",
        "iteration 512\n",
        "18.9056819385"
       ]
      },
      {
       "output_type": "stream",
       "stream": "stdout",
       "text": [
        "\n",
        "iteration 513\n",
        "18.9056819359\n",
        "iteration 514\n",
        "18.9056819335"
       ]
      },
      {
       "output_type": "stream",
       "stream": "stdout",
       "text": [
        "\n",
        "iteration 515\n",
        "18.905681931\n",
        "iteration 516\n",
        "18.9056819287"
       ]
      },
      {
       "output_type": "stream",
       "stream": "stdout",
       "text": [
        "\n",
        "iteration 517\n",
        "18.9056819264\n",
        "iteration 518\n",
        "18.9056819241"
       ]
      },
      {
       "output_type": "stream",
       "stream": "stdout",
       "text": [
        "\n",
        "iteration 519\n",
        "18.9056819219\n",
        "iteration 520\n",
        "18.9056819197"
       ]
      },
      {
       "output_type": "stream",
       "stream": "stdout",
       "text": [
        "\n",
        "iteration 521\n",
        "18.9056819175\n",
        "iteration 522\n",
        "18.9056819155"
       ]
      },
      {
       "output_type": "stream",
       "stream": "stdout",
       "text": [
        "\n",
        "iteration 523\n",
        "18.9056819134\n",
        "iteration 524\n",
        "18.9056819114"
       ]
      },
      {
       "output_type": "stream",
       "stream": "stdout",
       "text": [
        "\n",
        "iteration 525\n",
        "18.9056819095\n",
        "iteration 526\n",
        "18.9056819075"
       ]
      },
      {
       "output_type": "stream",
       "stream": "stdout",
       "text": [
        "\n",
        "iteration 527\n",
        "18.9056819057\n",
        "iteration 528\n",
        "18.9056819038"
       ]
      },
      {
       "output_type": "stream",
       "stream": "stdout",
       "text": [
        "\n",
        "iteration 529\n",
        "18.905681902\n",
        "iteration 530\n",
        "18.9056819003"
       ]
      },
      {
       "output_type": "stream",
       "stream": "stdout",
       "text": [
        "\n",
        "iteration 531\n",
        "18.9056818985\n",
        "iteration 532\n",
        "18.9056818969"
       ]
      },
      {
       "output_type": "stream",
       "stream": "stdout",
       "text": [
        "\n",
        "iteration 533\n",
        "18.9056818952\n",
        "iteration 534\n",
        "18.9056818936"
       ]
      },
      {
       "output_type": "stream",
       "stream": "stdout",
       "text": [
        "\n",
        "iteration 535\n",
        "18.905681892\n",
        "iteration 536\n",
        "18.9056818904"
       ]
      },
      {
       "output_type": "stream",
       "stream": "stdout",
       "text": [
        "\n",
        "iteration 537\n",
        "18.9056818889\n",
        "iteration 538\n",
        "18.9056818874"
       ]
      },
      {
       "output_type": "stream",
       "stream": "stdout",
       "text": [
        "\n",
        "iteration 539\n",
        "18.905681886\n",
        "iteration 540\n",
        "18.9056818846"
       ]
      },
      {
       "output_type": "stream",
       "stream": "stdout",
       "text": [
        "\n",
        "iteration 541\n",
        "18.9056818832\n",
        "iteration 542\n",
        "18.9056818818"
       ]
      },
      {
       "output_type": "stream",
       "stream": "stdout",
       "text": [
        "\n",
        "iteration 543\n",
        "18.9056818805\n",
        "iteration 544\n",
        "18.9056818792"
       ]
      },
      {
       "output_type": "stream",
       "stream": "stdout",
       "text": [
        "\n",
        "iteration 545\n",
        "18.9056818779\n",
        "iteration 546\n",
        "18.9056818766"
       ]
      },
      {
       "output_type": "stream",
       "stream": "stdout",
       "text": [
        "\n",
        "iteration 547\n",
        "18.9056818754\n",
        "iteration 548\n",
        "18.9056818742"
       ]
      },
      {
       "output_type": "stream",
       "stream": "stdout",
       "text": [
        "\n",
        "iteration 549\n",
        "18.905681873\n",
        "iteration 550\n",
        "18.9056818719"
       ]
      },
      {
       "output_type": "stream",
       "stream": "stdout",
       "text": [
        "\n",
        "iteration 551\n",
        "18.9056818707\n",
        "iteration 552\n",
        "18.9056818696"
       ]
      },
      {
       "output_type": "stream",
       "stream": "stdout",
       "text": [
        "\n",
        "iteration 553\n",
        "18.9056818686\n",
        "iteration 554\n",
        "18.9056818675"
       ]
      },
      {
       "output_type": "stream",
       "stream": "stdout",
       "text": [
        "\n",
        "iteration 555\n",
        "18.9056818665\n",
        "iteration 556\n",
        "18.9056818655"
       ]
      },
      {
       "output_type": "stream",
       "stream": "stdout",
       "text": [
        "\n",
        "iteration 557\n",
        "18.9056818645\n",
        "iteration 558\n",
        "18.9056818635"
       ]
      },
      {
       "output_type": "stream",
       "stream": "stdout",
       "text": [
        "\n",
        "iteration 559\n",
        "18.9056818625\n",
        "iteration 560\n",
        "18.9056818616"
       ]
      },
      {
       "output_type": "stream",
       "stream": "stdout",
       "text": [
        "\n",
        "iteration 561\n",
        "18.9056818607\n",
        "iteration 562\n",
        "18.9056818598"
       ]
      },
      {
       "output_type": "stream",
       "stream": "stdout",
       "text": [
        "\n",
        "iteration 563\n",
        "18.9056818589\n",
        "iteration 564\n",
        "18.9056818581"
       ]
      },
      {
       "output_type": "stream",
       "stream": "stdout",
       "text": [
        "\n",
        "iteration 565\n",
        "18.9056818572\n",
        "iteration 566\n",
        "18.9056818564"
       ]
      },
      {
       "output_type": "stream",
       "stream": "stdout",
       "text": [
        "\n",
        "iteration 567\n",
        "18.9056818556\n",
        "iteration 568\n",
        "18.9056818548"
       ]
      },
      {
       "output_type": "stream",
       "stream": "stdout",
       "text": [
        "\n",
        "iteration 569\n",
        "18.9056818541\n",
        "iteration 570\n",
        "18.9056818533"
       ]
      },
      {
       "output_type": "stream",
       "stream": "stdout",
       "text": [
        "\n",
        "iteration 571\n",
        "18.9056818526\n",
        "iteration 572\n",
        "18.9056818518"
       ]
      },
      {
       "output_type": "stream",
       "stream": "stdout",
       "text": [
        "\n",
        "iteration 573\n",
        "18.9056818511\n",
        "iteration 574\n",
        "18.9056818505"
       ]
      },
      {
       "output_type": "stream",
       "stream": "stdout",
       "text": [
        "\n",
        "iteration 575\n",
        "18.9056818498\n",
        "iteration 576\n",
        "18.9056818491"
       ]
      },
      {
       "output_type": "stream",
       "stream": "stdout",
       "text": [
        "\n",
        "iteration 577\n",
        "18.9056818485\n",
        "iteration 578\n",
        "18.9056818478"
       ]
      },
      {
       "output_type": "stream",
       "stream": "stdout",
       "text": [
        "\n",
        "iteration 579\n",
        "18.9056818472\n",
        "iteration 580\n",
        "18.9056818466"
       ]
      },
      {
       "output_type": "stream",
       "stream": "stdout",
       "text": [
        "\n",
        "iteration 581\n",
        "18.905681846\n",
        "iteration 582\n",
        "18.9056818454"
       ]
      },
      {
       "output_type": "stream",
       "stream": "stdout",
       "text": [
        "\n",
        "iteration 583\n",
        "18.9056818448\n",
        "iteration 584\n",
        "18.9056818443"
       ]
      },
      {
       "output_type": "stream",
       "stream": "stdout",
       "text": [
        "\n",
        "iteration 585\n",
        "18.9056818437\n",
        "iteration 586\n",
        "18.9056818432"
       ]
      },
      {
       "output_type": "stream",
       "stream": "stdout",
       "text": [
        "\n",
        "iteration 587\n",
        "18.9056818427\n",
        "iteration 588\n",
        "18.9056818422"
       ]
      },
      {
       "output_type": "stream",
       "stream": "stdout",
       "text": [
        "\n",
        "iteration 589\n",
        "18.9056818417\n",
        "iteration 590\n",
        "18.9056818412"
       ]
      },
      {
       "output_type": "stream",
       "stream": "stdout",
       "text": [
        "\n",
        "iteration 591\n",
        "18.9056818407\n",
        "iteration 592\n",
        "18.9056818402"
       ]
      },
      {
       "output_type": "stream",
       "stream": "stdout",
       "text": [
        "\n",
        "iteration 593\n",
        "18.9056818397\n",
        "iteration 594\n",
        "18.9056818393"
       ]
      },
      {
       "output_type": "stream",
       "stream": "stdout",
       "text": [
        "\n",
        "iteration 595\n",
        "18.9056818389\n",
        "iteration 596\n",
        "18.9056818384"
       ]
      },
      {
       "output_type": "stream",
       "stream": "stdout",
       "text": [
        "\n",
        "iteration 597\n",
        "18.905681838\n",
        "iteration 598\n",
        "18.9056818376"
       ]
      },
      {
       "output_type": "stream",
       "stream": "stdout",
       "text": [
        "\n",
        "iteration 599\n",
        "18.9056818372\n",
        "iteration 600\n",
        "18.9056818368"
       ]
      },
      {
       "output_type": "stream",
       "stream": "stdout",
       "text": [
        "\n",
        "iteration 601\n",
        "18.9056818364\n",
        "iteration 602\n",
        "18.905681836"
       ]
      },
      {
       "output_type": "stream",
       "stream": "stdout",
       "text": [
        "\n",
        "iteration 603\n",
        "18.9056818356\n",
        "iteration 604\n",
        "18.9056818353"
       ]
      },
      {
       "output_type": "stream",
       "stream": "stdout",
       "text": [
        "\n",
        "iteration 605\n",
        "18.9056818349\n",
        "iteration 606\n",
        "18.9056818346"
       ]
      },
      {
       "output_type": "stream",
       "stream": "stdout",
       "text": [
        "\n",
        "iteration 607\n",
        "18.9056818342\n",
        "iteration 608\n",
        "18.9056818339"
       ]
      },
      {
       "output_type": "stream",
       "stream": "stdout",
       "text": [
        "\n",
        "iteration 609\n",
        "18.9056818335\n",
        "iteration 610\n",
        "18.9056818332"
       ]
      },
      {
       "output_type": "stream",
       "stream": "stdout",
       "text": [
        "\n",
        "iteration 611\n",
        "18.9056818329\n",
        "iteration 612\n",
        "18.9056818326"
       ]
      },
      {
       "output_type": "stream",
       "stream": "stdout",
       "text": [
        "\n",
        "iteration 613\n",
        "18.9056818323\n",
        "iteration 614\n",
        "18.905681832"
       ]
      },
      {
       "output_type": "stream",
       "stream": "stdout",
       "text": [
        "\n",
        "iteration 615\n",
        "18.9056818317\n",
        "iteration 616\n",
        "18.9056818314"
       ]
      },
      {
       "output_type": "stream",
       "stream": "stdout",
       "text": [
        "\n",
        "iteration 617\n",
        "18.9056818311\n",
        "iteration 618\n",
        "18.9056818309"
       ]
      },
      {
       "output_type": "stream",
       "stream": "stdout",
       "text": [
        "\n",
        "iteration 619\n",
        "18.9056818306\n",
        "iteration 620\n",
        "18.9056818303"
       ]
      },
      {
       "output_type": "stream",
       "stream": "stdout",
       "text": [
        "\n",
        "iteration 621\n",
        "18.9056818301\n",
        "iteration 622\n",
        "18.9056818298"
       ]
      },
      {
       "output_type": "stream",
       "stream": "stdout",
       "text": [
        "\n",
        "iteration 623\n",
        "18.9056818296\n",
        "iteration 624\n",
        "18.9056818294"
       ]
      },
      {
       "output_type": "stream",
       "stream": "stdout",
       "text": [
        "\n",
        "iteration 625\n",
        "18.9056818291\n",
        "iteration 626\n",
        "18.9056818289"
       ]
      },
      {
       "output_type": "stream",
       "stream": "stdout",
       "text": [
        "\n",
        "iteration 627\n",
        "18.9056818287\n",
        "iteration 628\n",
        "18.9056818284"
       ]
      },
      {
       "output_type": "stream",
       "stream": "stdout",
       "text": [
        "\n",
        "iteration 629\n",
        "18.9056818282\n",
        "iteration 630\n",
        "18.905681828"
       ]
      },
      {
       "output_type": "stream",
       "stream": "stdout",
       "text": [
        "\n",
        "iteration 631\n",
        "18.9056818278\n",
        "iteration 632\n",
        "18.9056818276"
       ]
      },
      {
       "output_type": "stream",
       "stream": "stdout",
       "text": [
        "\n",
        "iteration 633\n",
        "18.9056818274\n",
        "iteration 634\n",
        "18.9056818272"
       ]
      },
      {
       "output_type": "stream",
       "stream": "stdout",
       "text": [
        "\n",
        "iteration 635\n",
        "18.905681827\n",
        "iteration 636\n",
        "18.9056818268"
       ]
      },
      {
       "output_type": "stream",
       "stream": "stdout",
       "text": [
        "\n",
        "iteration 637\n",
        "18.9056818267\n",
        "iteration 638\n",
        "18.9056818265"
       ]
      },
      {
       "output_type": "stream",
       "stream": "stdout",
       "text": [
        "\n",
        "iteration 639\n",
        "18.9056818263\n",
        "iteration 640\n",
        "18.9056818261"
       ]
      },
      {
       "output_type": "stream",
       "stream": "stdout",
       "text": [
        "\n",
        "iteration 641\n",
        "18.905681826\n",
        "iteration 642\n",
        "18.9056818258"
       ]
      },
      {
       "output_type": "stream",
       "stream": "stdout",
       "text": [
        "\n",
        "iteration 643\n",
        "18.9056818257\n",
        "iteration 644\n",
        "18.9056818255"
       ]
      },
      {
       "output_type": "stream",
       "stream": "stdout",
       "text": [
        "\n",
        "iteration 645\n",
        "18.9056818253\n",
        "iteration 646\n",
        "18.9056818252"
       ]
      },
      {
       "output_type": "stream",
       "stream": "stdout",
       "text": [
        "\n",
        "iteration 647\n",
        "18.905681825\n",
        "iteration 648\n",
        "18.9056818249"
       ]
      },
      {
       "output_type": "stream",
       "stream": "stdout",
       "text": [
        "\n",
        "iteration 649\n",
        "18.9056818248\n",
        "iteration 650\n",
        "18.9056818246"
       ]
      },
      {
       "output_type": "stream",
       "stream": "stdout",
       "text": [
        "\n",
        "iteration 651\n",
        "18.9056818245\n",
        "iteration 652\n",
        "18.9056818244"
       ]
      },
      {
       "output_type": "stream",
       "stream": "stdout",
       "text": [
        "\n",
        "iteration 653\n",
        "18.9056818242\n",
        "iteration 654\n",
        "18.9056818241"
       ]
      },
      {
       "output_type": "stream",
       "stream": "stdout",
       "text": [
        "\n",
        "iteration 655\n",
        "18.905681824\n",
        "iteration 656\n",
        "18.9056818239"
       ]
      },
      {
       "output_type": "stream",
       "stream": "stdout",
       "text": [
        "\n",
        "iteration 657\n",
        "18.9056818237\n",
        "iteration 658\n",
        "18.9056818236"
       ]
      },
      {
       "output_type": "stream",
       "stream": "stdout",
       "text": [
        "\n",
        "iteration 659\n",
        "18.9056818235\n",
        "iteration 660\n",
        "18.9056818234"
       ]
      },
      {
       "output_type": "stream",
       "stream": "stdout",
       "text": [
        "\n",
        "iteration 661\n",
        "18.9056818233\n",
        "iteration 662\n",
        "18.9056818232"
       ]
      },
      {
       "output_type": "stream",
       "stream": "stdout",
       "text": [
        "\n",
        "iteration 663\n",
        "18.9056818231\n",
        "iteration 664\n",
        "18.905681823"
       ]
      },
      {
       "output_type": "stream",
       "stream": "stdout",
       "text": [
        "\n",
        "iteration 665\n",
        "18.9056818229\n",
        "iteration 666\n",
        "18.9056818228"
       ]
      },
      {
       "output_type": "stream",
       "stream": "stdout",
       "text": [
        "\n",
        "iteration 667\n",
        "18.9056818227\n",
        "iteration 668\n",
        "18.9056818226"
       ]
      },
      {
       "output_type": "stream",
       "stream": "stdout",
       "text": [
        "\n",
        "iteration 669\n",
        "18.9056818225\n",
        "iteration 670\n",
        "18.9056818224"
       ]
      },
      {
       "output_type": "stream",
       "stream": "stdout",
       "text": [
        "\n",
        "iteration 671\n",
        "18.9056818223\n",
        "iteration 672\n",
        "18.9056818222"
       ]
      },
      {
       "output_type": "stream",
       "stream": "stdout",
       "text": [
        "\n",
        "iteration 673\n",
        "18.9056818221\n",
        "iteration 674\n",
        "18.9056818221"
       ]
      },
      {
       "output_type": "stream",
       "stream": "stdout",
       "text": [
        "\n",
        "iteration 675\n",
        "18.905681822\n",
        "iteration 676\n",
        "18.9056818219"
       ]
      },
      {
       "output_type": "stream",
       "stream": "stdout",
       "text": [
        "\n",
        "iteration 677\n",
        "18.9056818218\n",
        "iteration 678\n",
        "18.9056818217"
       ]
      },
      {
       "output_type": "stream",
       "stream": "stdout",
       "text": [
        "\n",
        "iteration 679\n",
        "18.9056818217\n",
        "iteration 680\n",
        "18.9056818216"
       ]
      },
      {
       "output_type": "stream",
       "stream": "stdout",
       "text": [
        "\n",
        "iteration 681\n",
        "18.9056818215\n",
        "iteration 682\n",
        "18.9056818215"
       ]
      },
      {
       "output_type": "stream",
       "stream": "stdout",
       "text": [
        "\n",
        "iteration 683\n",
        "18.9056818214\n",
        "iteration 684\n",
        "18.9056818213"
       ]
      },
      {
       "output_type": "stream",
       "stream": "stdout",
       "text": [
        "\n",
        "iteration 685\n",
        "18.9056818212\n",
        "iteration 686\n",
        "18.9056818212"
       ]
      },
      {
       "output_type": "stream",
       "stream": "stdout",
       "text": [
        "\n",
        "iteration 687\n",
        "18.9056818211\n",
        "iteration 688\n",
        "18.9056818211"
       ]
      },
      {
       "output_type": "stream",
       "stream": "stdout",
       "text": [
        "\n",
        "iteration 689\n",
        "18.905681821\n",
        "iteration 690\n",
        "18.9056818209"
       ]
      },
      {
       "output_type": "stream",
       "stream": "stdout",
       "text": [
        "\n",
        "iteration 691\n",
        "18.9056818209\n",
        "iteration 692\n",
        "18.9056818208"
       ]
      },
      {
       "output_type": "stream",
       "stream": "stdout",
       "text": [
        "\n",
        "iteration 693\n",
        "18.9056818208\n",
        "iteration 694\n",
        "18.9056818207"
       ]
      },
      {
       "output_type": "stream",
       "stream": "stdout",
       "text": [
        "\n",
        "iteration 695\n",
        "18.9056818207\n",
        "iteration 696\n",
        "18.9056818206"
       ]
      },
      {
       "output_type": "stream",
       "stream": "stdout",
       "text": [
        "\n",
        "iteration 697\n",
        "18.9056818206\n",
        "iteration 698\n",
        "18.9056818205"
       ]
      },
      {
       "output_type": "stream",
       "stream": "stdout",
       "text": [
        "\n",
        "iteration 699\n",
        "18.9056818205\n",
        "iteration 700\n",
        "18.9056818204"
       ]
      },
      {
       "output_type": "stream",
       "stream": "stdout",
       "text": [
        "\n",
        "iteration 701\n",
        "18.9056818204\n",
        "iteration 702\n",
        "18.9056818203"
       ]
      },
      {
       "output_type": "stream",
       "stream": "stdout",
       "text": [
        "\n",
        "iteration 703\n",
        "18.9056818203\n",
        "iteration 704\n",
        "18.9056818202"
       ]
      },
      {
       "output_type": "stream",
       "stream": "stdout",
       "text": [
        "\n",
        "iteration 705\n",
        "18.9056818202\n",
        "iteration 706\n",
        "18.9056818201"
       ]
      },
      {
       "output_type": "stream",
       "stream": "stdout",
       "text": [
        "\n",
        "iteration 707\n",
        "18.9056818201\n",
        "iteration 708\n",
        "18.9056818201"
       ]
      },
      {
       "output_type": "stream",
       "stream": "stdout",
       "text": [
        "\n",
        "iteration 709\n",
        "18.90568182\n",
        "iteration 710\n",
        "18.90568182"
       ]
      },
      {
       "output_type": "stream",
       "stream": "stdout",
       "text": [
        "\n",
        "iteration 711\n",
        "18.9056818199\n",
        "iteration 712\n",
        "18.9056818199"
       ]
      },
      {
       "output_type": "stream",
       "stream": "stdout",
       "text": [
        "\n",
        "iteration 713\n",
        "18.9056818199\n",
        "iteration 714\n",
        "18.9056818198"
       ]
      },
      {
       "output_type": "stream",
       "stream": "stdout",
       "text": [
        "\n",
        "iteration 715\n",
        "18.9056818198\n",
        "iteration 716\n",
        "18.9056818198"
       ]
      },
      {
       "output_type": "stream",
       "stream": "stdout",
       "text": [
        "\n",
        "iteration 717\n",
        "18.9056818197\n",
        "iteration 718\n",
        "18.9056818197"
       ]
      },
      {
       "output_type": "stream",
       "stream": "stdout",
       "text": [
        "\n",
        "iteration 719\n",
        "18.9056818197\n",
        "iteration 720\n",
        "18.9056818196"
       ]
      },
      {
       "output_type": "stream",
       "stream": "stdout",
       "text": [
        "\n",
        "iteration 721\n",
        "18.9056818196\n",
        "iteration 722\n",
        "18.9056818196"
       ]
      },
      {
       "output_type": "stream",
       "stream": "stdout",
       "text": [
        "\n",
        "iteration 723\n",
        "18.9056818196\n",
        "iteration 724\n",
        "18.9056818195"
       ]
      },
      {
       "output_type": "stream",
       "stream": "stdout",
       "text": [
        "\n",
        "iteration 725\n",
        "18.9056818195\n",
        "iteration 726\n",
        "18.9056818195"
       ]
      },
      {
       "output_type": "stream",
       "stream": "stdout",
       "text": [
        "\n",
        "iteration 727\n",
        "18.9056818194\n",
        "iteration 728\n",
        "18.9056818194"
       ]
      },
      {
       "output_type": "stream",
       "stream": "stdout",
       "text": [
        "\n",
        "iteration 729\n",
        "18.9056818194\n",
        "iteration 730\n",
        "18.9056818194"
       ]
      },
      {
       "output_type": "stream",
       "stream": "stdout",
       "text": [
        "\n",
        "iteration 731\n",
        "18.9056818193\n",
        "iteration 732\n",
        "18.9056818193"
       ]
      },
      {
       "output_type": "stream",
       "stream": "stdout",
       "text": [
        "\n",
        "iteration 733\n",
        "18.9056818193\n",
        "iteration 734\n",
        "18.9056818193"
       ]
      },
      {
       "output_type": "stream",
       "stream": "stdout",
       "text": [
        "\n",
        "iteration 735\n",
        "18.9056818192\n",
        "iteration 736\n",
        "18.9056818192"
       ]
      },
      {
       "output_type": "stream",
       "stream": "stdout",
       "text": [
        "\n",
        "iteration 737\n",
        "18.9056818192\n",
        "iteration 738\n",
        "18.9056818192"
       ]
      },
      {
       "output_type": "stream",
       "stream": "stdout",
       "text": [
        "\n",
        "iteration 739\n",
        "18.9056818192\n",
        "iteration 740\n",
        "18.9056818191"
       ]
      },
      {
       "output_type": "stream",
       "stream": "stdout",
       "text": [
        "\n",
        "iteration 741\n",
        "18.9056818191\n",
        "iteration 742\n",
        "18.9056818191"
       ]
      },
      {
       "output_type": "stream",
       "stream": "stdout",
       "text": [
        "\n",
        "iteration 743\n",
        "18.9056818191\n",
        "iteration 744\n",
        "18.9056818191"
       ]
      },
      {
       "output_type": "stream",
       "stream": "stdout",
       "text": [
        "\n",
        "iteration 745\n",
        "18.905681819\n",
        "iteration 746\n",
        "18.905681819"
       ]
      },
      {
       "output_type": "stream",
       "stream": "stdout",
       "text": [
        "\n",
        "iteration 747\n",
        "18.905681819\n",
        "iteration 748\n",
        "18.905681819"
       ]
      },
      {
       "output_type": "stream",
       "stream": "stdout",
       "text": [
        "\n",
        "iteration 749\n",
        "18.905681819\n",
        "iteration 750\n",
        "18.905681819"
       ]
      },
      {
       "output_type": "stream",
       "stream": "stdout",
       "text": [
        "\n",
        "iteration 751\n",
        "18.9056818189\n",
        "iteration 752\n",
        "18.9056818189"
       ]
      },
      {
       "output_type": "stream",
       "stream": "stdout",
       "text": [
        "\n",
        "iteration 753\n",
        "18.9056818189\n",
        "iteration 754\n",
        "18.9056818189"
       ]
      },
      {
       "output_type": "stream",
       "stream": "stdout",
       "text": [
        "\n",
        "iteration 755\n",
        "18.9056818189\n",
        "iteration 756\n",
        "18.9056818189"
       ]
      },
      {
       "output_type": "stream",
       "stream": "stdout",
       "text": [
        "\n",
        "iteration 757\n",
        "18.9056818188\n",
        "iteration 758\n",
        "18.9056818188"
       ]
      },
      {
       "output_type": "stream",
       "stream": "stdout",
       "text": [
        "\n",
        "iteration 759\n",
        "18.9056818188\n",
        "iteration 760\n",
        "18.9056818188"
       ]
      },
      {
       "output_type": "stream",
       "stream": "stdout",
       "text": [
        "\n",
        "iteration 761\n",
        "18.9056818188\n",
        "iteration 762\n",
        "18.9056818188"
       ]
      },
      {
       "output_type": "stream",
       "stream": "stdout",
       "text": [
        "\n",
        "iteration 763\n",
        "18.9056818188\n",
        "iteration 764\n",
        "18.9056818188"
       ]
      },
      {
       "output_type": "stream",
       "stream": "stdout",
       "text": [
        "\n",
        "iteration 765\n",
        "18.9056818187\n",
        "iteration 766\n",
        "18.9056818187"
       ]
      },
      {
       "output_type": "stream",
       "stream": "stdout",
       "text": [
        "\n",
        "iteration 767\n",
        "18.9056818187\n",
        "iteration 768\n",
        "18.9056818187"
       ]
      },
      {
       "output_type": "stream",
       "stream": "stdout",
       "text": [
        "\n",
        "iteration 769\n",
        "18.9056818187\n",
        "iteration 770\n",
        "18.9056818187"
       ]
      },
      {
       "output_type": "stream",
       "stream": "stdout",
       "text": [
        "\n",
        "iteration 771\n",
        "18.9056818187\n",
        "iteration 772\n",
        "18.9056818187"
       ]
      },
      {
       "output_type": "stream",
       "stream": "stdout",
       "text": [
        "\n",
        "iteration 773\n",
        "18.9056818187\n",
        "iteration 774\n",
        "18.9056818186"
       ]
      },
      {
       "output_type": "stream",
       "stream": "stdout",
       "text": [
        "\n",
        "iteration 775\n",
        "18.9056818186\n",
        "iteration 776\n",
        "18.9056818186"
       ]
      },
      {
       "output_type": "stream",
       "stream": "stdout",
       "text": [
        "\n",
        "iteration 777\n",
        "18.9056818186\n",
        "iteration 778\n",
        "18.9056818186"
       ]
      },
      {
       "output_type": "stream",
       "stream": "stdout",
       "text": [
        "\n",
        "iteration 779\n",
        "18.9056818186\n",
        "iteration 780\n",
        "18.9056818186"
       ]
      },
      {
       "output_type": "stream",
       "stream": "stdout",
       "text": [
        "\n",
        "iteration 781\n",
        "18.9056818186\n",
        "iteration 782\n",
        "18.9056818186"
       ]
      },
      {
       "output_type": "stream",
       "stream": "stdout",
       "text": [
        "\n",
        "iteration 783\n",
        "18.9056818186\n",
        "iteration 784\n",
        "18.9056818186"
       ]
      },
      {
       "output_type": "stream",
       "stream": "stdout",
       "text": [
        "\n",
        "iteration 785\n",
        "18.9056818186\n",
        "iteration 786\n",
        "18.9056818185"
       ]
      },
      {
       "output_type": "stream",
       "stream": "stdout",
       "text": [
        "\n",
        "iteration 787\n",
        "18.9056818185\n",
        "iteration 788\n",
        "18.9056818185"
       ]
      },
      {
       "output_type": "stream",
       "stream": "stdout",
       "text": [
        "\n",
        "iteration 789\n",
        "18.9056818185\n",
        "iteration 790\n",
        "18.9056818185"
       ]
      },
      {
       "output_type": "stream",
       "stream": "stdout",
       "text": [
        "\n",
        "iteration 791\n",
        "18.9056818185\n",
        "iteration 792\n",
        "18.9056818185"
       ]
      },
      {
       "output_type": "stream",
       "stream": "stdout",
       "text": [
        "\n",
        "iteration 793\n",
        "18.9056818185\n",
        "iteration 794\n",
        "18.9056818185"
       ]
      },
      {
       "output_type": "stream",
       "stream": "stdout",
       "text": [
        "\n",
        "iteration 795\n",
        "18.9056818185\n",
        "iteration 796\n",
        "18.9056818185"
       ]
      },
      {
       "output_type": "stream",
       "stream": "stdout",
       "text": [
        "\n",
        "iteration 797\n",
        "18.9056818185\n",
        "iteration 798\n",
        "18.9056818185"
       ]
      },
      {
       "output_type": "stream",
       "stream": "stdout",
       "text": [
        "\n",
        "iteration 799\n",
        "18.9056818185\n",
        "iteration 800\n",
        "18.9056818185"
       ]
      },
      {
       "output_type": "stream",
       "stream": "stdout",
       "text": [
        "\n",
        "iteration 801\n",
        "18.9056818184\n",
        "iteration 802\n",
        "18.9056818184"
       ]
      },
      {
       "output_type": "stream",
       "stream": "stdout",
       "text": [
        "\n",
        "iteration 803\n",
        "18.9056818184\n",
        "iteration 804\n",
        "18.9056818184"
       ]
      },
      {
       "output_type": "stream",
       "stream": "stdout",
       "text": [
        "\n",
        "iteration 805\n",
        "18.9056818184\n",
        "iteration 806\n",
        "18.9056818184"
       ]
      },
      {
       "output_type": "stream",
       "stream": "stdout",
       "text": [
        "\n",
        "iteration 807\n",
        "18.9056818184\n",
        "iteration 808\n",
        "18.9056818184"
       ]
      },
      {
       "output_type": "stream",
       "stream": "stdout",
       "text": [
        "\n",
        "iteration 809\n",
        "18.9056818184\n",
        "iteration 810\n",
        "18.9056818184"
       ]
      },
      {
       "output_type": "stream",
       "stream": "stdout",
       "text": [
        "\n",
        "iteration 811\n",
        "18.9056818184\n",
        "iteration 812\n",
        "18.9056818184"
       ]
      },
      {
       "output_type": "stream",
       "stream": "stdout",
       "text": [
        "\n",
        "iteration 813\n",
        "18.9056818184\n",
        "iteration 814\n",
        "18.9056818184"
       ]
      },
      {
       "output_type": "stream",
       "stream": "stdout",
       "text": [
        "\n",
        "iteration 815\n",
        "18.9056818184\n",
        "iteration 816\n",
        "18.9056818184"
       ]
      },
      {
       "output_type": "stream",
       "stream": "stdout",
       "text": [
        "\n",
        "iteration 817\n",
        "18.9056818184\n",
        "iteration 818\n",
        "18.9056818184"
       ]
      },
      {
       "output_type": "stream",
       "stream": "stdout",
       "text": [
        "\n"
       ]
      }
     ],
     "prompt_number": 352
    },
    {
     "cell_type": "code",
     "collapsed": false,
     "input": [
      "pmIndex[PlayerModel.objects.all()[1]]"
     ],
     "language": "python",
     "outputs": [
      {
       "output_type": "pyout",
       "prompt_number": 252,
       "text": [
        "1"
       ]
      }
     ],
     "prompt_number": 252
    },
    {
     "cell_type": "code",
     "collapsed": false,
     "input": [
      "xs"
     ],
     "language": "python",
     "outputs": [
      {
       "output_type": "pyout",
       "prompt_number": 274,
       "text": [
        "[array([ 0.04590225,  0.05528144,  0.5764903 ,  0.32232601]),\n",
        " array([ 0.31492691,  0.55285374,  0.13221935]),\n",
        " array([ 0.03168326,  0.014499  ,  0.32908987,  0.62472787]),\n",
        " array([ 0.43507127,  0.23511136,  0.32981738]),\n",
        " array([ 0.32241149,  0.14386191,  0.5337266 ])]"
       ]
      }
     ],
     "prompt_number": 274
    },
    {
     "cell_type": "code",
     "collapsed": false,
     "input": [
      "pmPaths.items()"
     ],
     "language": "python",
     "outputs": [
      {
       "output_type": "pyout",
       "prompt_number": 254,
       "text": [
        "[(<PlayerModel: m5>,\n",
        "  [[<Edge: from: 5 to: 8>, <Edge: from: 3 to: 5>],\n",
        "   [<Edge: from: 7 to: 8>, <Edge: from: 3 to: 5>, <Edge: from: 5 to: 7>],\n",
        "   [<Edge: from: 3 to: 6>, <Edge: from: 7 to: 8>, <Edge: from: 6 to: 7>]]),\n",
        " (<PlayerModel: m4>,\n",
        "  [[<Edge: from: 5 to: 9>, <Edge: from: 3 to: 5>, <Edge: from: 2 to: 3>],\n",
        "   [<Edge: from: 3 to: 6>, <Edge: from: 6 to: 9>, <Edge: from: 2 to: 3>],\n",
        "   [<Edge: from: 6 to: 9>, <Edge: from: 4 to: 6>, <Edge: from: 2 to: 4>]]),\n",
        " (<PlayerModel: m1>,\n",
        "  [[<Edge: from: 1 to: 3>, <Edge: from: 3 to: 5>, <Edge: from: 5 to: 8>],\n",
        "   [<Edge: from: 1 to: 3>, <Edge: from: 7 to: 8>, <Edge: from: 3 to: 5>, <Edge: from: 5 to: 7>],\n",
        "   [<Edge: from: 3 to: 6>, <Edge: from: 1 to: 3>, <Edge: from: 7 to: 8>, <Edge: from: 6 to: 7>],\n",
        "   [<Edge: from: 7 to: 8>, <Edge: from: 1 to: 4>, <Edge: from: 4 to: 6>, <Edge: from: 6 to: 7>]]),\n",
        " (<PlayerModel: m3>,\n",
        "  [[<Edge: from: 3 to: 5>, <Edge: from: 2 to: 3>, <Edge: from: 5 to: 8>],\n",
        "   [<Edge: from: 7 to: 8>, <Edge: from: 3 to: 5>, <Edge: from: 2 to: 3>, <Edge: from: 5 to: 7>],\n",
        "   [<Edge: from: 3 to: 6>, <Edge: from: 7 to: 8>, <Edge: from: 2 to: 3>, <Edge: from: 6 to: 7>],\n",
        "   [<Edge: from: 7 to: 8>, <Edge: from: 4 to: 6>, <Edge: from: 6 to: 7>, <Edge: from: 2 to: 4>]]),\n",
        " (<PlayerModel: m2>,\n",
        "  [[<Edge: from: 1 to: 3>, <Edge: from: 5 to: 9>, <Edge: from: 3 to: 5>],\n",
        "   [<Edge: from: 3 to: 6>, <Edge: from: 6 to: 9>, <Edge: from: 1 to: 3>],\n",
        "   [<Edge: from: 6 to: 9>, <Edge: from: 1 to: 4>, <Edge: from: 4 to: 6>]])]"
       ]
      }
     ],
     "prompt_number": 254
    },
    {
     "cell_type": "code",
     "collapsed": false,
     "input": [
      "compute_equilibrium_potential_cost(xs, pmIndex)"
     ],
     "language": "python",
     "outputs": [
      {
       "output_type": "pyout",
       "prompt_number": 284,
       "text": [
        "21.843173295204647"
       ]
      }
     ],
     "prompt_number": 284
    },
    {
     "cell_type": "code",
     "collapsed": false,
     "input": [
      "edge_flows"
     ],
     "language": "python",
     "outputs": [
      {
       "output_type": "pyout",
       "prompt_number": 272,
       "text": [
        "{u'01180e3f595f64bd0fccad5f7d2a73be': array([ 31.18091336]),\n",
        " u'14812841179217cfdb6e63d0ffbef319': array([ 44.22552705]),\n",
        " u'182175f053c3703cb8d33b8a8425f647': array([ 46.48539215]),\n",
        " u'187f70636347316d2626d5edc4548ef2': array([ 48.17677891]),\n",
        " u'301c5a0c06642fbe79661af6fb1a0896': array([ 19.77447295]),\n",
        " u'3c8b3e83bef2492e3a4ce8ca52d51591': array([ 99.14276385]),\n",
        " u'60dc0a497c04648c9e4641bd18c17b04': array([ 17.51460785]),\n",
        " u'b81e5815c9ad0e911fcae8ce6542ce68': array([ 51.83828507]),\n",
        " u'be20b37134dc0fe6c75fa9314fe7adce': array([ 31.54506982]),\n",
        " u'cdff64e531121d7e2da47c95529415de': array([ 47.82322109]),\n",
        " u'd2139601f439afc2d48ccc82a655eec9': array([ 29.67632279]),\n",
        " u'f989b13a4792dd7eb3d47a078a7b446c': array([ 16.63170909]),\n",
        " u'fa87b1d9062a52fa051e7db856781a26': array([ 12.16171493])}"
       ]
      }
     ],
     "prompt_number": 272
    },
    {
     "cell_type": "code",
     "collapsed": false,
     "input": [
      "edge_flows"
     ],
     "language": "python",
     "outputs": [
      {
       "output_type": "pyout",
       "prompt_number": 223,
       "text": [
        "{u'01180e3f595f64bd0fccad5f7d2a73be': array([ 0.16433236]),\n",
        " u'187f70636347316d2626d5edc4548ef2': array([ 0.2931511]),\n",
        " u'3c8b3e83bef2492e3a4ce8ca52d51591': array([ 0.83566764]),\n",
        " u'be20b37134dc0fe6c75fa9314fe7adce': array([ 0.12881873]),\n",
        " u'cdff64e531121d7e2da47c95529415de': array([ 0.7068489]),\n",
        " u'f989b13a4792dd7eb3d47a078a7b446c': array([ 0.16433236])}"
       ]
      }
     ],
     "prompt_number": 223
    },
    {
     "cell_type": "code",
     "collapsed": true,
     "input": [
      "for fd in FlowDistribution.objects.all():\n",
      "    flow = 0.0\n",
      "    for pfa in fd.path_assignments.all():\n",
      "        flow += pfa.flow\n",
      "    print flow"
     ],
     "language": "python",
     "outputs": [
      {
       "output_type": "stream",
       "stream": "stdout",
       "text": [
        "1.0\n",
        "1.0\n",
        "1.0\n",
        "1.0\n",
        "1.0\n",
        "1.0\n",
        "1.0\n",
        "1.0\n",
        "1.0\n",
        "1.0\n",
        "1.0\n",
        "1.0\n",
        "1.0\n",
        "1.0\n",
        "1.0\n",
        "1.0\n",
        "1.0\n",
        "1.0\n",
        "1.0\n",
        "1.0\n",
        "1.0"
       ]
      },
      {
       "output_type": "stream",
       "stream": "stdout",
       "text": [
        "\n",
        "1.0\n",
        "1.0\n",
        "1.0\n",
        "1.0\n",
        "1.0\n",
        "1.0\n",
        "1.0\n",
        "1.0\n",
        "1.0\n",
        "1.0\n",
        "1.0\n",
        "1.0\n",
        "1.0\n",
        "1.0\n",
        "1.0\n",
        "1.0\n",
        "1.0\n",
        "1.0\n",
        "1.0\n",
        "1.0\n",
        "1.0"
       ]
      },
      {
       "output_type": "stream",
       "stream": "stdout",
       "text": [
        "\n",
        "1.0\n",
        "1.0\n",
        "1.0\n",
        "1.0\n",
        "1.0\n",
        "1.0\n",
        "1.0\n",
        "1.0\n",
        "1.0\n",
        "1.0\n",
        "1.0\n",
        "1.0\n",
        "1.0\n",
        "1.0\n",
        "1.0\n",
        "1.0\n",
        "1.0\n",
        "1.0\n",
        "1.0\n",
        "1.0\n",
        "1.0\n",
        "1.0"
       ]
      },
      {
       "output_type": "stream",
       "stream": "stdout",
       "text": [
        "\n",
        "1.0\n",
        "1.0\n",
        "1.0\n",
        "1.0\n",
        "1.0\n",
        "1.0\n",
        "1.0\n",
        "1.0\n",
        "1.0\n",
        "1.0\n",
        "1.0\n",
        "1.0\n",
        "1.0\n",
        "1.0\n",
        "1.0\n",
        "1.0\n",
        "1.0\n",
        "1.0\n",
        "1.0\n",
        "1.0\n",
        "1.0\n",
        "1.0\n",
        "1.0\n",
        "1.0"
       ]
      },
      {
       "output_type": "stream",
       "stream": "stdout",
       "text": [
        "\n",
        "1.0\n",
        "1.0\n",
        "1.0\n",
        "1.0\n",
        "1.0\n",
        "1.0\n",
        "1.0\n",
        "1.0\n",
        "1.0\n",
        "1.0\n",
        "1.0\n",
        "1.0\n",
        "1.0\n",
        "1.0\n",
        "1.0\n",
        "1.0\n",
        "1.0\n",
        "1.0\n",
        "1.0\n",
        "1.0\n",
        "1.0\n",
        "1.0\n",
        "1.0"
       ]
      },
      {
       "output_type": "stream",
       "stream": "stdout",
       "text": [
        "\n",
        "1.0\n",
        "1.0\n",
        "1.0\n",
        "1.0\n",
        "1.0\n",
        "1.0\n",
        "1.0\n",
        "1.0\n",
        "1.0\n",
        "1.0\n",
        "1.0\n",
        "1.0\n",
        "1.0\n",
        "1.0\n",
        "1.0\n",
        "1.0\n",
        "1.0\n",
        "1.0\n",
        "1.0\n",
        "1.0\n",
        "1.0\n",
        "1.0"
       ]
      },
      {
       "output_type": "stream",
       "stream": "stdout",
       "text": [
        "\n",
        "1.0\n",
        "1.0\n",
        "1.0\n",
        "1.0\n",
        "1.0\n",
        "1.0\n",
        "1.0\n",
        "1.0\n",
        "1.0\n",
        "1.0\n",
        "1.0\n",
        "1.0\n",
        "1.0\n",
        "1.0\n",
        "1.0\n",
        "1.0\n",
        "1.0\n",
        "1.0"
       ]
      },
      {
       "output_type": "stream",
       "stream": "stdout",
       "text": [
        "\n",
        "1.0\n",
        "1.0\n",
        "1.0\n",
        "1.0\n"
       ]
      }
     ],
     "prompt_number": 240
    },
    {
     "cell_type": "code",
     "collapsed": false,
     "input": [
      "xs"
     ],
     "language": "python",
     "outputs": [
      {
       "output_type": "pyout",
       "prompt_number": 289,
       "text": [
        "[array([ 0.13542215,  0.05482563,  0.53715847,  0.27259375]),\n",
        " array([ 0.30317829,  0.51487018,  0.18195153]),\n",
        " array([ 0.09906445,  0.09544124,  0.22061788,  0.58487643]),\n",
        " array([ 0.44682003,  0.18351103,  0.36966894]),\n",
        " array([ 0.16551046,  0.0633752 ,  0.77111434])]"
       ]
      }
     ],
     "prompt_number": 289
    },
    {
     "cell_type": "code",
     "collapsed": false,
     "input": [
      "Path.objects.filter(player_model=pm)"
     ],
     "language": "python",
     "outputs": [
      {
       "output_type": "pyout",
       "prompt_number": 306,
       "text": [
        "[<Path: 17['from: 3 to: 6', 'from: 7 to: 8', 'from: 6 to: 7']>, <Path: 16['from: 7 to: 8', 'from: 3 to: 5', 'from: 5 to: 7']>, <Path: 15['from: 5 to: 8', 'from: 3 to: 5']>]"
       ]
      }
     ],
     "prompt_number": 306
    },
    {
     "cell_type": "code",
     "collapsed": false,
     "input": [
      "pmPaths.items()"
     ],
     "language": "python",
     "outputs": [
      {
       "output_type": "pyout",
       "prompt_number": 314,
       "text": [
        "[(<PlayerModel: m5>,\n",
        "  [[<Edge: from: 5 to: 8>, <Edge: from: 3 to: 5>],\n",
        "   [<Edge: from: 7 to: 8>, <Edge: from: 3 to: 5>, <Edge: from: 5 to: 7>],\n",
        "   [<Edge: from: 3 to: 6>, <Edge: from: 7 to: 8>, <Edge: from: 6 to: 7>]]),\n",
        " (<PlayerModel: m4>,\n",
        "  [[<Edge: from: 5 to: 9>, <Edge: from: 3 to: 5>, <Edge: from: 2 to: 3>],\n",
        "   [<Edge: from: 3 to: 6>, <Edge: from: 6 to: 9>, <Edge: from: 2 to: 3>],\n",
        "   [<Edge: from: 6 to: 9>, <Edge: from: 4 to: 6>, <Edge: from: 2 to: 4>]]),\n",
        " (<PlayerModel: m1>,\n",
        "  [[<Edge: from: 1 to: 3>, <Edge: from: 3 to: 5>, <Edge: from: 5 to: 8>],\n",
        "   [<Edge: from: 1 to: 3>, <Edge: from: 7 to: 8>, <Edge: from: 3 to: 5>, <Edge: from: 5 to: 7>],\n",
        "   [<Edge: from: 3 to: 6>, <Edge: from: 1 to: 3>, <Edge: from: 7 to: 8>, <Edge: from: 6 to: 7>],\n",
        "   [<Edge: from: 7 to: 8>, <Edge: from: 1 to: 4>, <Edge: from: 4 to: 6>, <Edge: from: 6 to: 7>]]),\n",
        " (<PlayerModel: m3>,\n",
        "  [[<Edge: from: 3 to: 5>, <Edge: from: 2 to: 3>, <Edge: from: 5 to: 8>],\n",
        "   [<Edge: from: 7 to: 8>, <Edge: from: 3 to: 5>, <Edge: from: 2 to: 3>, <Edge: from: 5 to: 7>],\n",
        "   [<Edge: from: 3 to: 6>, <Edge: from: 7 to: 8>, <Edge: from: 2 to: 3>, <Edge: from: 6 to: 7>],\n",
        "   [<Edge: from: 7 to: 8>, <Edge: from: 4 to: 6>, <Edge: from: 6 to: 7>, <Edge: from: 2 to: 4>]]),\n",
        " (<PlayerModel: m2>,\n",
        "  [[<Edge: from: 1 to: 3>, <Edge: from: 5 to: 9>, <Edge: from: 3 to: 5>],\n",
        "   [<Edge: from: 3 to: 6>, <Edge: from: 6 to: 9>, <Edge: from: 1 to: 3>],\n",
        "   [<Edge: from: 6 to: 9>, <Edge: from: 1 to: 4>, <Edge: from: 4 to: 6>]])]"
       ]
      }
     ],
     "prompt_number": 314
    }
   ]
  }
 ]
}