{
 "metadata": {
  "name": "",
  "signature": "sha256:6ae01ad3049e01cdcaf9f73c7b0375baa7d121957ce72457c0f0c6d40579c060"
 },
 "nbformat": 3,
 "nbformat_minor": 0,
 "worksheets": [
  {
   "cells": [
    {
     "cell_type": "code",
     "collapsed": false,
     "input": [
      "%matplotlib inline"
     ],
     "language": "python",
     "outputs": [],
     "prompt_number": 1
    },
    {
     "cell_type": "code",
     "collapsed": false,
     "input": [
      "import math"
     ],
     "language": "python",
     "outputs": [],
     "prompt_number": 103
    },
    {
     "cell_type": "code",
     "collapsed": false,
     "input": [
      "from graph.models import *"
     ],
     "language": "python",
     "outputs": [],
     "prompt_number": 2
    },
    {
     "cell_type": "code",
     "collapsed": false,
     "input": [
      "import matplotlib as mpl\n",
      "import numpy as np\n",
      "import matplotlib.pyplot as plt"
     ],
     "language": "python",
     "outputs": [],
     "prompt_number": 162
    },
    {
     "cell_type": "code",
     "collapsed": false,
     "input": [
      "mpl.rcParams['axes.labelcolor'] = 'g'\n",
      "mpl.rcParams['xtick.color'] = 'g'\n",
      "mpl.rcParams['ytick.color'] = 'g'"
     ],
     "language": "python",
     "outputs": [],
     "prompt_number": 168
    },
    {
     "cell_type": "code",
     "collapsed": false,
     "input": [
      "import django\n",
      "django.setup()"
     ],
     "language": "python",
     "outputs": [],
     "prompt_number": 4
    },
    {
     "cell_type": "code",
     "collapsed": false,
     "input": [
      "g = Game.objects.all()[0]"
     ],
     "language": "python",
     "outputs": [],
     "prompt_number": 5
    },
    {
     "cell_type": "code",
     "collapsed": false,
     "input": [
      "p1 = g.player_set.all()[1]"
     ],
     "language": "python",
     "outputs": [],
     "prompt_number": 159
    },
    {
     "cell_type": "code",
     "collapsed": false,
     "input": [
      "p1"
     ],
     "language": "python",
     "outputs": [
      {
       "output_type": "pyout",
       "prompt_number": 140,
       "text": [
        "<Player: golum>"
       ]
      }
     ],
     "prompt_number": 140
    },
    {
     "cell_type": "code",
     "collapsed": false,
     "input": [
      "turn = GameTurn.objects.all()[0]"
     ],
     "language": "python",
     "outputs": [],
     "prompt_number": 141
    },
    {
     "cell_type": "code",
     "collapsed": false,
     "input": [
      "turn.graph_cost.edge_costs.all()"
     ],
     "language": "python",
     "outputs": [
      {
       "output_type": "pyout",
       "prompt_number": 142,
       "text": [
        "[<EdgeCost: 1.52265737777>, <EdgeCost: 2.48404255319>, <EdgeCost: 2.01280361514>, <EdgeCost: 0.59697640118>, <EdgeCost: 1.51595744681>, <EdgeCost: 5.48029247474>, <EdgeCost: 1.48719638486>, <EdgeCost: 2.75>, <EdgeCost: 0.5>, <EdgeCost: 2.61209439528>, <EdgeCost: 1.47439276972>, <EdgeCost: 1.0>, <EdgeCost: 0.75>]"
       ]
      }
     ],
     "prompt_number": 142
    },
    {
     "cell_type": "code",
     "collapsed": false,
     "input": [
      "t1 = GameTurn.objects.all()[0]"
     ],
     "language": "python",
     "outputs": [],
     "prompt_number": 143
    },
    {
     "cell_type": "code",
     "collapsed": false,
     "input": [
      "fd = FlowDistribution.objects.get(player=p1, turn=t1)"
     ],
     "language": "python",
     "outputs": [],
     "prompt_number": 144
    },
    {
     "cell_type": "code",
     "collapsed": false,
     "input": [
      "pa = fd.path_assignments.all()"
     ],
     "language": "python",
     "outputs": [],
     "prompt_number": 145
    },
    {
     "cell_type": "code",
     "collapsed": false,
     "input": [
      "pfa = pa.all()[0]"
     ],
     "language": "python",
     "outputs": [],
     "prompt_number": 146
    },
    {
     "cell_type": "code",
     "collapsed": false,
     "input": [
      "pfa.path"
     ],
     "language": "python",
     "outputs": [
      {
       "output_type": "pyout",
       "prompt_number": 147,
       "text": [
        "<Path: 6['from: 3 to: 6', 'from: 6 to: 9', 'from: 1 to: 3']>"
       ]
      }
     ],
     "prompt_number": 147
    },
    {
     "cell_type": "code",
     "collapsed": false,
     "input": [
      "e1 = pfa.path.edges.all()[0]"
     ],
     "language": "python",
     "outputs": [],
     "prompt_number": 148
    },
    {
     "cell_type": "code",
     "collapsed": false,
     "input": [
      "p1.player_model"
     ],
     "language": "python",
     "outputs": [
      {
       "output_type": "pyout",
       "prompt_number": 149,
       "text": [
        "<PlayerModel: m2>"
       ]
      }
     ],
     "prompt_number": 149
    },
    {
     "cell_type": "code",
     "collapsed": false,
     "input": [
      "path_ids = list(Path.objects.filter(player_model=p1.player_model).values_list('id', flat=True))"
     ],
     "language": "python",
     "outputs": [],
     "prompt_number": 150
    },
    {
     "cell_type": "code",
     "collapsed": false,
     "input": [
      "path_ids"
     ],
     "language": "python",
     "outputs": [
      {
       "output_type": "pyout",
       "prompt_number": 151,
       "text": [
        "[7, 6, 5]"
       ]
      }
     ],
     "prompt_number": 151
    },
    {
     "cell_type": "code",
     "collapsed": false,
     "input": [
      "current_flows = None"
     ],
     "language": "python",
     "outputs": [],
     "prompt_number": 152
    },
    {
     "cell_type": "code",
     "collapsed": false,
     "input": [
      "current_flows"
     ],
     "language": "python",
     "outputs": [],
     "prompt_number": 153
    },
    {
     "cell_type": "code",
     "collapsed": true,
     "input": [
      "epsilon = 0.00000001\n",
      "\n",
      "gradients = []\n",
      "etas = []\n",
      "for turn, next_turn in zip(GameTurn.objects.all(), GameTurn.objects.all()[1:]):\n",
      "    if next_turn.graph_cost is None:\n",
      "        continue\n",
      "\n",
      "    e_costs = turn.graph_cost.edge_costs\n",
      "\n",
      "    fd = FlowDistribution.objects.get(player=p1, turn=turn)\n",
      "    fd_next = FlowDistribution.objects.get(player=p1, turn=next_turn)\n",
      "\n",
      "    current_flows = dict()\n",
      "    current_costs = dict()\n",
      "\n",
      "    next_flows = dict()\n",
      "\n",
      "    for p_id in path_ids:\n",
      "        path = Path.objects.get(id=p_id)\n",
      "\n",
      "        flow = fd.path_assignments.get(path=path).flow\n",
      "        current_flows[p_id] = flow\n",
      "        \n",
      "        next_flow = fd_next.path_assignments.get(path=path).flow\n",
      "        next_flows[p_id]    = next_flow\n",
      "\n",
      "        path_cost = 0\n",
      "        for e in path.edges.all():\n",
      "            path_cost += e_costs.get(edge=e).cost\n",
      "\n",
      "        current_costs[p_id] = path_cost\n",
      "\n",
      "    eta = 0.0\n",
      "\n",
      "    max_iteration = 300\n",
      "    gradient = 1.0\n",
      "    i = 1\n",
      "    while abs(gradient) > 1E-4 and abs(eta) < 2:\n",
      "    # for i in range(1, max_iteration):\n",
      "        normalization = 0.0\n",
      "        for key in current_flows.keys():\n",
      "            current_cost = current_costs[key]\n",
      "            current_flow = current_flows[key]\n",
      "            normalization += (current_flow)*np.exp(-eta*current_cost)\n",
      "            if math.isnan(normalization):\n",
      "                print 'GOT NANE'\n",
      "\n",
      "        if normalization < 1E-15:\n",
      "            print 'NORMALIZATION IS ZERO'\n",
      "            # print normalization\n",
      "            # print current_costs\n",
      "            print current_flows\n",
      "\n",
      "        x_i_sum = 0.0\n",
      "        for p_id in path_ids:\n",
      "            current_flow = current_flows[p_id]\n",
      "            temp = (current_flow)*np.exp(-eta*current_costs[p_id])/normalization\n",
      "            if math.isnan(temp):\n",
      "                print 'GOT NAN FOR TEMP'\n",
      "                print -eta*current_costs[p_id]\n",
      "            x_i_sum += temp*current_costs[p_id]\n",
      "\n",
      "        x_i_bar_sum = 0.0\n",
      "        for p_id in path_ids:\n",
      "            x_i_bar_sum += next_flows[p_id]*current_costs[p_id]\n",
      "\n",
      "        gradient = x_i_bar_sum - x_i_sum\n",
      "        # print abs(gradient)\n",
      "\n",
      "        eta = eta - gradient/(10)\n",
      "        i += 1\n",
      "\n",
      "    etas.append(eta)\n",
      "    gradients.append(gradient)\n",
      "    print turn.iteration"
     ],
     "language": "python",
     "outputs": [
      {
       "output_type": "stream",
       "stream": "stdout",
       "text": [
        "0\n",
        "1\n",
        "2"
       ]
      },
      {
       "output_type": "stream",
       "stream": "stdout",
       "text": [
        "\n",
        "3"
       ]
      },
      {
       "output_type": "stream",
       "stream": "stdout",
       "text": [
        "\n",
        "4"
       ]
      },
      {
       "output_type": "stream",
       "stream": "stdout",
       "text": [
        "\n",
        "5"
       ]
      },
      {
       "output_type": "stream",
       "stream": "stdout",
       "text": [
        "\n",
        "6"
       ]
      },
      {
       "output_type": "stream",
       "stream": "stdout",
       "text": [
        "\n",
        "7"
       ]
      },
      {
       "output_type": "stream",
       "stream": "stdout",
       "text": [
        "\n",
        "8"
       ]
      },
      {
       "output_type": "stream",
       "stream": "stdout",
       "text": [
        "\n",
        "9"
       ]
      },
      {
       "output_type": "stream",
       "stream": "stdout",
       "text": [
        "\n",
        "10"
       ]
      },
      {
       "output_type": "stream",
       "stream": "stdout",
       "text": [
        "\n",
        "11"
       ]
      },
      {
       "output_type": "stream",
       "stream": "stdout",
       "text": [
        "\n",
        "12"
       ]
      },
      {
       "output_type": "stream",
       "stream": "stdout",
       "text": [
        "\n",
        "13"
       ]
      },
      {
       "output_type": "stream",
       "stream": "stdout",
       "text": [
        "\n",
        "14"
       ]
      },
      {
       "output_type": "stream",
       "stream": "stdout",
       "text": [
        "\n",
        "15"
       ]
      },
      {
       "output_type": "stream",
       "stream": "stdout",
       "text": [
        "\n",
        "16"
       ]
      },
      {
       "output_type": "stream",
       "stream": "stdout",
       "text": [
        "\n",
        "17"
       ]
      },
      {
       "output_type": "stream",
       "stream": "stdout",
       "text": [
        "\n",
        "18"
       ]
      },
      {
       "output_type": "stream",
       "stream": "stdout",
       "text": [
        "\n",
        "19"
       ]
      },
      {
       "output_type": "stream",
       "stream": "stdout",
       "text": [
        "\n",
        "20"
       ]
      },
      {
       "output_type": "stream",
       "stream": "stdout",
       "text": [
        "\n",
        "21"
       ]
      },
      {
       "output_type": "stream",
       "stream": "stdout",
       "text": [
        "\n",
        "22"
       ]
      },
      {
       "output_type": "stream",
       "stream": "stdout",
       "text": [
        "\n",
        "23"
       ]
      },
      {
       "output_type": "stream",
       "stream": "stdout",
       "text": [
        "\n",
        "24"
       ]
      },
      {
       "output_type": "stream",
       "stream": "stdout",
       "text": [
        "\n",
        "25"
       ]
      },
      {
       "output_type": "stream",
       "stream": "stdout",
       "text": [
        "\n",
        "26"
       ]
      },
      {
       "output_type": "stream",
       "stream": "stdout",
       "text": [
        "\n",
        "27"
       ]
      },
      {
       "output_type": "stream",
       "stream": "stdout",
       "text": [
        "\n",
        "28"
       ]
      },
      {
       "output_type": "stream",
       "stream": "stdout",
       "text": [
        "\n",
        "29"
       ]
      },
      {
       "output_type": "stream",
       "stream": "stdout",
       "text": [
        "\n"
       ]
      }
     ],
     "prompt_number": 154
    },
    {
     "cell_type": "code",
     "collapsed": false,
     "input": [
      "np.exp(-752.480838845)"
     ],
     "language": "python",
     "outputs": [
      {
       "output_type": "pyout",
       "prompt_number": 111,
       "text": [
        "0.0"
       ]
      }
     ],
     "prompt_number": 111
    },
    {
     "cell_type": "code",
     "collapsed": false,
     "input": [
      "plt.plot(range(len(gradients)), gradients)\n",
      "plt.title(\"Gradient vs. iteration\")\n",
      "plt.xlabel(\"Iteration\")\n",
      "plt.ylabel(\"Gradient\")"
     ],
     "language": "python",
     "outputs": [
      {
       "output_type": "pyout",
       "prompt_number": 169,
       "text": [
        "<matplotlib.text.Text at 0x10a1909d0>"
       ]
      },
      {
       "output_type": "display_data",
       "png": "[encoded data removed]",
       "text": [
        "<matplotlib.figure.Figure at 0x10a23db10>"
       ]
      }
     ],
     "prompt_number": 169
    },
    {
     "cell_type": "code",
     "collapsed": true,
     "input": [
      "gradients"
     ],
     "language": "python",
     "outputs": [
      {
       "output_type": "pyout",
       "prompt_number": 156,
       "text": [
        "[-9.2416148326890379e-05,\n",
        " -9.8056093503551267e-05,\n",
        " -9.1579503902039505e-05,\n",
        " -9.897104246636701e-05,\n",
        " -0.067244490632938358,\n",
        " -9.2288683172014885e-05,\n",
        " -9.4908225395151646e-05,\n",
        " 0.0,\n",
        " -9.9461022843527758e-05,\n",
        " -9.9898212535975972e-05,\n",
        " -9.3464908863083451e-05,\n",
        " 9.7258201011918288e-05,\n",
        " -9.9850174453131046e-05,\n",
        " -9.9791740939991769e-05,\n",
        " 0.0,\n",
        " -9.9451210012091451e-05,\n",
        " -9.9817080442932138e-05,\n",
        " -9.9845655473274064e-05,\n",
        " -9.829792102333812e-05,\n",
        " 6.2172489379008766e-15,\n",
        " 5.3290705182007514e-15,\n",
        " -9.9940324525427116e-05,\n",
        " -9.7467292034636444e-05,\n",
        " -0.019360403658439829,\n",
        " -9.9508001104808841e-05,\n",
        " 0.0,\n",
        " -9.9217268104467848e-05,\n",
        " 9.9650454480126882e-05,\n",
        " -9.8573411627000951e-05,\n",
        " 0.0]"
       ]
      }
     ],
     "prompt_number": 156
    },
    {
     "cell_type": "code",
     "collapsed": true,
     "input": [
      "etas"
     ],
     "language": "python",
     "outputs": [
      {
       "output_type": "pyout",
       "prompt_number": 157,
       "text": [
        "[0.052945013758230977,\n",
        " 0.73141813392897836,\n",
        " 0.30750794962096767,\n",
        " 0.55620411074532428,\n",
        " 2.0054038658245128,\n",
        " 0.67691813056081473,\n",
        " 0.48779920216312361,\n",
        " 0.0,\n",
        " 0.32139904246701423,\n",
        " 0.9721866302790062,\n",
        " 0.052866060009654013,\n",
        " -0.50539219223638465,\n",
        " 0.84949864976684697,\n",
        " 0.19995648304940777,\n",
        " 0.0,\n",
        " 0.35451716952567947,\n",
        " 0.34059851661606227,\n",
        " 0.067012423608085459,\n",
        " 0.038666482138598933,\n",
        " -6.2172489379008762e-16,\n",
        " -5.3290705182007512e-16,\n",
        " 0.24913855834065704,\n",
        " 0.1325990219783188,\n",
        " 2.0014076974495607,\n",
        " 1.2596408207690111,\n",
        " 0.0,\n",
        " 0.23249289534533824,\n",
        " -0.084500254739212771,\n",
        " 0.28398708898049041,\n",
        " 0.0]"
       ]
      }
     ],
     "prompt_number": 157
    },
    {
     "cell_type": "code",
     "collapsed": false,
     "input": [
      "plt.plot(range(len(etas)), etas)\n",
      "plt.title(\"Learning Rate vs. iteration\")\n",
      "plt.xlabel(\"Iteration\")\n",
      "plt.ylabel(\"Learning Rate\")"
     ],
     "language": "python",
     "outputs": [
      {
       "output_type": "pyout",
       "prompt_number": 170,
       "text": [
        "<matplotlib.text.Text at 0x108f1d710>"
       ]
      },
      {
       "output_type": "display_data",
       "png": "[encoded data removed]",
       "text": [
        "<matplotlib.figure.Figure at 0x108c83290>"
       ]
      }
     ],
     "prompt_number": 170
    },
    {
     "cell_type": "code",
     "collapsed": false,
     "input": [],
     "language": "python",
     "outputs": []
    }
   ]
  }
 ]
}