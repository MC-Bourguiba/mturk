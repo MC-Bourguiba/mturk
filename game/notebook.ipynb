{
 "metadata": {
  "name": "",
  "signature": "sha256:78899958fcb845e279f29f58859e404a26b95efddbb4be9297f156f06ed5a68c"
 },
 "nbformat": 3,
 "nbformat_minor": 0,
 "worksheets": [
  {
   "cells": [
    {
     "cell_type": "code",
     "collapsed": false,
     "input": [
      "%matplotlib inline"
     ],
     "language": "python",
     "outputs": [],
     "prompt_number": 1
    },
    {
     "cell_type": "code",
     "collapsed": false,
     "input": [
      "from graph.models import *"
     ],
     "language": "python",
     "outputs": [],
     "prompt_number": 2
    },
    {
     "cell_type": "code",
     "collapsed": false,
     "input": [
      "import matplotlib\n",
      "import numpy as np\n",
      "import matplotlib.pyplot as plt"
     ],
     "language": "python",
     "outputs": [],
     "prompt_number": 3
    },
    {
     "cell_type": "code",
     "collapsed": false,
     "input": [
      "import django\n",
      "django.setup()"
     ],
     "language": "python",
     "outputs": [],
     "prompt_number": 4
    },
    {
     "cell_type": "code",
     "collapsed": false,
     "input": [
      "g = Game.objects.all()[0]"
     ],
     "language": "python",
     "outputs": [],
     "prompt_number": 5
    },
    {
     "cell_type": "code",
     "collapsed": false,
     "input": [
      "p1 = g.player_set.all()[0]"
     ],
     "language": "python",
     "outputs": [],
     "prompt_number": 6
    },
    {
     "cell_type": "code",
     "collapsed": false,
     "input": [
      "p1"
     ],
     "language": "python",
     "outputs": [
      {
       "output_type": "pyout",
       "prompt_number": 7,
       "text": [
        "<Player: DonkeyKong>"
       ]
      }
     ],
     "prompt_number": 7
    },
    {
     "cell_type": "code",
     "collapsed": false,
     "input": [
      "eta = 2.0"
     ],
     "language": "python",
     "outputs": [],
     "prompt_number": 8
    },
    {
     "cell_type": "code",
     "collapsed": false,
     "input": [
      "turn = GameTurn.objects.all()[0]"
     ],
     "language": "python",
     "outputs": [],
     "prompt_number": 9
    },
    {
     "cell_type": "code",
     "collapsed": false,
     "input": [
      "turn.graph_cost.edge_costs.all()"
     ],
     "language": "python",
     "outputs": [
      {
       "output_type": "pyout",
       "prompt_number": 10,
       "text": [
        "[<EdgeCost: 1.5>, <EdgeCost: 2.33333333333>, <EdgeCost: 1.91666666667>, <EdgeCost: 0.791666666667>, <EdgeCost: 1.66666666667>, <EdgeCost: 4.66666666667>, <EdgeCost: 1.58333333333>, <EdgeCost: 2.41666666667>, <EdgeCost: 0.5>, <EdgeCost: 1.83333333333>, <EdgeCost: 2.33333333333>, <EdgeCost: 1.0>, <EdgeCost: 1.08333333333>]"
       ]
      }
     ],
     "prompt_number": 10
    },
    {
     "cell_type": "code",
     "collapsed": false,
     "input": [
      "t1 = GameTurn.objects.all()[0]"
     ],
     "language": "python",
     "outputs": [],
     "prompt_number": 11
    },
    {
     "cell_type": "code",
     "collapsed": false,
     "input": [
      "fd = FlowDistribution.objects.get(player=p1, turn=t1)"
     ],
     "language": "python",
     "outputs": [],
     "prompt_number": 12
    },
    {
     "cell_type": "code",
     "collapsed": false,
     "input": [
      "pa = fd.path_assignments.all()"
     ],
     "language": "python",
     "outputs": [],
     "prompt_number": 13
    },
    {
     "cell_type": "code",
     "collapsed": false,
     "input": [
      "pfa = pa.all()[0]"
     ],
     "language": "python",
     "outputs": [],
     "prompt_number": 14
    },
    {
     "cell_type": "code",
     "collapsed": false,
     "input": [
      "pfa.path"
     ],
     "language": "python",
     "outputs": [
      {
       "output_type": "pyout",
       "prompt_number": 15,
       "text": [
        "<Path: 1['from: 1 to: 3', 'from: 3 to: 5', 'from: 5 to: 8']>"
       ]
      }
     ],
     "prompt_number": 15
    },
    {
     "cell_type": "code",
     "collapsed": false,
     "input": [
      "e1 = pfa.path.edges.all()[0]"
     ],
     "language": "python",
     "outputs": [],
     "prompt_number": 16
    },
    {
     "cell_type": "code",
     "collapsed": false,
     "input": [
      "p1.player_model"
     ],
     "language": "python",
     "outputs": [
      {
       "output_type": "pyout",
       "prompt_number": 17,
       "text": [
        "<PlayerModel: m1>"
       ]
      }
     ],
     "prompt_number": 17
    },
    {
     "cell_type": "code",
     "collapsed": false,
     "input": [
      "path_ids = list(Path.objects.filter(player_model=p1.player_model).values_list('id', flat=True))"
     ],
     "language": "python",
     "outputs": [],
     "prompt_number": 18
    },
    {
     "cell_type": "code",
     "collapsed": false,
     "input": [
      "path_ids"
     ],
     "language": "python",
     "outputs": [
      {
       "output_type": "pyout",
       "prompt_number": 19,
       "text": [
        "[1, 2, 3, 4]"
       ]
      }
     ],
     "prompt_number": 19
    },
    {
     "cell_type": "code",
     "collapsed": false,
     "input": [
      "epsilon = 0.00000001\n",
      "\n",
      "gradients = []\n",
      "etas = []\n",
      "for turn, next_turn in zip(GameTurn.objects.all(), GameTurn.objects.all()[1:]):\n",
      "    if next_turn.graph_cost is None:\n",
      "        continue\n",
      "\n",
      "    e_costs = turn.graph_cost.edge_costs\n",
      "\n",
      "    fd = FlowDistribution.objects.get(player=p1, turn=turn)\n",
      "    fd_next = FlowDistribution.objects.get(player=p1, turn=next_turn)\n",
      "\n",
      "    current_flows = dict()\n",
      "    current_costs = dict()\n",
      "\n",
      "    next_flows = dict()\n",
      "\n",
      "    for p_id in path_ids:\n",
      "        path = Path.objects.get(id=p_id)\n",
      "\n",
      "        flow = fd.path_assignments.get(path=path).flow\n",
      "        current_flows[p_id] = flow\n",
      "        \n",
      "        next_flow = fd_next.path_assignments.get(path=path).flow\n",
      "        next_flows[p_id]    = next_flow\n",
      "\n",
      "        t_cost = 0\n",
      "        for e in path.edges.all():\n",
      "            t_cost += e_costs.get(edge=e).cost\n",
      "\n",
      "        current_costs[p_id] = t_cost\n",
      "\n",
      "\n",
      "    normalization = 0.0\n",
      "    for key in current_flows.keys():\n",
      "        current_cost = current_costs[key]\n",
      "        current_flow = current_flows[key]\n",
      "        normalization += (current_flow+epsilon)*np.exp(-eta*current_cost)\n",
      "\n",
      "    x_i = dict()\n",
      "\n",
      "    x_i_sum = 0.0\n",
      "    for p_id in path_ids:\n",
      "        current_flow = current_flows[p_id]\n",
      "        x_i[p_id] = (current_flow+epsilon)*np.exp(-eta*current_costs[p_id])/normalization\n",
      "        x_i_sum += x_i[p_id]*current_costs[p_id]\n",
      "\n",
      "    x_i_bar_sum = 0.0\n",
      "    for p_id in path_ids:\n",
      "        x_i_bar_sum += next_flows[p_id]*current_costs[p_id]\n",
      "\n",
      "    gradient = x_i_bar_sum - x_i_sum\n",
      "    gradients.append(gradient)\n",
      "\n",
      "    eta = eta - gradient/(next_turn.iteration)\n",
      "    etas.append(eta)"
     ],
     "language": "python",
     "outputs": [],
     "prompt_number": 40
    },
    {
     "cell_type": "code",
     "collapsed": false,
     "input": [
      "plt.plot(range(len(gradients)), gradients)\n",
      "plt.title(\"Gradient vs. iteration\")\n",
      "plt.xlabel(\"Iteration\")\n",
      "plt.ylabel(\"Gradient\")"
     ],
     "language": "python",
     "outputs": [
      {
       "output_type": "pyout",
       "prompt_number": 41,
       "text": [
        "<matplotlib.text.Text at 0x10a0bb290>"
       ]
      },
      {
       "output_type": "display_data",
       "png": "[encoded data removed]",
       "text": [
        "<matplotlib.figure.Figure at 0x10aa94b90>"
       ]
      }
     ],
     "prompt_number": 41
    },
    {
     "cell_type": "code",
     "collapsed": false,
     "input": [
      "plt.plot(range(len(etas)), etas)\n",
      "plt.title(\"Learning Rate vs. iteration\")\n",
      "plt.xlabel(\"Iteration\")\n",
      "plt.ylabel(\"Learning Rate\")"
     ],
     "language": "python",
     "outputs": [
      {
       "output_type": "pyout",
       "prompt_number": 42,
       "text": [
        "<matplotlib.text.Text at 0x10aa80610>"
       ]
      },
      {
       "output_type": "display_data",
       "png": "[encoded data removed]",
       "text": [
        "<matplotlib.figure.Figure at 0x10ac36a10>"
       ]
      }
     ],
     "prompt_number": 42
    },
    {
     "cell_type": "code",
     "collapsed": false,
     "input": [],
     "language": "python",
     "outputs": []
    }
   ]
  }
 ]
}