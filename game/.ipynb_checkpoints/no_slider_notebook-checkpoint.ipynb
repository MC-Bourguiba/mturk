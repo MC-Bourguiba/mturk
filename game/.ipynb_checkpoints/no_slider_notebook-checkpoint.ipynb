{
 "metadata": {
  "name": "",
  "signature": "sha256:fd29708707d28dbf068cc46a3ad4ddd5083e4a300eaf304d6408d2dba83c8c51"
 },
 "nbformat": 3,
 "nbformat_minor": 0,
 "worksheets": []
}