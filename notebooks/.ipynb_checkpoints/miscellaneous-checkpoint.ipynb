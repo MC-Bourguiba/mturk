{
 "metadata": {
  "language": "Julia",
  "name": "",
  "signature": "sha256:596ac37ff297595d5edeb97d85bd00d1fa642f17c9e4764d8e21913a72de4cc7"
 },
 "nbformat": 3,
 "nbformat_minor": 0,
 "worksheets": [
  {
   "cells": [
    {
     "cell_type": "code",
     "collapsed": false,
     "input": [
      "gDict = {u'links[0][target][y]': u'177.88599428958355', \n",
      "         u'nodes[1][id]': u'2', \n",
      "         u'nodes[2][x]': u'558.343188025493', \n",
      "         u'nodes[0][px]': u'465.60476865388296', \n",
      "         u'links[0][target][px]': u'558.1587539583006', \n",
      "         u'nodes[0][weight]': u'0', \n",
      "         u'nodes[2][index]': u'2', \n",
      "         u'links[0][source][px]': u'416.23631154423884', \n",
      "         u'nodes[0][id]': u'1', \n",
      "         u'nodes[2][id]': u'3', \n",
      "         u'links[0][target][weight]': u'1', \n",
      "         u'nodes[2][px]': u'558.1587539583006', \n",
      "         u'links[0][source][x]': u'416.09500476557866', \n",
      "         u'nodes[0][x]': u'465.5616459713414', \n",
      "         u'links[0][target][id]': u'3', \n",
      "         u'nodes[1][y]': u'143.08976323085005', \n",
      "         u'nodes[1][py]': u'143.2177591991029', \n",
      "         u'nodes[1][index]': u'1', \n",
      "         u'nodes[2][weight]': u'1', \n",
      "         u'links[0][target][reflexive]': u'false', \n",
      "         u'nodes[0][reflexive]': u'false', \n",
      "         u'nodes[0][index]': u'0', u'nodes[2][y]': u'177.88599428958355', u'links[0][right]': u'true', u'nodes[0][py]': u'248.84805823698505', u'links[0][target][py]': u'177.93430518078432', u'links[0][source][py]': u'143.2177591991029', u'links[0][source][id]': u'2', u'links[0][source][reflexive]': u'false', u'links[0][source][index]': u'1', u'nodes[1][weight]': u'1', u'nodes[2][py]': u'177.93430518078432', u'links[0][target][x]': u'558.343188025493', u'nodes[0][y]': u'249.02436205874065', u'links[0][source][y]': u'143.08976323085005', u'nodes[1][reflexive]': u'false', u'links[0][left]': u'false', u'nodes[2][reflexive]': u'false', u'nodes[1][x]': u'416.09500476557866', u'links[0][target][index]': u'2', u'nodes[1][px]': u'416.23631154423884', u'links[0][source][weight]': u'1'}"
     ],
     "language": "python",
     "metadata": {},
     "outputs": [],
     "prompt_number": 27
    },
    {
     "cell_type": "code",
     "collapsed": false,
     "input": [
      "gDict = {u'links[0][target][y]': u'132.15912854387437', \n",
      "         u'nodes[1][id]': u'2', \n",
      "         u'nodes[0][px]': u'521.3117546494927', \n",
      "         u'links[0][target][px]': u'438.6882451417412', \n",
      "         u'nodes[0][weight]': u'1', \n",
      "         u'links[0][source][px]': u'521.3117546494927', \n",
      "         u'nodes[0][id]': u'1', \n",
      "         u'links[0][target][weight]': u'1', \n",
      "         u'links[0][source][x]': u'521.3210533803742', \n",
      "         u'nodes[0][x]': u'521.3210533803742', \n",
      "         u'links[0][target][id]': u'2', \n",
      "         u'nodes[1][y]': u'132.15912854387437', \n",
      "         u'nodes[1][py]': u'132.1721448295312', \n",
      "         u'nodes[1][index]': u'1', \n",
      "         u'links[0][target][reflexive]': u'false', \n",
      "         u'nodes[0][reflexive]': u'false', \n",
      "         u'nodes[0][index]': u'0', \n",
      "         u'links[0][right]': u'true', \n",
      "         u'nodes[0][py]': u'247.8278549104559', \n",
      "         u'links[0][target][py]': u'132.1721448295312', \n",
      "         u'links[0][source][py]': u'247.82785491045', \n",
      "         u'links[0][source][id]': u'1', \n",
      "         u'links[0][source][reflexive]': u'false', \n",
      "         u'links[0][source][index]': u'0', \n",
      "         u'links[0][source][y]': u'247.84087119749435', \n",
      "         u'links[0][target][x]': u'438.67894641196915', \n",
      "         u'nodes[0][y]': u'247.84087119749435', \n",
      "         u'nodes[1][weight]': u'1', \n",
      "         u'nodes[1][reflexive]': u'false', \n",
      "         u'links[0][left]': u'false', \n",
      "         u'nodes[1][x]': u'438.67894641196915', \n",
      "         u'links[0][target][index]': u'1', \n",
      "         u'nodes[1][px]': u'438.6882451417412', \n",
      "         u'links[0][source][weight]': u'1'}"
     ],
     "language": "python",
     "metadata": {},
     "outputs": [],
     "prompt_number": 1
    },
    {
     "cell_type": "code",
     "collapsed": false,
     "input": [
      "import re"
     ],
     "language": "python",
     "metadata": {},
     "outputs": [],
     "prompt_number": 28
    },
    {
     "cell_type": "code",
     "collapsed": false,
     "input": [
      "node_str = u'nodes[0][id]'"
     ],
     "language": "python",
     "metadata": {},
     "outputs": [],
     "prompt_number": 29
    },
    {
     "cell_type": "code",
     "collapsed": false,
     "input": [
      "result = re.search(r'nodes\\[(\\d+)\\]\\[id\\]', node_str)"
     ],
     "language": "python",
     "metadata": {},
     "outputs": [],
     "prompt_number": 30
    },
    {
     "cell_type": "code",
     "collapsed": false,
     "input": [
      "result.group(1)"
     ],
     "language": "python",
     "metadata": {},
     "outputs": [
      {
       "metadata": {},
       "output_type": "pyout",
       "prompt_number": 31,
       "text": [
        "u'0'"
       ]
      }
     ],
     "prompt_number": 31
    },
    {
     "cell_type": "code",
     "collapsed": false,
     "input": [
      "nodes = []\n",
      "node_id_pattern = r'nodes\\[(\\d+)\\]\\[id\\]'\n",
      "for key in gDict.keys():\n",
      "    result = re.search(node_id_pattern, key)\n",
      "    if result:\n",
      "        print result.group(1)\n",
      "        nodes.append(int(result.group(1)))\n",
      "\n",
      "print nodes"
     ],
     "language": "python",
     "metadata": {},
     "outputs": [
      {
       "output_type": "stream",
       "stream": "stdout",
       "text": [
        "1\n",
        "0\n",
        "2\n",
        "[1, 0, 2]\n"
       ]
      }
     ],
     "prompt_number": 32
    },
    {
     "cell_type": "code",
     "collapsed": false,
     "input": [
      "from collections import namedtuple"
     ],
     "language": "python",
     "metadata": {},
     "outputs": [],
     "prompt_number": 33
    },
    {
     "cell_type": "code",
     "collapsed": false,
     "input": [
      "EdgeRaw = namedtuple('EdgeRaw', ['source', 'target'])"
     ],
     "language": "python",
     "metadata": {},
     "outputs": [],
     "prompt_number": 34
    },
    {
     "cell_type": "code",
     "collapsed": false,
     "input": [
      "source_pattern = r'links\\[(\\d+)\\]\\[source\\]\\[id\\]'\n",
      "edge_number_pattern = r'links\\[(\\d+)\\].*'\n",
      "edges_number = set()\n",
      "for key in gDict.keys():\n",
      "    result = re.search(edge_number_pattern, key)\n",
      "    if result:\n",
      "        edge_point = int(result.group(1))\n",
      "#         print result.group(1)\n",
      "        edges_number.add(edge_point)\n",
      "    \n",
      "#     result = re.search('.*links.*', key)\n",
      "    \n",
      "#     if result:\n",
      "#         print result.group()\n",
      "#         print gDict[result.group()]\n",
      "#         print '----'"
     ],
     "language": "python",
     "metadata": {},
     "outputs": [],
     "prompt_number": 35
    },
    {
     "cell_type": "code",
     "collapsed": false,
     "input": [
      "nodes"
     ],
     "language": "python",
     "metadata": {},
     "outputs": [
      {
       "metadata": {},
       "output_type": "pyout",
       "prompt_number": 36,
       "text": [
        "[1, 0, 2]"
       ]
      }
     ],
     "prompt_number": 36
    },
    {
     "cell_type": "code",
     "collapsed": false,
     "input": [
      "edges = set()\n",
      "edge_source_key = 'links[%d][target][id]'\n",
      "edge_target_key = 'links[%d][source][id]'\n",
      "for e in edges_number:\n",
      "    source_node = int(gDict[edge_source_key % e]) - 1\n",
      "    target_node = int(gDict[edge_target_key % e]) - 1\n",
      "    print source_node\n",
      "    print target_node\n",
      "    edges.add(EdgeRaw(source_node, target_node))"
     ],
     "language": "python",
     "metadata": {},
     "outputs": [
      {
       "output_type": "stream",
       "stream": "stdout",
       "text": [
        "2\n",
        "1\n"
       ]
      }
     ],
     "prompt_number": 40
    },
    {
     "cell_type": "code",
     "collapsed": false,
     "input": [
      "edges"
     ],
     "language": "python",
     "metadata": {},
     "outputs": [
      {
       "metadata": {},
       "output_type": "pyout",
       "prompt_number": 41,
       "text": [
        "{EdgeRaw(source=2, target=1)}"
       ]
      }
     ],
     "prompt_number": 41
    }
   ],
   "metadata": {}
  }
 ]
}